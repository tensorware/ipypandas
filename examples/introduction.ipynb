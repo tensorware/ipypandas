{
 "cells": [
  {
   "cell_type": "markdown",
   "metadata": {},
   "source": [
    "# Imports"
   ]
  },
  {
   "cell_type": "code",
   "execution_count": 1,
   "metadata": {},
   "outputs": [],
   "source": [
    "import random\n",
    "import string\n",
    "import ipypandas\n",
    "\n",
    "import numpy as np\n",
    "import pandas as pd\n"
   ]
  },
  {
   "cell_type": "code",
   "execution_count": 2,
   "metadata": {},
   "outputs": [],
   "source": [
    "# The numbers of rows to show in a truncated view (when max_rows is exceeded).\n",
    "# Ignored when max_rows is set to None or 0. When set to None, follows the value of max_rows.\n",
    "pd.set_option('display.min_rows', 10)  # [default: 10]\n",
    "\n",
    "# If max_rows is exceeded, switch to truncate view.\n",
    "# Depending on large_repr, objects are either centrally truncated or printed as a summary view.\n",
    "pd.set_option('display.max_rows', 60)  # [default: 60]\n",
    "\n",
    "# The maximum width in characters of a column in the repr of a pandas data structure.\n",
    "# When the column overflows, a “…” placeholder is embedded in the output.\n",
    "pd.set_option('display.max_colwidth', 50)  # [default: 50]\n"
   ]
  },
  {
   "cell_type": "code",
   "execution_count": 3,
   "metadata": {},
   "outputs": [
    {
     "data": {
      "application/vnd.jupyter.widget-view+json": {
       "model_id": "3cc2becfba55480c8629055c7fa04e11",
       "version_major": 2,
       "version_minor": 0
      },
      "text/plain": [
       "           1  0.3333333333333333         A         B\n",
       "0   0.371540            0.480059 -0.183489 -0.333391\n",
       "1   …"
      ]
     },
     "metadata": {},
     "output_type": "display_data"
    }
   ],
   "source": [
    "ipypandas.enable()\n",
    "\n",
    "n = 100\n",
    "df1 = pd.DataFrame(np.random.randn(n, 4), columns=[1, 1/3, 'A', 'B'])\n",
    "\n",
    "styler = df1.style.format({1: lambda x: f'-- {x:.2f} --'})\n",
    "styler.set_caption('Styled table')\n",
    "styler\n"
   ]
  },
  {
   "cell_type": "code",
   "execution_count": 4,
   "metadata": {},
   "outputs": [],
   "source": [
    "def rand_int(low, hi):\n",
    "    while True:\n",
    "        yield random.randint(low, hi)\n",
    "\n",
    "\n",
    "def rand_words(size):\n",
    "    chars = ''.join(random.choice(string.ascii_letters) for x in range(size))\n",
    "    for n in rand_int(3, 10):\n",
    "        if n > len(chars):\n",
    "            break\n",
    "        yield chars[:n]\n",
    "        chars = chars[n::]\n",
    "\n",
    "\n",
    "def rand_sentences(length, count):\n",
    "    return [' '.join(rand_words(random.randint(length, int(length * 5)))) for x in range(count)]\n"
   ]
  },
  {
   "cell_type": "markdown",
   "metadata": {
    "tags": []
   },
   "source": [
    "# DataFrame"
   ]
  },
  {
   "cell_type": "code",
   "execution_count": 5,
   "metadata": {},
   "outputs": [
    {
     "data": {
      "application/vnd.jupyter.widget-view+json": {
       "model_id": "c7d1a86d92f34cc9b78cad663f65065f",
       "version_major": 2,
       "version_minor": 0
      },
      "text/plain": [
       "Empty DataFrame\n",
       "Columns: []\n",
       "Index: []"
      ]
     },
     "metadata": {},
     "output_type": "display_data"
    }
   ],
   "source": [
    "ipypandas.enable()\n",
    "\n",
    "pd.DataFrame()\n"
   ]
  },
  {
   "cell_type": "code",
   "execution_count": 6,
   "metadata": {},
   "outputs": [
    {
     "data": {
      "application/vnd.jupyter.widget-view+json": {
       "model_id": "a07eea552cd942e284823a4cd173fc4b",
       "version_major": 2,
       "version_minor": 0
      },
      "text/plain": [
       "Empty DataFrame\n",
       "Columns: [One, Two]\n",
       "Index: []"
      ]
     },
     "metadata": {},
     "output_type": "display_data"
    }
   ],
   "source": [
    "ipypandas.enable()\n",
    "\n",
    "pd.DataFrame(columns=['One', 'Two'])\n"
   ]
  },
  {
   "cell_type": "code",
   "execution_count": 7,
   "metadata": {
    "tags": []
   },
   "outputs": [
    {
     "data": {
      "application/vnd.jupyter.widget-view+json": {
       "model_id": "7db84f3491b4406b945504aa07a98393",
       "version_major": 2,
       "version_minor": 0
      },
      "text/plain": [
       "                                                  One  \\\n",
       "0                                         QAfahwh MAM…"
      ]
     },
     "metadata": {},
     "output_type": "display_data"
    }
   ],
   "source": [
    "ipypandas.enable()\n",
    "\n",
    "n = 100\n",
    "pd.DataFrame(data={'One': rand_sentences(10, n), 'Two': rand_sentences(30, n), 'Three': rand_sentences(90, n)})\n"
   ]
  },
  {
   "cell_type": "code",
   "execution_count": 8,
   "metadata": {},
   "outputs": [
    {
     "data": {
      "application/vnd.jupyter.widget-view+json": {
       "model_id": "77441787ce0d4b77a9bf409fa64f7318",
       "version_major": 2,
       "version_minor": 0
      },
      "text/plain": [
       "           A         B         C         D\n",
       "0   1.532093 -0.670245 -0.476309  0.672911\n",
       "1   0.460635 -0.081255 -…"
      ]
     },
     "metadata": {},
     "output_type": "display_data"
    }
   ],
   "source": [
    "ipypandas.enable()\n",
    "\n",
    "n = 100\n",
    "df1 = pd.DataFrame(np.random.randn(n, 4), columns=['A', 'B', 'C', 'D'])\n",
    "df1\n"
   ]
  },
  {
   "cell_type": "code",
   "execution_count": 9,
   "metadata": {},
   "outputs": [
    {
     "data": {
      "text/html": [
       "<div>\n",
       "<style scoped>\n",
       "    .dataframe tbody tr th:only-of-type {\n",
       "        vertical-align: middle;\n",
       "    }\n",
       "\n",
       "    .dataframe tbody tr th {\n",
       "        vertical-align: top;\n",
       "    }\n",
       "\n",
       "    .dataframe thead th {\n",
       "        text-align: right;\n",
       "    }\n",
       "</style>\n",
       "<table border=\"1\" class=\"dataframe\">\n",
       "  <thead>\n",
       "    <tr style=\"text-align: right;\">\n",
       "      <th></th>\n",
       "      <th>B</th>\n",
       "      <th>C</th>\n",
       "      <th>D</th>\n",
       "    </tr>\n",
       "    <tr>\n",
       "      <th>A</th>\n",
       "      <th></th>\n",
       "      <th></th>\n",
       "      <th></th>\n",
       "    </tr>\n",
       "  </thead>\n",
       "  <tbody>\n",
       "    <tr>\n",
       "      <th>1.532093</th>\n",
       "      <td>-0.670245</td>\n",
       "      <td>-0.476309</td>\n",
       "      <td>0.672911</td>\n",
       "    </tr>\n",
       "    <tr>\n",
       "      <th>0.460635</th>\n",
       "      <td>-0.081255</td>\n",
       "      <td>-0.604650</td>\n",
       "      <td>1.003692</td>\n",
       "    </tr>\n",
       "    <tr>\n",
       "      <th>0.052858</th>\n",
       "      <td>0.540339</td>\n",
       "      <td>-1.121963</td>\n",
       "      <td>-1.220833</td>\n",
       "    </tr>\n",
       "    <tr>\n",
       "      <th>-0.927485</th>\n",
       "      <td>-0.965864</td>\n",
       "      <td>0.415220</td>\n",
       "      <td>-0.585036</td>\n",
       "    </tr>\n",
       "    <tr>\n",
       "      <th>-0.374035</th>\n",
       "      <td>-1.099607</td>\n",
       "      <td>-2.552333</td>\n",
       "      <td>-0.269131</td>\n",
       "    </tr>\n",
       "    <tr>\n",
       "      <th>...</th>\n",
       "      <td>...</td>\n",
       "      <td>...</td>\n",
       "      <td>...</td>\n",
       "    </tr>\n",
       "    <tr>\n",
       "      <th>-0.288947</th>\n",
       "      <td>-0.560088</td>\n",
       "      <td>-0.623292</td>\n",
       "      <td>0.382247</td>\n",
       "    </tr>\n",
       "    <tr>\n",
       "      <th>0.266374</th>\n",
       "      <td>0.736266</td>\n",
       "      <td>-0.158906</td>\n",
       "      <td>1.660540</td>\n",
       "    </tr>\n",
       "    <tr>\n",
       "      <th>-0.574664</th>\n",
       "      <td>-1.149039</td>\n",
       "      <td>-0.945390</td>\n",
       "      <td>-0.005292</td>\n",
       "    </tr>\n",
       "    <tr>\n",
       "      <th>-0.776619</th>\n",
       "      <td>-2.654561</td>\n",
       "      <td>-0.191405</td>\n",
       "      <td>1.693712</td>\n",
       "    </tr>\n",
       "    <tr>\n",
       "      <th>0.048111</th>\n",
       "      <td>-1.033412</td>\n",
       "      <td>-0.681375</td>\n",
       "      <td>0.905290</td>\n",
       "    </tr>\n",
       "  </tbody>\n",
       "</table>\n",
       "<p>100 rows × 3 columns</p>\n",
       "</div>"
      ],
      "text/plain": [
       "                  B         C         D\n",
       "A                                      \n",
       " 1.532093 -0.670245 -0.476309  0.672911\n",
       " 0.460635 -0.081255 -0.604650  1.003692\n",
       " 0.052858  0.540339 -1.121963 -1.220833\n",
       "-0.927485 -0.965864  0.415220 -0.585036\n",
       "-0.374035 -1.099607 -2.552333 -0.269131\n",
       "...             ...       ...       ...\n",
       "-0.288947 -0.560088 -0.623292  0.382247\n",
       " 0.266374  0.736266 -0.158906  1.660540\n",
       "-0.574664 -1.149039 -0.945390 -0.005292\n",
       "-0.776619 -2.654561 -0.191405  1.693712\n",
       " 0.048111 -1.033412 -0.681375  0.905290\n",
       "\n",
       "[100 rows x 3 columns]"
      ]
     },
     "execution_count": 9,
     "metadata": {},
     "output_type": "execute_result"
    }
   ],
   "source": [
    "ipypandas.disable()\n",
    "\n",
    "df2 = df1.set_index('A')\n",
    "df2\n"
   ]
  },
  {
   "cell_type": "code",
   "execution_count": 10,
   "metadata": {},
   "outputs": [
    {
     "data": {
      "application/vnd.jupyter.widget-view+json": {
       "model_id": "ad659dfab7ed4a9ab245e4e49895be85",
       "version_major": 2,
       "version_minor": 0
      },
      "text/plain": [
       "                  B         C         D\n",
       "A                                      \n",
       " 1.532093 -0.670245 -0.476309 …"
      ]
     },
     "metadata": {},
     "output_type": "display_data"
    }
   ],
   "source": [
    "ipypandas.enable()\n",
    "\n",
    "df2 = df1.set_index('A').head()\n",
    "df2\n"
   ]
  },
  {
   "cell_type": "code",
   "execution_count": 11,
   "metadata": {},
   "outputs": [
    {
     "data": {
      "application/vnd.jupyter.widget-view+json": {
       "model_id": "13e1e3b7d57e441d9719beb78bac1188",
       "version_major": 2,
       "version_minor": 0
      },
      "text/plain": [
       "           A         B         C         D    1    2    3   4    5    6  ...  \\\n",
       "0                             …"
      ]
     },
     "metadata": {},
     "output_type": "display_data"
    }
   ],
   "source": [
    "ipypandas.enable()\n",
    "\n",
    "groups = np.random.randint(0, df1.shape[0], size=(df1.shape[0], 50))\n",
    "df3 = pd.concat([df1, pd.DataFrame(groups)], axis=1).groupby(0).sum()  # .reset_index()\n",
    "df3\n"
   ]
  },
  {
   "cell_type": "code",
   "execution_count": 12,
   "metadata": {},
   "outputs": [
    {
     "data": {
      "text/html": [
       "<div>\n",
       "<style scoped>\n",
       "    .dataframe tbody tr th:only-of-type {\n",
       "        vertical-align: middle;\n",
       "    }\n",
       "\n",
       "    .dataframe tbody tr th {\n",
       "        vertical-align: top;\n",
       "    }\n",
       "\n",
       "    .dataframe thead th {\n",
       "        text-align: right;\n",
       "    }\n",
       "</style>\n",
       "<table border=\"1\" class=\"dataframe\">\n",
       "  <thead>\n",
       "    <tr style=\"text-align: right;\">\n",
       "      <th></th>\n",
       "      <th>A</th>\n",
       "      <th>B</th>\n",
       "      <th>C</th>\n",
       "      <th>D</th>\n",
       "      <th>1</th>\n",
       "      <th>2</th>\n",
       "      <th>3</th>\n",
       "      <th>4</th>\n",
       "      <th>5</th>\n",
       "      <th>6</th>\n",
       "      <th>...</th>\n",
       "      <th>40</th>\n",
       "      <th>41</th>\n",
       "      <th>42</th>\n",
       "      <th>43</th>\n",
       "      <th>44</th>\n",
       "      <th>45</th>\n",
       "      <th>46</th>\n",
       "      <th>47</th>\n",
       "      <th>48</th>\n",
       "      <th>49</th>\n",
       "    </tr>\n",
       "    <tr>\n",
       "      <th>0</th>\n",
       "      <th></th>\n",
       "      <th></th>\n",
       "      <th></th>\n",
       "      <th></th>\n",
       "      <th></th>\n",
       "      <th></th>\n",
       "      <th></th>\n",
       "      <th></th>\n",
       "      <th></th>\n",
       "      <th></th>\n",
       "      <th></th>\n",
       "      <th></th>\n",
       "      <th></th>\n",
       "      <th></th>\n",
       "      <th></th>\n",
       "      <th></th>\n",
       "      <th></th>\n",
       "      <th></th>\n",
       "      <th></th>\n",
       "      <th></th>\n",
       "      <th></th>\n",
       "    </tr>\n",
       "  </thead>\n",
       "  <tbody>\n",
       "    <tr>\n",
       "      <th>0</th>\n",
       "      <td>-0.669717</td>\n",
       "      <td>0.755765</td>\n",
       "      <td>0.375746</td>\n",
       "      <td>2.402832</td>\n",
       "      <td>83</td>\n",
       "      <td>86</td>\n",
       "      <td>66</td>\n",
       "      <td>86</td>\n",
       "      <td>27</td>\n",
       "      <td>11</td>\n",
       "      <td>...</td>\n",
       "      <td>87</td>\n",
       "      <td>7</td>\n",
       "      <td>44</td>\n",
       "      <td>98</td>\n",
       "      <td>64</td>\n",
       "      <td>0</td>\n",
       "      <td>16</td>\n",
       "      <td>99</td>\n",
       "      <td>82</td>\n",
       "      <td>82</td>\n",
       "    </tr>\n",
       "    <tr>\n",
       "      <th>2</th>\n",
       "      <td>-0.414238</td>\n",
       "      <td>0.156375</td>\n",
       "      <td>0.123933</td>\n",
       "      <td>-0.227713</td>\n",
       "      <td>32</td>\n",
       "      <td>52</td>\n",
       "      <td>50</td>\n",
       "      <td>33</td>\n",
       "      <td>68</td>\n",
       "      <td>85</td>\n",
       "      <td>...</td>\n",
       "      <td>0</td>\n",
       "      <td>11</td>\n",
       "      <td>17</td>\n",
       "      <td>4</td>\n",
       "      <td>18</td>\n",
       "      <td>89</td>\n",
       "      <td>81</td>\n",
       "      <td>60</td>\n",
       "      <td>71</td>\n",
       "      <td>36</td>\n",
       "    </tr>\n",
       "    <tr>\n",
       "      <th>4</th>\n",
       "      <td>1.061156</td>\n",
       "      <td>0.236544</td>\n",
       "      <td>0.566134</td>\n",
       "      <td>-0.007367</td>\n",
       "      <td>32</td>\n",
       "      <td>49</td>\n",
       "      <td>95</td>\n",
       "      <td>57</td>\n",
       "      <td>8</td>\n",
       "      <td>71</td>\n",
       "      <td>...</td>\n",
       "      <td>26</td>\n",
       "      <td>91</td>\n",
       "      <td>11</td>\n",
       "      <td>29</td>\n",
       "      <td>66</td>\n",
       "      <td>15</td>\n",
       "      <td>6</td>\n",
       "      <td>13</td>\n",
       "      <td>57</td>\n",
       "      <td>83</td>\n",
       "    </tr>\n",
       "    <tr>\n",
       "      <th>5</th>\n",
       "      <td>1.655005</td>\n",
       "      <td>0.590338</td>\n",
       "      <td>-0.383249</td>\n",
       "      <td>-0.221530</td>\n",
       "      <td>85</td>\n",
       "      <td>137</td>\n",
       "      <td>173</td>\n",
       "      <td>35</td>\n",
       "      <td>108</td>\n",
       "      <td>20</td>\n",
       "      <td>...</td>\n",
       "      <td>110</td>\n",
       "      <td>26</td>\n",
       "      <td>170</td>\n",
       "      <td>102</td>\n",
       "      <td>179</td>\n",
       "      <td>103</td>\n",
       "      <td>173</td>\n",
       "      <td>96</td>\n",
       "      <td>158</td>\n",
       "      <td>130</td>\n",
       "    </tr>\n",
       "    <tr>\n",
       "      <th>8</th>\n",
       "      <td>-1.066628</td>\n",
       "      <td>-0.618388</td>\n",
       "      <td>-2.212641</td>\n",
       "      <td>-0.692607</td>\n",
       "      <td>41</td>\n",
       "      <td>69</td>\n",
       "      <td>27</td>\n",
       "      <td>5</td>\n",
       "      <td>74</td>\n",
       "      <td>3</td>\n",
       "      <td>...</td>\n",
       "      <td>4</td>\n",
       "      <td>40</td>\n",
       "      <td>7</td>\n",
       "      <td>11</td>\n",
       "      <td>78</td>\n",
       "      <td>46</td>\n",
       "      <td>55</td>\n",
       "      <td>21</td>\n",
       "      <td>92</td>\n",
       "      <td>39</td>\n",
       "    </tr>\n",
       "    <tr>\n",
       "      <th>...</th>\n",
       "      <td>...</td>\n",
       "      <td>...</td>\n",
       "      <td>...</td>\n",
       "      <td>...</td>\n",
       "      <td>...</td>\n",
       "      <td>...</td>\n",
       "      <td>...</td>\n",
       "      <td>...</td>\n",
       "      <td>...</td>\n",
       "      <td>...</td>\n",
       "      <td>...</td>\n",
       "      <td>...</td>\n",
       "      <td>...</td>\n",
       "      <td>...</td>\n",
       "      <td>...</td>\n",
       "      <td>...</td>\n",
       "      <td>...</td>\n",
       "      <td>...</td>\n",
       "      <td>...</td>\n",
       "      <td>...</td>\n",
       "      <td>...</td>\n",
       "    </tr>\n",
       "    <tr>\n",
       "      <th>94</th>\n",
       "      <td>2.052281</td>\n",
       "      <td>-0.096004</td>\n",
       "      <td>-1.498053</td>\n",
       "      <td>0.102743</td>\n",
       "      <td>12</td>\n",
       "      <td>26</td>\n",
       "      <td>71</td>\n",
       "      <td>12</td>\n",
       "      <td>91</td>\n",
       "      <td>67</td>\n",
       "      <td>...</td>\n",
       "      <td>93</td>\n",
       "      <td>34</td>\n",
       "      <td>12</td>\n",
       "      <td>16</td>\n",
       "      <td>73</td>\n",
       "      <td>49</td>\n",
       "      <td>14</td>\n",
       "      <td>42</td>\n",
       "      <td>50</td>\n",
       "      <td>19</td>\n",
       "    </tr>\n",
       "    <tr>\n",
       "      <th>95</th>\n",
       "      <td>-0.381975</td>\n",
       "      <td>-0.315281</td>\n",
       "      <td>-1.004510</td>\n",
       "      <td>-0.060617</td>\n",
       "      <td>153</td>\n",
       "      <td>149</td>\n",
       "      <td>180</td>\n",
       "      <td>28</td>\n",
       "      <td>23</td>\n",
       "      <td>170</td>\n",
       "      <td>...</td>\n",
       "      <td>51</td>\n",
       "      <td>53</td>\n",
       "      <td>68</td>\n",
       "      <td>133</td>\n",
       "      <td>168</td>\n",
       "      <td>69</td>\n",
       "      <td>138</td>\n",
       "      <td>81</td>\n",
       "      <td>55</td>\n",
       "      <td>149</td>\n",
       "    </tr>\n",
       "    <tr>\n",
       "      <th>96</th>\n",
       "      <td>0.135321</td>\n",
       "      <td>-0.712700</td>\n",
       "      <td>1.036099</td>\n",
       "      <td>-1.035549</td>\n",
       "      <td>26</td>\n",
       "      <td>85</td>\n",
       "      <td>71</td>\n",
       "      <td>58</td>\n",
       "      <td>71</td>\n",
       "      <td>36</td>\n",
       "      <td>...</td>\n",
       "      <td>22</td>\n",
       "      <td>73</td>\n",
       "      <td>21</td>\n",
       "      <td>90</td>\n",
       "      <td>53</td>\n",
       "      <td>52</td>\n",
       "      <td>89</td>\n",
       "      <td>31</td>\n",
       "      <td>14</td>\n",
       "      <td>83</td>\n",
       "    </tr>\n",
       "    <tr>\n",
       "      <th>98</th>\n",
       "      <td>-1.027457</td>\n",
       "      <td>1.264647</td>\n",
       "      <td>-0.540550</td>\n",
       "      <td>-0.960649</td>\n",
       "      <td>58</td>\n",
       "      <td>12</td>\n",
       "      <td>59</td>\n",
       "      <td>67</td>\n",
       "      <td>64</td>\n",
       "      <td>70</td>\n",
       "      <td>...</td>\n",
       "      <td>51</td>\n",
       "      <td>63</td>\n",
       "      <td>34</td>\n",
       "      <td>74</td>\n",
       "      <td>70</td>\n",
       "      <td>77</td>\n",
       "      <td>58</td>\n",
       "      <td>37</td>\n",
       "      <td>62</td>\n",
       "      <td>90</td>\n",
       "    </tr>\n",
       "    <tr>\n",
       "      <th>99</th>\n",
       "      <td>-0.271988</td>\n",
       "      <td>-0.968146</td>\n",
       "      <td>2.810545</td>\n",
       "      <td>0.350610</td>\n",
       "      <td>76</td>\n",
       "      <td>72</td>\n",
       "      <td>51</td>\n",
       "      <td>82</td>\n",
       "      <td>16</td>\n",
       "      <td>66</td>\n",
       "      <td>...</td>\n",
       "      <td>54</td>\n",
       "      <td>43</td>\n",
       "      <td>35</td>\n",
       "      <td>74</td>\n",
       "      <td>72</td>\n",
       "      <td>97</td>\n",
       "      <td>82</td>\n",
       "      <td>89</td>\n",
       "      <td>50</td>\n",
       "      <td>31</td>\n",
       "    </tr>\n",
       "  </tbody>\n",
       "</table>\n",
       "<p>65 rows × 53 columns</p>\n",
       "</div>"
      ],
      "text/plain": [
       "           A         B         C         D    1    2    3   4    5    6  ...  \\\n",
       "0                                                                        ...   \n",
       "0  -0.669717  0.755765  0.375746  2.402832   83   86   66  86   27   11  ...   \n",
       "2  -0.414238  0.156375  0.123933 -0.227713   32   52   50  33   68   85  ...   \n",
       "4   1.061156  0.236544  0.566134 -0.007367   32   49   95  57    8   71  ...   \n",
       "5   1.655005  0.590338 -0.383249 -0.221530   85  137  173  35  108   20  ...   \n",
       "8  -1.066628 -0.618388 -2.212641 -0.692607   41   69   27   5   74    3  ...   \n",
       "..       ...       ...       ...       ...  ...  ...  ...  ..  ...  ...  ...   \n",
       "94  2.052281 -0.096004 -1.498053  0.102743   12   26   71  12   91   67  ...   \n",
       "95 -0.381975 -0.315281 -1.004510 -0.060617  153  149  180  28   23  170  ...   \n",
       "96  0.135321 -0.712700  1.036099 -1.035549   26   85   71  58   71   36  ...   \n",
       "98 -1.027457  1.264647 -0.540550 -0.960649   58   12   59  67   64   70  ...   \n",
       "99 -0.271988 -0.968146  2.810545  0.350610   76   72   51  82   16   66  ...   \n",
       "\n",
       "     40  41   42   43   44   45   46  47   48   49  \n",
       "0                                                   \n",
       "0    87   7   44   98   64    0   16  99   82   82  \n",
       "2     0  11   17    4   18   89   81  60   71   36  \n",
       "4    26  91   11   29   66   15    6  13   57   83  \n",
       "5   110  26  170  102  179  103  173  96  158  130  \n",
       "8     4  40    7   11   78   46   55  21   92   39  \n",
       "..  ...  ..  ...  ...  ...  ...  ...  ..  ...  ...  \n",
       "94   93  34   12   16   73   49   14  42   50   19  \n",
       "95   51  53   68  133  168   69  138  81   55  149  \n",
       "96   22  73   21   90   53   52   89  31   14   83  \n",
       "98   51  63   34   74   70   77   58  37   62   90  \n",
       "99   54  43   35   74   72   97   82  89   50   31  \n",
       "\n",
       "[65 rows x 53 columns]"
      ]
     },
     "execution_count": 12,
     "metadata": {},
     "output_type": "execute_result"
    }
   ],
   "source": [
    "ipypandas.disable()\n",
    "\n",
    "df3\n"
   ]
  },
  {
   "cell_type": "code",
   "execution_count": 13,
   "metadata": {},
   "outputs": [
    {
     "data": {
      "application/vnd.jupyter.widget-view+json": {
       "model_id": "fe0aa7a4304b4e5388a8d19a155895a8",
       "version_major": 2,
       "version_minor": 0
      },
      "text/plain": [
       "Model:                Decision Tree            Regression            Random  \\\n",
       "Predicted:                   Tu…"
      ]
     },
     "metadata": {},
     "output_type": "display_data"
    }
   ],
   "source": [
    "ipypandas.enable()\n",
    "\n",
    "df4 = pd.DataFrame([[38.0, 2.0, 18.0, 22.0, 21, np.nan], [19, 439, 6, 452, 226, 232]],\n",
    "                   index=pd.Index(['Tumour (Positive)', 'Non-Tumour (Negative)'], name='Actual Label:'),\n",
    "                   columns=pd.MultiIndex.from_product([['Decision Tree', 'Regression', 'Random'], ['Tumour', 'Non-Tumour']], names=['Model:', 'Predicted:']))\n",
    "df4\n"
   ]
  },
  {
   "cell_type": "code",
   "execution_count": 14,
   "metadata": {},
   "outputs": [
    {
     "data": {
      "application/vnd.jupyter.widget-view+json": {
       "model_id": "0738eb930dbf4e5da9cec87562d3cfa6",
       "version_major": 2,
       "version_minor": 0
      },
      "text/plain": [
       "           A         B         C         D    1    2    3   4    5    6  ...  \\\n",
       "0                             …"
      ]
     },
     "metadata": {},
     "output_type": "display_data"
    }
   ],
   "source": [
    "df5 = ipypandas.PandasWidget(df=df3)\n",
    "df5\n"
   ]
  },
  {
   "cell_type": "code",
   "execution_count": 15,
   "metadata": {},
   "outputs": [
    {
     "name": "stdout",
     "output_type": "stream",
     "text": [
      "           A         B         C         D    1    2    3   4    5    6  ...  \\\n",
      "0                                                                        ...   \n",
      "0  -0.669717  0.755765  0.375746  2.402832   83   86   66  86   27   11  ...   \n",
      "2  -0.414238  0.156375  0.123933 -0.227713   32   52   50  33   68   85  ...   \n",
      "4   1.061156  0.236544  0.566134 -0.007367   32   49   95  57    8   71  ...   \n",
      "5   1.655005  0.590338 -0.383249 -0.221530   85  137  173  35  108   20  ...   \n",
      "8  -1.066628 -0.618388 -2.212641 -0.692607   41   69   27   5   74    3  ...   \n",
      "..       ...       ...       ...       ...  ...  ...  ...  ..  ...  ...  ...   \n",
      "94  2.052281 -0.096004 -1.498053  0.102743   12   26   71  12   91   67  ...   \n",
      "95 -0.381975 -0.315281 -1.004510 -0.060617  153  149  180  28   23  170  ...   \n",
      "96  0.135321 -0.712700  1.036099 -1.035549   26   85   71  58   71   36  ...   \n",
      "98 -1.027457  1.264647 -0.540550 -0.960649   58   12   59  67   64   70  ...   \n",
      "99 -0.271988 -0.968146  2.810545  0.350610   76   72   51  82   16   66  ...   \n",
      "\n",
      "     40  41   42   43   44   45   46  47   48   49  \n",
      "0                                                   \n",
      "0    87   7   44   98   64    0   16  99   82   82  \n",
      "2     0  11   17    4   18   89   81  60   71   36  \n",
      "4    26  91   11   29   66   15    6  13   57   83  \n",
      "5   110  26  170  102  179  103  173  96  158  130  \n",
      "8     4  40    7   11   78   46   55  21   92   39  \n",
      "..  ...  ..  ...  ...  ...  ...  ...  ..  ...  ...  \n",
      "94   93  34   12   16   73   49   14  42   50   19  \n",
      "95   51  53   68  133  168   69  138  81   55  149  \n",
      "96   22  73   21   90   53   52   89  31   14   83  \n",
      "98   51  63   34   74   70   77   58  37   62   90  \n",
      "99   54  43   35   74   72   97   82  89   50   31  \n",
      "\n",
      "[65 rows x 53 columns]\n"
     ]
    }
   ],
   "source": [
    "print(df5)\n"
   ]
  }
 ],
 "metadata": {
  "kernelspec": {
   "display_name": "Python 3 (ipykernel)",
   "language": "python",
   "name": "python3"
  },
  "language_info": {
   "codemirror_mode": {
    "name": "ipython",
    "version": 3
   },
   "file_extension": ".py",
   "mimetype": "text/x-python",
   "name": "python",
   "nbconvert_exporter": "python",
   "pygments_lexer": "ipython3",
   "version": "3.9.12"
  }
 },
 "nbformat": 4,
 "nbformat_minor": 4
}
