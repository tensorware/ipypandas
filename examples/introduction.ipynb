{
 "cells": [
  {
   "cell_type": "markdown",
   "metadata": {},
   "source": [
    "# Imports"
   ]
  },
  {
   "cell_type": "code",
   "execution_count": 16,
   "metadata": {},
   "outputs": [],
   "source": [
    "import random\n",
    "import string\n",
    "import ipypandas\n",
    "\n",
    "import numpy as np\n",
    "import pandas as pd\n"
   ]
  },
  {
   "cell_type": "code",
   "execution_count": 17,
   "metadata": {},
   "outputs": [],
   "source": [
    "# The numbers of rows to show in a truncated view (when max_rows is exceeded).\n",
    "# Ignored when max_rows is set to None or 0. When set to None, follows the value of max_rows.\n",
    "pd.set_option('display.min_rows', 10)  # [default: 10]\n",
    "\n",
    "# If max_rows is exceeded, switch to truncate view.\n",
    "# Depending on large_repr, objects are either centrally truncated or printed as a summary view.\n",
    "pd.set_option('display.max_rows', 60)  # [default: 60]\n",
    "\n",
    "# The maximum width in characters of a column in the repr of a pandas data structure.\n",
    "# When the column overflows, a “…” placeholder is embedded in the output.\n",
    "pd.set_option('display.max_colwidth', 50)  # [default: 50]\n"
   ]
  },
  {
   "cell_type": "code",
   "execution_count": 18,
   "metadata": {},
   "outputs": [
    {
     "data": {
      "application/vnd.jupyter.widget-view+json": {
       "model_id": "aee29c4ad60f4f26befe62671f1e8a18",
       "version_major": 2,
       "version_minor": 0
      },
      "text/plain": [
       "<class 'ipypandas.widget.PandasWidget'>: 1000 rows × 4 columns"
      ]
     },
     "metadata": {},
     "output_type": "display_data"
    }
   ],
   "source": [
    "ipypandas.enable()\n",
    "\n",
    "n = 1000\n",
    "df1 = pd.DataFrame(np.random.randn(n, 4), columns=[1, 1/3, 'A', 'B'])\n",
    "\n",
    "styler = df1.style.format({1: lambda x: f'-- {x:.2f} --'})\n",
    "styler.set_caption('Styled table')\n",
    "styler\n"
   ]
  },
  {
   "cell_type": "code",
   "execution_count": 19,
   "metadata": {},
   "outputs": [],
   "source": [
    "def rand_int(low, hi):\n",
    "    while True:\n",
    "        yield random.randint(low, hi)\n",
    "\n",
    "\n",
    "def rand_words(size):\n",
    "    chars = ''.join(random.choice(string.ascii_letters) for x in range(size))\n",
    "    for n in rand_int(3, 10):\n",
    "        if n > len(chars):\n",
    "            break\n",
    "        yield chars[:n]\n",
    "        chars = chars[n::]\n",
    "\n",
    "\n",
    "def rand_sentences(length, count):\n",
    "    return [' '.join(rand_words(random.randint(length, int(length * 5)))) for x in range(count)]\n"
   ]
  },
  {
   "cell_type": "markdown",
   "metadata": {
    "tags": []
   },
   "source": [
    "# DataFrame"
   ]
  },
  {
   "cell_type": "code",
   "execution_count": 20,
   "metadata": {},
   "outputs": [
    {
     "data": {
      "application/vnd.jupyter.widget-view+json": {
       "model_id": "736bad49c27741da8608a0e4e5b056c1",
       "version_major": 2,
       "version_minor": 0
      },
      "text/plain": [
       "<class 'ipypandas.widget.PandasWidget'>: 0 rows × 0 columns"
      ]
     },
     "metadata": {},
     "output_type": "display_data"
    }
   ],
   "source": [
    "ipypandas.enable()\n",
    "\n",
    "pd.DataFrame()\n"
   ]
  },
  {
   "cell_type": "code",
   "execution_count": 21,
   "metadata": {},
   "outputs": [
    {
     "data": {
      "application/vnd.jupyter.widget-view+json": {
       "model_id": "90bc762a2b5b4cc0b9c37de06d3782e8",
       "version_major": 2,
       "version_minor": 0
      },
      "text/plain": [
       "<class 'ipypandas.widget.PandasWidget'>: 0 rows × 2 columns"
      ]
     },
     "metadata": {},
     "output_type": "display_data"
    }
   ],
   "source": [
    "ipypandas.enable()\n",
    "\n",
    "pd.DataFrame(columns=['One', 'Two'])\n"
   ]
  },
  {
   "cell_type": "code",
   "execution_count": 32,
   "metadata": {
    "tags": []
   },
   "outputs": [
    {
     "data": {
      "application/vnd.jupyter.widget-view+json": {
       "model_id": "6600a11737af45d7920236b6c194c070",
       "version_major": 2,
       "version_minor": 0
      },
      "text/plain": [
       "<class 'ipypandas.widget.PandasWidget'>: 5000 rows × 3 columns"
      ]
     },
     "metadata": {},
     "output_type": "display_data"
    }
   ],
   "source": [
    "ipypandas.enable()\n",
    "\n",
    "n = 5000\n",
    "pd.DataFrame(data={'One': rand_sentences(100, n), 'Two': rand_sentences(300, n), 'Three': rand_sentences(200, n)})\n"
   ]
  },
  {
   "cell_type": "code",
   "execution_count": 23,
   "metadata": {},
   "outputs": [
    {
     "data": {
      "application/vnd.jupyter.widget-view+json": {
       "model_id": "355d7ceeed9e40668b8a545f4d3b5730",
       "version_major": 2,
       "version_minor": 0
      },
      "text/plain": [
       "<class 'ipypandas.widget.PandasWidget'>: 400 rows × 4 columns"
      ]
     },
     "metadata": {},
     "output_type": "display_data"
    }
   ],
   "source": [
    "ipypandas.enable()\n",
    "\n",
    "n = 400\n",
    "df1 = pd.DataFrame(np.random.randn(n, 4), columns=['A', 'B', 'C', 'D'])\n",
    "df1\n"
   ]
  },
  {
   "cell_type": "code",
   "execution_count": 24,
   "metadata": {},
   "outputs": [
    {
     "data": {
      "text/html": [
       "<div>\n",
       "<style scoped>\n",
       "    .dataframe tbody tr th:only-of-type {\n",
       "        vertical-align: middle;\n",
       "    }\n",
       "\n",
       "    .dataframe tbody tr th {\n",
       "        vertical-align: top;\n",
       "    }\n",
       "\n",
       "    .dataframe thead th {\n",
       "        text-align: right;\n",
       "    }\n",
       "</style>\n",
       "<table border=\"1\" class=\"dataframe\">\n",
       "  <thead>\n",
       "    <tr style=\"text-align: right;\">\n",
       "      <th></th>\n",
       "      <th>B</th>\n",
       "      <th>C</th>\n",
       "      <th>D</th>\n",
       "    </tr>\n",
       "    <tr>\n",
       "      <th>A</th>\n",
       "      <th></th>\n",
       "      <th></th>\n",
       "      <th></th>\n",
       "    </tr>\n",
       "  </thead>\n",
       "  <tbody>\n",
       "    <tr>\n",
       "      <th>0.259171</th>\n",
       "      <td>-0.860928</td>\n",
       "      <td>0.678770</td>\n",
       "      <td>-1.439743</td>\n",
       "    </tr>\n",
       "    <tr>\n",
       "      <th>1.318785</th>\n",
       "      <td>0.199745</td>\n",
       "      <td>-1.301997</td>\n",
       "      <td>0.652492</td>\n",
       "    </tr>\n",
       "    <tr>\n",
       "      <th>-0.608176</th>\n",
       "      <td>0.066569</td>\n",
       "      <td>-1.617118</td>\n",
       "      <td>0.515468</td>\n",
       "    </tr>\n",
       "    <tr>\n",
       "      <th>0.069489</th>\n",
       "      <td>-0.211075</td>\n",
       "      <td>1.666613</td>\n",
       "      <td>-0.680074</td>\n",
       "    </tr>\n",
       "    <tr>\n",
       "      <th>-0.284245</th>\n",
       "      <td>0.226099</td>\n",
       "      <td>-0.592023</td>\n",
       "      <td>-0.695218</td>\n",
       "    </tr>\n",
       "    <tr>\n",
       "      <th>...</th>\n",
       "      <td>...</td>\n",
       "      <td>...</td>\n",
       "      <td>...</td>\n",
       "    </tr>\n",
       "    <tr>\n",
       "      <th>-1.951468</th>\n",
       "      <td>-0.184175</td>\n",
       "      <td>-0.241867</td>\n",
       "      <td>-0.316396</td>\n",
       "    </tr>\n",
       "    <tr>\n",
       "      <th>0.903814</th>\n",
       "      <td>-0.521973</td>\n",
       "      <td>-0.474422</td>\n",
       "      <td>-0.470979</td>\n",
       "    </tr>\n",
       "    <tr>\n",
       "      <th>1.141882</th>\n",
       "      <td>0.624801</td>\n",
       "      <td>-2.321229</td>\n",
       "      <td>-1.099138</td>\n",
       "    </tr>\n",
       "    <tr>\n",
       "      <th>1.418639</th>\n",
       "      <td>-0.551661</td>\n",
       "      <td>-0.031014</td>\n",
       "      <td>1.634573</td>\n",
       "    </tr>\n",
       "    <tr>\n",
       "      <th>-1.430303</th>\n",
       "      <td>-0.408533</td>\n",
       "      <td>-0.024581</td>\n",
       "      <td>-0.842366</td>\n",
       "    </tr>\n",
       "  </tbody>\n",
       "</table>\n",
       "<p>400 rows × 3 columns</p>\n",
       "</div>"
      ],
      "text/plain": [
       "                  B         C         D\n",
       "A                                      \n",
       " 0.259171 -0.860928  0.678770 -1.439743\n",
       " 1.318785  0.199745 -1.301997  0.652492\n",
       "-0.608176  0.066569 -1.617118  0.515468\n",
       " 0.069489 -0.211075  1.666613 -0.680074\n",
       "-0.284245  0.226099 -0.592023 -0.695218\n",
       "...             ...       ...       ...\n",
       "-1.951468 -0.184175 -0.241867 -0.316396\n",
       " 0.903814 -0.521973 -0.474422 -0.470979\n",
       " 1.141882  0.624801 -2.321229 -1.099138\n",
       " 1.418639 -0.551661 -0.031014  1.634573\n",
       "-1.430303 -0.408533 -0.024581 -0.842366\n",
       "\n",
       "[400 rows x 3 columns]"
      ]
     },
     "execution_count": 24,
     "metadata": {},
     "output_type": "execute_result"
    }
   ],
   "source": [
    "ipypandas.disable()\n",
    "\n",
    "df2 = df1.set_index('A')\n",
    "df2\n"
   ]
  },
  {
   "cell_type": "code",
   "execution_count": 25,
   "metadata": {},
   "outputs": [
    {
     "data": {
      "application/vnd.jupyter.widget-view+json": {
       "model_id": "78e41f3f070f4fa2965a2140ce8401bf",
       "version_major": 2,
       "version_minor": 0
      },
      "text/plain": [
       "<class 'ipypandas.widget.PandasWidget'>: 5 rows × 3 columns"
      ]
     },
     "metadata": {},
     "output_type": "display_data"
    }
   ],
   "source": [
    "ipypandas.enable()\n",
    "\n",
    "df2 = df1.set_index('A').head()\n",
    "df2\n"
   ]
  },
  {
   "cell_type": "code",
   "execution_count": 26,
   "metadata": {},
   "outputs": [
    {
     "data": {
      "application/vnd.jupyter.widget-view+json": {
       "model_id": "d3bfe0d4227f4bbba5c7f5b0800205e2",
       "version_major": 2,
       "version_minor": 0
      },
      "text/plain": [
       "<class 'ipypandas.widget.PandasWidget'>: 266 rows × 53 columns"
      ]
     },
     "metadata": {},
     "output_type": "display_data"
    }
   ],
   "source": [
    "ipypandas.enable()\n",
    "\n",
    "groups = np.random.randint(0, df1.shape[0], size=(df1.shape[0], 50))\n",
    "df3 = pd.concat([df1, pd.DataFrame(groups)], axis=1).groupby(0).sum()  # .reset_index()\n",
    "df3\n"
   ]
  },
  {
   "cell_type": "code",
   "execution_count": 27,
   "metadata": {},
   "outputs": [
    {
     "data": {
      "text/html": [
       "<div>\n",
       "<style scoped>\n",
       "    .dataframe tbody tr th:only-of-type {\n",
       "        vertical-align: middle;\n",
       "    }\n",
       "\n",
       "    .dataframe tbody tr th {\n",
       "        vertical-align: top;\n",
       "    }\n",
       "\n",
       "    .dataframe thead th {\n",
       "        text-align: right;\n",
       "    }\n",
       "</style>\n",
       "<table border=\"1\" class=\"dataframe\">\n",
       "  <thead>\n",
       "    <tr style=\"text-align: right;\">\n",
       "      <th></th>\n",
       "      <th>A</th>\n",
       "      <th>B</th>\n",
       "      <th>C</th>\n",
       "      <th>D</th>\n",
       "      <th>1</th>\n",
       "      <th>2</th>\n",
       "      <th>3</th>\n",
       "      <th>4</th>\n",
       "      <th>5</th>\n",
       "      <th>6</th>\n",
       "      <th>...</th>\n",
       "      <th>40</th>\n",
       "      <th>41</th>\n",
       "      <th>42</th>\n",
       "      <th>43</th>\n",
       "      <th>44</th>\n",
       "      <th>45</th>\n",
       "      <th>46</th>\n",
       "      <th>47</th>\n",
       "      <th>48</th>\n",
       "      <th>49</th>\n",
       "    </tr>\n",
       "    <tr>\n",
       "      <th>0</th>\n",
       "      <th></th>\n",
       "      <th></th>\n",
       "      <th></th>\n",
       "      <th></th>\n",
       "      <th></th>\n",
       "      <th></th>\n",
       "      <th></th>\n",
       "      <th></th>\n",
       "      <th></th>\n",
       "      <th></th>\n",
       "      <th></th>\n",
       "      <th></th>\n",
       "      <th></th>\n",
       "      <th></th>\n",
       "      <th></th>\n",
       "      <th></th>\n",
       "      <th></th>\n",
       "      <th></th>\n",
       "      <th></th>\n",
       "      <th></th>\n",
       "      <th></th>\n",
       "    </tr>\n",
       "  </thead>\n",
       "  <tbody>\n",
       "    <tr>\n",
       "      <th>1</th>\n",
       "      <td>-0.403833</td>\n",
       "      <td>-1.123394</td>\n",
       "      <td>-0.716985</td>\n",
       "      <td>-0.364598</td>\n",
       "      <td>257</td>\n",
       "      <td>72</td>\n",
       "      <td>381</td>\n",
       "      <td>99</td>\n",
       "      <td>107</td>\n",
       "      <td>320</td>\n",
       "      <td>...</td>\n",
       "      <td>80</td>\n",
       "      <td>370</td>\n",
       "      <td>329</td>\n",
       "      <td>100</td>\n",
       "      <td>289</td>\n",
       "      <td>107</td>\n",
       "      <td>81</td>\n",
       "      <td>307</td>\n",
       "      <td>33</td>\n",
       "      <td>146</td>\n",
       "    </tr>\n",
       "    <tr>\n",
       "      <th>3</th>\n",
       "      <td>1.318785</td>\n",
       "      <td>0.199745</td>\n",
       "      <td>-1.301997</td>\n",
       "      <td>0.652492</td>\n",
       "      <td>289</td>\n",
       "      <td>387</td>\n",
       "      <td>382</td>\n",
       "      <td>329</td>\n",
       "      <td>332</td>\n",
       "      <td>336</td>\n",
       "      <td>...</td>\n",
       "      <td>252</td>\n",
       "      <td>106</td>\n",
       "      <td>357</td>\n",
       "      <td>338</td>\n",
       "      <td>291</td>\n",
       "      <td>315</td>\n",
       "      <td>305</td>\n",
       "      <td>278</td>\n",
       "      <td>321</td>\n",
       "      <td>18</td>\n",
       "    </tr>\n",
       "    <tr>\n",
       "      <th>4</th>\n",
       "      <td>-0.106916</td>\n",
       "      <td>0.887329</td>\n",
       "      <td>0.202361</td>\n",
       "      <td>-0.364107</td>\n",
       "      <td>214</td>\n",
       "      <td>381</td>\n",
       "      <td>140</td>\n",
       "      <td>350</td>\n",
       "      <td>194</td>\n",
       "      <td>86</td>\n",
       "      <td>...</td>\n",
       "      <td>275</td>\n",
       "      <td>202</td>\n",
       "      <td>227</td>\n",
       "      <td>254</td>\n",
       "      <td>59</td>\n",
       "      <td>50</td>\n",
       "      <td>331</td>\n",
       "      <td>36</td>\n",
       "      <td>172</td>\n",
       "      <td>123</td>\n",
       "    </tr>\n",
       "    <tr>\n",
       "      <th>5</th>\n",
       "      <td>1.603355</td>\n",
       "      <td>-1.701636</td>\n",
       "      <td>0.132427</td>\n",
       "      <td>1.230362</td>\n",
       "      <td>615</td>\n",
       "      <td>961</td>\n",
       "      <td>573</td>\n",
       "      <td>510</td>\n",
       "      <td>776</td>\n",
       "      <td>119</td>\n",
       "      <td>...</td>\n",
       "      <td>616</td>\n",
       "      <td>506</td>\n",
       "      <td>528</td>\n",
       "      <td>568</td>\n",
       "      <td>487</td>\n",
       "      <td>146</td>\n",
       "      <td>999</td>\n",
       "      <td>398</td>\n",
       "      <td>751</td>\n",
       "      <td>668</td>\n",
       "    </tr>\n",
       "    <tr>\n",
       "      <th>7</th>\n",
       "      <td>1.304064</td>\n",
       "      <td>-0.984986</td>\n",
       "      <td>1.352922</td>\n",
       "      <td>-0.831711</td>\n",
       "      <td>457</td>\n",
       "      <td>189</td>\n",
       "      <td>152</td>\n",
       "      <td>349</td>\n",
       "      <td>488</td>\n",
       "      <td>587</td>\n",
       "      <td>...</td>\n",
       "      <td>274</td>\n",
       "      <td>183</td>\n",
       "      <td>238</td>\n",
       "      <td>405</td>\n",
       "      <td>158</td>\n",
       "      <td>76</td>\n",
       "      <td>429</td>\n",
       "      <td>431</td>\n",
       "      <td>670</td>\n",
       "      <td>167</td>\n",
       "    </tr>\n",
       "    <tr>\n",
       "      <th>...</th>\n",
       "      <td>...</td>\n",
       "      <td>...</td>\n",
       "      <td>...</td>\n",
       "      <td>...</td>\n",
       "      <td>...</td>\n",
       "      <td>...</td>\n",
       "      <td>...</td>\n",
       "      <td>...</td>\n",
       "      <td>...</td>\n",
       "      <td>...</td>\n",
       "      <td>...</td>\n",
       "      <td>...</td>\n",
       "      <td>...</td>\n",
       "      <td>...</td>\n",
       "      <td>...</td>\n",
       "      <td>...</td>\n",
       "      <td>...</td>\n",
       "      <td>...</td>\n",
       "      <td>...</td>\n",
       "      <td>...</td>\n",
       "      <td>...</td>\n",
       "    </tr>\n",
       "    <tr>\n",
       "      <th>393</th>\n",
       "      <td>1.124656</td>\n",
       "      <td>2.147445</td>\n",
       "      <td>-1.227588</td>\n",
       "      <td>-0.124505</td>\n",
       "      <td>122</td>\n",
       "      <td>437</td>\n",
       "      <td>276</td>\n",
       "      <td>298</td>\n",
       "      <td>391</td>\n",
       "      <td>436</td>\n",
       "      <td>...</td>\n",
       "      <td>168</td>\n",
       "      <td>293</td>\n",
       "      <td>504</td>\n",
       "      <td>487</td>\n",
       "      <td>335</td>\n",
       "      <td>562</td>\n",
       "      <td>609</td>\n",
       "      <td>612</td>\n",
       "      <td>489</td>\n",
       "      <td>235</td>\n",
       "    </tr>\n",
       "    <tr>\n",
       "      <th>394</th>\n",
       "      <td>1.713673</td>\n",
       "      <td>-2.524741</td>\n",
       "      <td>-0.767163</td>\n",
       "      <td>-0.087570</td>\n",
       "      <td>307</td>\n",
       "      <td>402</td>\n",
       "      <td>304</td>\n",
       "      <td>359</td>\n",
       "      <td>262</td>\n",
       "      <td>513</td>\n",
       "      <td>...</td>\n",
       "      <td>482</td>\n",
       "      <td>553</td>\n",
       "      <td>374</td>\n",
       "      <td>229</td>\n",
       "      <td>468</td>\n",
       "      <td>558</td>\n",
       "      <td>505</td>\n",
       "      <td>329</td>\n",
       "      <td>274</td>\n",
       "      <td>420</td>\n",
       "    </tr>\n",
       "    <tr>\n",
       "      <th>395</th>\n",
       "      <td>-0.654035</td>\n",
       "      <td>0.046166</td>\n",
       "      <td>-0.076712</td>\n",
       "      <td>-0.147561</td>\n",
       "      <td>462</td>\n",
       "      <td>589</td>\n",
       "      <td>361</td>\n",
       "      <td>462</td>\n",
       "      <td>385</td>\n",
       "      <td>458</td>\n",
       "      <td>...</td>\n",
       "      <td>618</td>\n",
       "      <td>392</td>\n",
       "      <td>507</td>\n",
       "      <td>226</td>\n",
       "      <td>468</td>\n",
       "      <td>446</td>\n",
       "      <td>104</td>\n",
       "      <td>500</td>\n",
       "      <td>412</td>\n",
       "      <td>431</td>\n",
       "    </tr>\n",
       "    <tr>\n",
       "      <th>397</th>\n",
       "      <td>0.066717</td>\n",
       "      <td>-1.000208</td>\n",
       "      <td>-0.460447</td>\n",
       "      <td>-0.177701</td>\n",
       "      <td>139</td>\n",
       "      <td>255</td>\n",
       "      <td>95</td>\n",
       "      <td>196</td>\n",
       "      <td>87</td>\n",
       "      <td>22</td>\n",
       "      <td>...</td>\n",
       "      <td>219</td>\n",
       "      <td>283</td>\n",
       "      <td>116</td>\n",
       "      <td>231</td>\n",
       "      <td>253</td>\n",
       "      <td>166</td>\n",
       "      <td>326</td>\n",
       "      <td>208</td>\n",
       "      <td>110</td>\n",
       "      <td>146</td>\n",
       "    </tr>\n",
       "    <tr>\n",
       "      <th>398</th>\n",
       "      <td>0.148542</td>\n",
       "      <td>0.643077</td>\n",
       "      <td>0.625434</td>\n",
       "      <td>1.214783</td>\n",
       "      <td>187</td>\n",
       "      <td>38</td>\n",
       "      <td>104</td>\n",
       "      <td>32</td>\n",
       "      <td>73</td>\n",
       "      <td>121</td>\n",
       "      <td>...</td>\n",
       "      <td>247</td>\n",
       "      <td>261</td>\n",
       "      <td>291</td>\n",
       "      <td>11</td>\n",
       "      <td>92</td>\n",
       "      <td>170</td>\n",
       "      <td>228</td>\n",
       "      <td>68</td>\n",
       "      <td>49</td>\n",
       "      <td>308</td>\n",
       "    </tr>\n",
       "  </tbody>\n",
       "</table>\n",
       "<p>266 rows × 53 columns</p>\n",
       "</div>"
      ],
      "text/plain": [
       "            A         B         C         D    1    2    3    4    5    6  \\\n",
       "0                                                                           \n",
       "1   -0.403833 -1.123394 -0.716985 -0.364598  257   72  381   99  107  320   \n",
       "3    1.318785  0.199745 -1.301997  0.652492  289  387  382  329  332  336   \n",
       "4   -0.106916  0.887329  0.202361 -0.364107  214  381  140  350  194   86   \n",
       "5    1.603355 -1.701636  0.132427  1.230362  615  961  573  510  776  119   \n",
       "7    1.304064 -0.984986  1.352922 -0.831711  457  189  152  349  488  587   \n",
       "..        ...       ...       ...       ...  ...  ...  ...  ...  ...  ...   \n",
       "393  1.124656  2.147445 -1.227588 -0.124505  122  437  276  298  391  436   \n",
       "394  1.713673 -2.524741 -0.767163 -0.087570  307  402  304  359  262  513   \n",
       "395 -0.654035  0.046166 -0.076712 -0.147561  462  589  361  462  385  458   \n",
       "397  0.066717 -1.000208 -0.460447 -0.177701  139  255   95  196   87   22   \n",
       "398  0.148542  0.643077  0.625434  1.214783  187   38  104   32   73  121   \n",
       "\n",
       "     ...   40   41   42   43   44   45   46   47   48   49  \n",
       "0    ...                                                    \n",
       "1    ...   80  370  329  100  289  107   81  307   33  146  \n",
       "3    ...  252  106  357  338  291  315  305  278  321   18  \n",
       "4    ...  275  202  227  254   59   50  331   36  172  123  \n",
       "5    ...  616  506  528  568  487  146  999  398  751  668  \n",
       "7    ...  274  183  238  405  158   76  429  431  670  167  \n",
       "..   ...  ...  ...  ...  ...  ...  ...  ...  ...  ...  ...  \n",
       "393  ...  168  293  504  487  335  562  609  612  489  235  \n",
       "394  ...  482  553  374  229  468  558  505  329  274  420  \n",
       "395  ...  618  392  507  226  468  446  104  500  412  431  \n",
       "397  ...  219  283  116  231  253  166  326  208  110  146  \n",
       "398  ...  247  261  291   11   92  170  228   68   49  308  \n",
       "\n",
       "[266 rows x 53 columns]"
      ]
     },
     "execution_count": 27,
     "metadata": {},
     "output_type": "execute_result"
    }
   ],
   "source": [
    "ipypandas.disable()\n",
    "\n",
    "df3\n"
   ]
  },
  {
   "cell_type": "code",
   "execution_count": 28,
   "metadata": {},
   "outputs": [
    {
     "data": {
      "application/vnd.jupyter.widget-view+json": {
       "model_id": "a27a51efbc024e51a5fa96dc0965c0e5",
       "version_major": 2,
       "version_minor": 0
      },
      "text/plain": [
       "<class 'ipypandas.widget.PandasWidget'>: 2 rows × 6 columns"
      ]
     },
     "metadata": {},
     "output_type": "display_data"
    }
   ],
   "source": [
    "ipypandas.enable()\n",
    "\n",
    "df4 = pd.DataFrame([[38.0, 2.0, 18.0, 22.0, 21, np.nan], [19, 439, 6, 452, 226, 232]],\n",
    "                   index=pd.Index(['Tumour (Positive)', 'Non-Tumour (Negative)'], name='Actual Label:'),\n",
    "                   columns=pd.MultiIndex.from_product([['Decision Tree', 'Regression', 'Random'], ['Tumour', 'Non-Tumour']], names=['Model:', 'Predicted:']))\n",
    "df4\n"
   ]
  },
  {
   "cell_type": "code",
   "execution_count": 29,
   "metadata": {},
   "outputs": [
    {
     "data": {
      "application/vnd.jupyter.widget-view+json": {
       "model_id": "1fbad84568854c2396827195913f01a9",
       "version_major": 2,
       "version_minor": 0
      },
      "text/plain": [
       "<class 'ipypandas.widget.PandasWidget'>: 266 rows × 53 columns"
      ]
     },
     "metadata": {},
     "output_type": "display_data"
    }
   ],
   "source": [
    "df5 = ipypandas.PandasWidget(df=df3)\n",
    "df5\n"
   ]
  },
  {
   "cell_type": "code",
   "execution_count": 30,
   "metadata": {},
   "outputs": [
    {
     "name": "stdout",
     "output_type": "stream",
     "text": [
      "<class 'ipypandas.widget.PandasWidget'>: 266 rows × 53 columns\n"
     ]
    }
   ],
   "source": [
    "print(df5)\n"
   ]
  }
 ],
 "metadata": {
  "kernelspec": {
   "display_name": "Python 3 (ipykernel)",
   "language": "python",
   "name": "python3"
  },
  "language_info": {
   "codemirror_mode": {
    "name": "ipython",
    "version": 3
   },
   "file_extension": ".py",
   "mimetype": "text/x-python",
   "name": "python",
   "nbconvert_exporter": "python",
   "pygments_lexer": "ipython3",
   "version": "3.9.12"
  }
 },
 "nbformat": 4,
 "nbformat_minor": 4
}
