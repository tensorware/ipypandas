{
 "cells": [
  {
   "cell_type": "markdown",
   "metadata": {},
   "source": [
    "# Imports"
   ]
  },
  {
   "cell_type": "code",
   "execution_count": 1,
   "metadata": {},
   "outputs": [],
   "source": [
    "import random\n",
    "import string\n",
    "import ipypandas\n",
    "\n",
    "import numpy as np\n",
    "import pandas as pd\n"
   ]
  },
  {
   "cell_type": "code",
   "execution_count": 2,
   "metadata": {},
   "outputs": [],
   "source": [
    "# The numbers of rows to show in a truncated view (when max_rows is exceeded).\n",
    "# Ignored when max_rows is set to None or 0. When set to None, follows the value of max_rows.\n",
    "pd.set_option('display.min_rows', 10)  # [default: 10]\n",
    "\n",
    "# If max_rows is exceeded, switch to truncate view.\n",
    "# Depending on large_repr, objects are either centrally truncated or printed as a summary view.\n",
    "pd.set_option('display.max_rows', 60)  # [default: 60]\n",
    "\n",
    "# The maximum width in characters of a column in the repr of a pandas data structure.\n",
    "# When the column overflows, a “…” placeholder is embedded in the output.\n",
    "pd.set_option('display.max_colwidth', 50)  # [default: 50]\n"
   ]
  },
  {
   "cell_type": "code",
   "execution_count": 3,
   "metadata": {},
   "outputs": [
    {
     "data": {
      "application/vnd.jupyter.widget-view+json": {
       "model_id": "96ff505b106b47d98d3046889c3f163d",
       "version_major": 2,
       "version_minor": 0
      },
      "text/plain": [
       "            A         B         C         D\n",
       "0   -0.547640 -0.463095  0.099693  0.114350\n",
       "1   -1.427538  0.12101…"
      ]
     },
     "metadata": {},
     "output_type": "display_data"
    }
   ],
   "source": [
    "ipypandas.enable()\n",
    "\n",
    "n = 10000\n",
    "df1 = pd.DataFrame(np.random.randn(n, 4), columns=['A', 'B', 'C', 'D'])\n",
    "df1\n"
   ]
  },
  {
   "cell_type": "code",
   "execution_count": 4,
   "metadata": {},
   "outputs": [],
   "source": [
    "def rand_int(low, hi):\n",
    "    while True:\n",
    "        yield random.randint(low, hi)\n",
    "\n",
    "\n",
    "def rand_words(size):\n",
    "    chars = ''.join(random.choice(string.ascii_letters) for x in range(size))\n",
    "    for n in rand_int(3, 10):\n",
    "        if n > len(chars):\n",
    "            break\n",
    "        yield chars[:n]\n",
    "        chars = chars[n::]\n",
    "\n",
    "\n",
    "def rand_sentences(length, count):\n",
    "    return [' '.join(rand_words(random.randint(length, int(length * 5)))) for x in range(count)]\n"
   ]
  },
  {
   "cell_type": "markdown",
   "metadata": {
    "tags": []
   },
   "source": [
    "# DataFrame"
   ]
  },
  {
   "cell_type": "code",
   "execution_count": 5,
   "metadata": {},
   "outputs": [
    {
     "data": {
      "application/vnd.jupyter.widget-view+json": {
       "model_id": "7bf6f425e5894507a7078efd20604257",
       "version_major": 2,
       "version_minor": 0
      },
      "text/plain": [
       "Empty DataFrame\n",
       "Columns: []\n",
       "Index: []"
      ]
     },
     "metadata": {},
     "output_type": "display_data"
    }
   ],
   "source": [
    "ipypandas.enable()\n",
    "\n",
    "pd.DataFrame()\n"
   ]
  },
  {
   "cell_type": "code",
   "execution_count": 6,
   "metadata": {},
   "outputs": [
    {
     "data": {
      "application/vnd.jupyter.widget-view+json": {
       "model_id": "e2feba95632b44ddba4cbc7c059a6e34",
       "version_major": 2,
       "version_minor": 0
      },
      "text/plain": [
       "Empty DataFrame\n",
       "Columns: [One, Two]\n",
       "Index: []"
      ]
     },
     "metadata": {},
     "output_type": "display_data"
    }
   ],
   "source": [
    "ipypandas.enable()\n",
    "\n",
    "pd.DataFrame(columns=['One', 'Two'])\n"
   ]
  },
  {
   "cell_type": "code",
   "execution_count": 7,
   "metadata": {
    "tags": []
   },
   "outputs": [
    {
     "data": {
      "application/vnd.jupyter.widget-view+json": {
       "model_id": "84d416cb46e44547a9e1b660a623df4e",
       "version_major": 2,
       "version_minor": 0
      },
      "text/plain": [
       "                                                  One  \\\n",
       "0                                     wkbT TEoVmRONYp…"
      ]
     },
     "metadata": {},
     "output_type": "display_data"
    }
   ],
   "source": [
    "ipypandas.enable()\n",
    "\n",
    "n = 100\n",
    "pd.DataFrame(data={'One': rand_sentences(10, n), 'Two': rand_sentences(30, n), 'Three': rand_sentences(90, n)})\n"
   ]
  },
  {
   "cell_type": "code",
   "execution_count": 8,
   "metadata": {},
   "outputs": [
    {
     "data": {
      "application/vnd.jupyter.widget-view+json": {
       "model_id": "745789422a9043e6867fd3ebb5fd6e5c",
       "version_major": 2,
       "version_minor": 0
      },
      "text/plain": [
       "           A         B         C         D\n",
       "0   1.705604 -1.287733 -0.001472  0.159376\n",
       "1   1.159999  0.294077 -…"
      ]
     },
     "metadata": {},
     "output_type": "display_data"
    }
   ],
   "source": [
    "ipypandas.enable()\n",
    "\n",
    "n = 100\n",
    "df1 = pd.DataFrame(np.random.randn(n, 4), columns=['A', 'B', 'C', 'D'])\n",
    "df1\n"
   ]
  },
  {
   "cell_type": "code",
   "execution_count": 9,
   "metadata": {},
   "outputs": [
    {
     "data": {
      "text/html": [
       "<div>\n",
       "<style scoped>\n",
       "    .dataframe tbody tr th:only-of-type {\n",
       "        vertical-align: middle;\n",
       "    }\n",
       "\n",
       "    .dataframe tbody tr th {\n",
       "        vertical-align: top;\n",
       "    }\n",
       "\n",
       "    .dataframe thead th {\n",
       "        text-align: right;\n",
       "    }\n",
       "</style>\n",
       "<table border=\"1\" class=\"dataframe\">\n",
       "  <thead>\n",
       "    <tr style=\"text-align: right;\">\n",
       "      <th></th>\n",
       "      <th>B</th>\n",
       "      <th>C</th>\n",
       "      <th>D</th>\n",
       "    </tr>\n",
       "    <tr>\n",
       "      <th>A</th>\n",
       "      <th></th>\n",
       "      <th></th>\n",
       "      <th></th>\n",
       "    </tr>\n",
       "  </thead>\n",
       "  <tbody>\n",
       "    <tr>\n",
       "      <th>1.705604</th>\n",
       "      <td>-1.287733</td>\n",
       "      <td>-0.001472</td>\n",
       "      <td>0.159376</td>\n",
       "    </tr>\n",
       "    <tr>\n",
       "      <th>1.159999</th>\n",
       "      <td>0.294077</td>\n",
       "      <td>-0.059771</td>\n",
       "      <td>1.351544</td>\n",
       "    </tr>\n",
       "    <tr>\n",
       "      <th>0.448422</th>\n",
       "      <td>-1.262054</td>\n",
       "      <td>0.689753</td>\n",
       "      <td>-0.420611</td>\n",
       "    </tr>\n",
       "    <tr>\n",
       "      <th>-0.459269</th>\n",
       "      <td>1.315397</td>\n",
       "      <td>-0.246762</td>\n",
       "      <td>-0.809106</td>\n",
       "    </tr>\n",
       "    <tr>\n",
       "      <th>0.830860</th>\n",
       "      <td>-0.388033</td>\n",
       "      <td>-0.532601</td>\n",
       "      <td>-0.027111</td>\n",
       "    </tr>\n",
       "    <tr>\n",
       "      <th>...</th>\n",
       "      <td>...</td>\n",
       "      <td>...</td>\n",
       "      <td>...</td>\n",
       "    </tr>\n",
       "    <tr>\n",
       "      <th>0.921784</th>\n",
       "      <td>-1.324036</td>\n",
       "      <td>-1.748207</td>\n",
       "      <td>0.133685</td>\n",
       "    </tr>\n",
       "    <tr>\n",
       "      <th>-0.778805</th>\n",
       "      <td>1.949015</td>\n",
       "      <td>-1.758994</td>\n",
       "      <td>0.996472</td>\n",
       "    </tr>\n",
       "    <tr>\n",
       "      <th>1.713091</th>\n",
       "      <td>-0.109209</td>\n",
       "      <td>-0.431054</td>\n",
       "      <td>1.420107</td>\n",
       "    </tr>\n",
       "    <tr>\n",
       "      <th>-0.832551</th>\n",
       "      <td>-0.096948</td>\n",
       "      <td>0.643386</td>\n",
       "      <td>-1.180997</td>\n",
       "    </tr>\n",
       "    <tr>\n",
       "      <th>0.423497</th>\n",
       "      <td>-1.543990</td>\n",
       "      <td>-0.676629</td>\n",
       "      <td>0.007217</td>\n",
       "    </tr>\n",
       "  </tbody>\n",
       "</table>\n",
       "<p>100 rows × 3 columns</p>\n",
       "</div>"
      ],
      "text/plain": [
       "                  B         C         D\n",
       "A                                      \n",
       " 1.705604 -1.287733 -0.001472  0.159376\n",
       " 1.159999  0.294077 -0.059771  1.351544\n",
       " 0.448422 -1.262054  0.689753 -0.420611\n",
       "-0.459269  1.315397 -0.246762 -0.809106\n",
       " 0.830860 -0.388033 -0.532601 -0.027111\n",
       "...             ...       ...       ...\n",
       " 0.921784 -1.324036 -1.748207  0.133685\n",
       "-0.778805  1.949015 -1.758994  0.996472\n",
       " 1.713091 -0.109209 -0.431054  1.420107\n",
       "-0.832551 -0.096948  0.643386 -1.180997\n",
       " 0.423497 -1.543990 -0.676629  0.007217\n",
       "\n",
       "[100 rows x 3 columns]"
      ]
     },
     "execution_count": 9,
     "metadata": {},
     "output_type": "execute_result"
    }
   ],
   "source": [
    "ipypandas.disable()\n",
    "\n",
    "df2 = df1.set_index('A')\n",
    "df2\n"
   ]
  },
  {
   "cell_type": "code",
   "execution_count": 10,
   "metadata": {},
   "outputs": [
    {
     "data": {
      "application/vnd.jupyter.widget-view+json": {
       "model_id": "80ec8118b58947548a33a0314ef0689c",
       "version_major": 2,
       "version_minor": 0
      },
      "text/plain": [
       "                  B         C         D\n",
       "A                                      \n",
       " 1.705604 -1.287733 -0.001472 …"
      ]
     },
     "metadata": {},
     "output_type": "display_data"
    }
   ],
   "source": [
    "ipypandas.enable()\n",
    "\n",
    "df2 = df1.set_index('A').head()\n",
    "df2\n"
   ]
  },
  {
   "cell_type": "code",
   "execution_count": 11,
   "metadata": {},
   "outputs": [
    {
     "data": {
      "application/vnd.jupyter.widget-view+json": {
       "model_id": "c124b95c5e7a44aabc9f1ed434aeded5",
       "version_major": 2,
       "version_minor": 0
      },
      "text/plain": [
       "           A         B         C         D    1   2    3   4   5    6  ...  \\\n",
       "0                               …"
      ]
     },
     "metadata": {},
     "output_type": "display_data"
    }
   ],
   "source": [
    "ipypandas.enable()\n",
    "\n",
    "groups = np.random.randint(0, df1.shape[0], size=(df1.shape[0], 50))\n",
    "df3 = pd.concat([df1, pd.DataFrame(groups)], axis=1).groupby(0).sum()  # .reset_index()\n",
    "df3\n"
   ]
  },
  {
   "cell_type": "code",
   "execution_count": 12,
   "metadata": {},
   "outputs": [
    {
     "data": {
      "text/html": [
       "<div>\n",
       "<style scoped>\n",
       "    .dataframe tbody tr th:only-of-type {\n",
       "        vertical-align: middle;\n",
       "    }\n",
       "\n",
       "    .dataframe tbody tr th {\n",
       "        vertical-align: top;\n",
       "    }\n",
       "\n",
       "    .dataframe thead th {\n",
       "        text-align: right;\n",
       "    }\n",
       "</style>\n",
       "<table border=\"1\" class=\"dataframe\">\n",
       "  <thead>\n",
       "    <tr style=\"text-align: right;\">\n",
       "      <th></th>\n",
       "      <th>A</th>\n",
       "      <th>B</th>\n",
       "      <th>C</th>\n",
       "      <th>D</th>\n",
       "      <th>1</th>\n",
       "      <th>2</th>\n",
       "      <th>3</th>\n",
       "      <th>4</th>\n",
       "      <th>5</th>\n",
       "      <th>6</th>\n",
       "      <th>...</th>\n",
       "      <th>40</th>\n",
       "      <th>41</th>\n",
       "      <th>42</th>\n",
       "      <th>43</th>\n",
       "      <th>44</th>\n",
       "      <th>45</th>\n",
       "      <th>46</th>\n",
       "      <th>47</th>\n",
       "      <th>48</th>\n",
       "      <th>49</th>\n",
       "    </tr>\n",
       "    <tr>\n",
       "      <th>0</th>\n",
       "      <th></th>\n",
       "      <th></th>\n",
       "      <th></th>\n",
       "      <th></th>\n",
       "      <th></th>\n",
       "      <th></th>\n",
       "      <th></th>\n",
       "      <th></th>\n",
       "      <th></th>\n",
       "      <th></th>\n",
       "      <th></th>\n",
       "      <th></th>\n",
       "      <th></th>\n",
       "      <th></th>\n",
       "      <th></th>\n",
       "      <th></th>\n",
       "      <th></th>\n",
       "      <th></th>\n",
       "      <th></th>\n",
       "      <th></th>\n",
       "      <th></th>\n",
       "    </tr>\n",
       "  </thead>\n",
       "  <tbody>\n",
       "    <tr>\n",
       "      <th>1</th>\n",
       "      <td>1.660084</td>\n",
       "      <td>-0.628732</td>\n",
       "      <td>1.877840</td>\n",
       "      <td>-0.211020</td>\n",
       "      <td>68</td>\n",
       "      <td>20</td>\n",
       "      <td>27</td>\n",
       "      <td>55</td>\n",
       "      <td>70</td>\n",
       "      <td>91</td>\n",
       "      <td>...</td>\n",
       "      <td>1</td>\n",
       "      <td>14</td>\n",
       "      <td>82</td>\n",
       "      <td>28</td>\n",
       "      <td>6</td>\n",
       "      <td>7</td>\n",
       "      <td>92</td>\n",
       "      <td>91</td>\n",
       "      <td>13</td>\n",
       "      <td>54</td>\n",
       "    </tr>\n",
       "    <tr>\n",
       "      <th>2</th>\n",
       "      <td>-0.077925</td>\n",
       "      <td>0.783797</td>\n",
       "      <td>-1.372463</td>\n",
       "      <td>0.364118</td>\n",
       "      <td>53</td>\n",
       "      <td>53</td>\n",
       "      <td>34</td>\n",
       "      <td>87</td>\n",
       "      <td>42</td>\n",
       "      <td>18</td>\n",
       "      <td>...</td>\n",
       "      <td>15</td>\n",
       "      <td>8</td>\n",
       "      <td>93</td>\n",
       "      <td>50</td>\n",
       "      <td>49</td>\n",
       "      <td>48</td>\n",
       "      <td>47</td>\n",
       "      <td>80</td>\n",
       "      <td>89</td>\n",
       "      <td>72</td>\n",
       "    </tr>\n",
       "    <tr>\n",
       "      <th>3</th>\n",
       "      <td>0.271004</td>\n",
       "      <td>0.417272</td>\n",
       "      <td>0.623792</td>\n",
       "      <td>-0.550408</td>\n",
       "      <td>82</td>\n",
       "      <td>30</td>\n",
       "      <td>133</td>\n",
       "      <td>46</td>\n",
       "      <td>50</td>\n",
       "      <td>160</td>\n",
       "      <td>...</td>\n",
       "      <td>40</td>\n",
       "      <td>108</td>\n",
       "      <td>119</td>\n",
       "      <td>109</td>\n",
       "      <td>75</td>\n",
       "      <td>105</td>\n",
       "      <td>110</td>\n",
       "      <td>54</td>\n",
       "      <td>57</td>\n",
       "      <td>71</td>\n",
       "    </tr>\n",
       "    <tr>\n",
       "      <th>5</th>\n",
       "      <td>-0.646274</td>\n",
       "      <td>-0.115824</td>\n",
       "      <td>1.249559</td>\n",
       "      <td>-0.211061</td>\n",
       "      <td>126</td>\n",
       "      <td>71</td>\n",
       "      <td>94</td>\n",
       "      <td>72</td>\n",
       "      <td>74</td>\n",
       "      <td>69</td>\n",
       "      <td>...</td>\n",
       "      <td>167</td>\n",
       "      <td>15</td>\n",
       "      <td>15</td>\n",
       "      <td>130</td>\n",
       "      <td>129</td>\n",
       "      <td>99</td>\n",
       "      <td>100</td>\n",
       "      <td>98</td>\n",
       "      <td>128</td>\n",
       "      <td>36</td>\n",
       "    </tr>\n",
       "    <tr>\n",
       "      <th>6</th>\n",
       "      <td>-0.118142</td>\n",
       "      <td>2.516782</td>\n",
       "      <td>-0.266112</td>\n",
       "      <td>-0.879136</td>\n",
       "      <td>53</td>\n",
       "      <td>95</td>\n",
       "      <td>9</td>\n",
       "      <td>9</td>\n",
       "      <td>33</td>\n",
       "      <td>11</td>\n",
       "      <td>...</td>\n",
       "      <td>23</td>\n",
       "      <td>43</td>\n",
       "      <td>88</td>\n",
       "      <td>10</td>\n",
       "      <td>1</td>\n",
       "      <td>14</td>\n",
       "      <td>29</td>\n",
       "      <td>2</td>\n",
       "      <td>82</td>\n",
       "      <td>17</td>\n",
       "    </tr>\n",
       "    <tr>\n",
       "      <th>...</th>\n",
       "      <td>...</td>\n",
       "      <td>...</td>\n",
       "      <td>...</td>\n",
       "      <td>...</td>\n",
       "      <td>...</td>\n",
       "      <td>...</td>\n",
       "      <td>...</td>\n",
       "      <td>...</td>\n",
       "      <td>...</td>\n",
       "      <td>...</td>\n",
       "      <td>...</td>\n",
       "      <td>...</td>\n",
       "      <td>...</td>\n",
       "      <td>...</td>\n",
       "      <td>...</td>\n",
       "      <td>...</td>\n",
       "      <td>...</td>\n",
       "      <td>...</td>\n",
       "      <td>...</td>\n",
       "      <td>...</td>\n",
       "      <td>...</td>\n",
       "    </tr>\n",
       "    <tr>\n",
       "      <th>90</th>\n",
       "      <td>-0.121811</td>\n",
       "      <td>0.292817</td>\n",
       "      <td>0.730763</td>\n",
       "      <td>-1.729692</td>\n",
       "      <td>61</td>\n",
       "      <td>93</td>\n",
       "      <td>121</td>\n",
       "      <td>72</td>\n",
       "      <td>38</td>\n",
       "      <td>58</td>\n",
       "      <td>...</td>\n",
       "      <td>104</td>\n",
       "      <td>118</td>\n",
       "      <td>99</td>\n",
       "      <td>97</td>\n",
       "      <td>121</td>\n",
       "      <td>122</td>\n",
       "      <td>107</td>\n",
       "      <td>123</td>\n",
       "      <td>114</td>\n",
       "      <td>115</td>\n",
       "    </tr>\n",
       "    <tr>\n",
       "      <th>91</th>\n",
       "      <td>-0.055250</td>\n",
       "      <td>0.258817</td>\n",
       "      <td>0.245089</td>\n",
       "      <td>-1.282390</td>\n",
       "      <td>25</td>\n",
       "      <td>97</td>\n",
       "      <td>63</td>\n",
       "      <td>72</td>\n",
       "      <td>68</td>\n",
       "      <td>45</td>\n",
       "      <td>...</td>\n",
       "      <td>59</td>\n",
       "      <td>11</td>\n",
       "      <td>86</td>\n",
       "      <td>31</td>\n",
       "      <td>96</td>\n",
       "      <td>20</td>\n",
       "      <td>49</td>\n",
       "      <td>58</td>\n",
       "      <td>98</td>\n",
       "      <td>2</td>\n",
       "    </tr>\n",
       "    <tr>\n",
       "      <th>92</th>\n",
       "      <td>0.354964</td>\n",
       "      <td>-2.413542</td>\n",
       "      <td>0.384199</td>\n",
       "      <td>-0.779793</td>\n",
       "      <td>56</td>\n",
       "      <td>50</td>\n",
       "      <td>17</td>\n",
       "      <td>14</td>\n",
       "      <td>5</td>\n",
       "      <td>36</td>\n",
       "      <td>...</td>\n",
       "      <td>45</td>\n",
       "      <td>99</td>\n",
       "      <td>82</td>\n",
       "      <td>58</td>\n",
       "      <td>28</td>\n",
       "      <td>60</td>\n",
       "      <td>46</td>\n",
       "      <td>12</td>\n",
       "      <td>69</td>\n",
       "      <td>65</td>\n",
       "    </tr>\n",
       "    <tr>\n",
       "      <th>93</th>\n",
       "      <td>-1.246585</td>\n",
       "      <td>-0.772453</td>\n",
       "      <td>-1.446895</td>\n",
       "      <td>-0.238514</td>\n",
       "      <td>97</td>\n",
       "      <td>27</td>\n",
       "      <td>99</td>\n",
       "      <td>58</td>\n",
       "      <td>88</td>\n",
       "      <td>5</td>\n",
       "      <td>...</td>\n",
       "      <td>80</td>\n",
       "      <td>56</td>\n",
       "      <td>75</td>\n",
       "      <td>7</td>\n",
       "      <td>3</td>\n",
       "      <td>82</td>\n",
       "      <td>32</td>\n",
       "      <td>34</td>\n",
       "      <td>4</td>\n",
       "      <td>1</td>\n",
       "    </tr>\n",
       "    <tr>\n",
       "      <th>96</th>\n",
       "      <td>1.487953</td>\n",
       "      <td>0.769557</td>\n",
       "      <td>1.818385</td>\n",
       "      <td>0.756830</td>\n",
       "      <td>64</td>\n",
       "      <td>10</td>\n",
       "      <td>42</td>\n",
       "      <td>62</td>\n",
       "      <td>23</td>\n",
       "      <td>63</td>\n",
       "      <td>...</td>\n",
       "      <td>98</td>\n",
       "      <td>22</td>\n",
       "      <td>78</td>\n",
       "      <td>67</td>\n",
       "      <td>54</td>\n",
       "      <td>19</td>\n",
       "      <td>2</td>\n",
       "      <td>6</td>\n",
       "      <td>86</td>\n",
       "      <td>19</td>\n",
       "    </tr>\n",
       "  </tbody>\n",
       "</table>\n",
       "<p>63 rows × 53 columns</p>\n",
       "</div>"
      ],
      "text/plain": [
       "           A         B         C         D    1   2    3   4   5    6  ...  \\\n",
       "0                                                                      ...   \n",
       "1   1.660084 -0.628732  1.877840 -0.211020   68  20   27  55  70   91  ...   \n",
       "2  -0.077925  0.783797 -1.372463  0.364118   53  53   34  87  42   18  ...   \n",
       "3   0.271004  0.417272  0.623792 -0.550408   82  30  133  46  50  160  ...   \n",
       "5  -0.646274 -0.115824  1.249559 -0.211061  126  71   94  72  74   69  ...   \n",
       "6  -0.118142  2.516782 -0.266112 -0.879136   53  95    9   9  33   11  ...   \n",
       "..       ...       ...       ...       ...  ...  ..  ...  ..  ..  ...  ...   \n",
       "90 -0.121811  0.292817  0.730763 -1.729692   61  93  121  72  38   58  ...   \n",
       "91 -0.055250  0.258817  0.245089 -1.282390   25  97   63  72  68   45  ...   \n",
       "92  0.354964 -2.413542  0.384199 -0.779793   56  50   17  14   5   36  ...   \n",
       "93 -1.246585 -0.772453 -1.446895 -0.238514   97  27   99  58  88    5  ...   \n",
       "96  1.487953  0.769557  1.818385  0.756830   64  10   42  62  23   63  ...   \n",
       "\n",
       "     40   41   42   43   44   45   46   47   48   49  \n",
       "0                                                     \n",
       "1     1   14   82   28    6    7   92   91   13   54  \n",
       "2    15    8   93   50   49   48   47   80   89   72  \n",
       "3    40  108  119  109   75  105  110   54   57   71  \n",
       "5   167   15   15  130  129   99  100   98  128   36  \n",
       "6    23   43   88   10    1   14   29    2   82   17  \n",
       "..  ...  ...  ...  ...  ...  ...  ...  ...  ...  ...  \n",
       "90  104  118   99   97  121  122  107  123  114  115  \n",
       "91   59   11   86   31   96   20   49   58   98    2  \n",
       "92   45   99   82   58   28   60   46   12   69   65  \n",
       "93   80   56   75    7    3   82   32   34    4    1  \n",
       "96   98   22   78   67   54   19    2    6   86   19  \n",
       "\n",
       "[63 rows x 53 columns]"
      ]
     },
     "execution_count": 12,
     "metadata": {},
     "output_type": "execute_result"
    }
   ],
   "source": [
    "ipypandas.disable()\n",
    "\n",
    "df3\n"
   ]
  },
  {
   "cell_type": "code",
   "execution_count": 13,
   "metadata": {},
   "outputs": [
    {
     "data": {
      "application/vnd.jupyter.widget-view+json": {
       "model_id": "0cf2d56686b14539b233ddae6ac50b7a",
       "version_major": 2,
       "version_minor": 0
      },
      "text/plain": [
       "Model:                Decision Tree            Regression            Random  \\\n",
       "Predicted:                   Tu…"
      ]
     },
     "metadata": {},
     "output_type": "display_data"
    }
   ],
   "source": [
    "ipypandas.enable()\n",
    "\n",
    "df4 = pd.DataFrame([[38.0, 2.0, 18.0, 22.0, 21, np.nan], [19, 439, 6, 452, 226, 232]],\n",
    "                   index=pd.Index(['Tumour (Positive)', 'Non-Tumour (Negative)'], name='Actual Label:'),\n",
    "                   columns=pd.MultiIndex.from_product([['Decision Tree', 'Regression', 'Random'], ['Tumour', 'Non-Tumour']], names=['Model:', 'Predicted:']))\n",
    "df4\n"
   ]
  },
  {
   "cell_type": "code",
   "execution_count": 14,
   "metadata": {},
   "outputs": [
    {
     "data": {
      "application/vnd.jupyter.widget-view+json": {
       "model_id": "36971ab5495942a387e85d58622dcb00",
       "version_major": 2,
       "version_minor": 0
      },
      "text/plain": [
       "           A         B         C         D    1   2    3   4   5    6  ...  \\\n",
       "0                               …"
      ]
     },
     "metadata": {},
     "output_type": "display_data"
    }
   ],
   "source": [
    "df5 = ipypandas.PandasWidget(df=df3)\n",
    "df5\n"
   ]
  },
  {
   "cell_type": "code",
   "execution_count": 15,
   "metadata": {},
   "outputs": [
    {
     "name": "stdout",
     "output_type": "stream",
     "text": [
      "           A         B         C         D    1   2    3   4   5    6  ...  \\\n",
      "0                                                                      ...   \n",
      "1   1.660084 -0.628732  1.877840 -0.211020   68  20   27  55  70   91  ...   \n",
      "2  -0.077925  0.783797 -1.372463  0.364118   53  53   34  87  42   18  ...   \n",
      "3   0.271004  0.417272  0.623792 -0.550408   82  30  133  46  50  160  ...   \n",
      "5  -0.646274 -0.115824  1.249559 -0.211061  126  71   94  72  74   69  ...   \n",
      "6  -0.118142  2.516782 -0.266112 -0.879136   53  95    9   9  33   11  ...   \n",
      "..       ...       ...       ...       ...  ...  ..  ...  ..  ..  ...  ...   \n",
      "90 -0.121811  0.292817  0.730763 -1.729692   61  93  121  72  38   58  ...   \n",
      "91 -0.055250  0.258817  0.245089 -1.282390   25  97   63  72  68   45  ...   \n",
      "92  0.354964 -2.413542  0.384199 -0.779793   56  50   17  14   5   36  ...   \n",
      "93 -1.246585 -0.772453 -1.446895 -0.238514   97  27   99  58  88    5  ...   \n",
      "96  1.487953  0.769557  1.818385  0.756830   64  10   42  62  23   63  ...   \n",
      "\n",
      "     40   41   42   43   44   45   46   47   48   49  \n",
      "0                                                     \n",
      "1     1   14   82   28    6    7   92   91   13   54  \n",
      "2    15    8   93   50   49   48   47   80   89   72  \n",
      "3    40  108  119  109   75  105  110   54   57   71  \n",
      "5   167   15   15  130  129   99  100   98  128   36  \n",
      "6    23   43   88   10    1   14   29    2   82   17  \n",
      "..  ...  ...  ...  ...  ...  ...  ...  ...  ...  ...  \n",
      "90  104  118   99   97  121  122  107  123  114  115  \n",
      "91   59   11   86   31   96   20   49   58   98    2  \n",
      "92   45   99   82   58   28   60   46   12   69   65  \n",
      "93   80   56   75    7    3   82   32   34    4    1  \n",
      "96   98   22   78   67   54   19    2    6   86   19  \n",
      "\n",
      "[63 rows x 53 columns]\n"
     ]
    }
   ],
   "source": [
    "print(df5)\n"
   ]
  }
 ],
 "metadata": {
  "kernelspec": {
   "display_name": "Python 3 (ipykernel)",
   "language": "python",
   "name": "python3"
  },
  "language_info": {
   "codemirror_mode": {
    "name": "ipython",
    "version": 3
   },
   "file_extension": ".py",
   "mimetype": "text/x-python",
   "name": "python",
   "nbconvert_exporter": "python",
   "pygments_lexer": "ipython3",
   "version": "3.9.10"
  }
 },
 "nbformat": 4,
 "nbformat_minor": 4
}
