{
 "cells": [
  {
   "cell_type": "markdown",
   "metadata": {},
   "source": [
    "# Imports"
   ]
  },
  {
   "cell_type": "code",
   "execution_count": 1,
   "metadata": {},
   "outputs": [],
   "source": [
    "import ipypandas\n",
    "\n",
    "import numpy as np\n",
    "import pandas as pd\n"
   ]
  },
  {
   "cell_type": "code",
   "execution_count": 2,
   "metadata": {},
   "outputs": [],
   "source": [
    "pd.set_option('display.min_rows', 10)\n",
    "pd.set_option('display.max_rows', 60)\n",
    "\n",
    "pd.set_option('display.max_columns', 20)\n",
    "pd.set_option('display.max_colwidth', 50)\n"
   ]
  },
  {
   "cell_type": "markdown",
   "metadata": {
    "tags": []
   },
   "source": [
    "# DataFrame"
   ]
  },
  {
   "cell_type": "code",
   "execution_count": 3,
   "metadata": {},
   "outputs": [
    {
     "data": {
      "text/html": [
       "<div>\n",
       "<style scoped>\n",
       "    .dataframe tbody tr th:only-of-type {\n",
       "        vertical-align: middle;\n",
       "    }\n",
       "\n",
       "    .dataframe tbody tr th {\n",
       "        vertical-align: top;\n",
       "    }\n",
       "\n",
       "    .dataframe thead th {\n",
       "        text-align: right;\n",
       "    }\n",
       "</style>\n",
       "<table border=\"1\" class=\"dataframe\">\n",
       "  <thead>\n",
       "    <tr style=\"text-align: right;\">\n",
       "      <th></th>\n",
       "    </tr>\n",
       "  </thead>\n",
       "  <tbody>\n",
       "  </tbody>\n",
       "</table>\n",
       "</div>"
      ],
      "text/plain": [
       "Empty DataFrame\n",
       "Columns: []\n",
       "Index: []"
      ]
     },
     "execution_count": 3,
     "metadata": {},
     "output_type": "execute_result"
    }
   ],
   "source": [
    "ipypandas.disable()\n",
    "\n",
    "pd.DataFrame()\n"
   ]
  },
  {
   "cell_type": "code",
   "execution_count": 4,
   "metadata": {},
   "outputs": [
    {
     "data": {
      "application/vnd.jupyter.widget-view+json": {
       "model_id": "97ccb9664cfb40689b3e2199d9c1ed0c",
       "version_major": 2,
       "version_minor": 0
      },
      "text/plain": [
       "Empty DataFrame\n",
       "Columns: []\n",
       "Index: []"
      ]
     },
     "metadata": {},
     "output_type": "display_data"
    }
   ],
   "source": [
    "ipypandas.enable()\n",
    "\n",
    "pd.DataFrame()\n"
   ]
  },
  {
   "cell_type": "code",
   "execution_count": 5,
   "metadata": {},
   "outputs": [
    {
     "data": {
      "application/vnd.jupyter.widget-view+json": {
       "model_id": "7d72f27df48f43f287de210b884c6d03",
       "version_major": 2,
       "version_minor": 0
      },
      "text/plain": [
       "           A         B         C         D\n",
       "0  -2.128038 -0.276618  0.192153  0.404541\n",
       "1  -0.109923 -0.207738 -…"
      ]
     },
     "metadata": {},
     "output_type": "display_data"
    }
   ],
   "source": [
    "df1 = pd.DataFrame(np.random.randn(100, 4), columns=['A', 'B', 'C', 'D'])\n",
    "df1\n"
   ]
  },
  {
   "cell_type": "code",
   "execution_count": 6,
   "metadata": {},
   "outputs": [
    {
     "data": {
      "text/html": [
       "<div>\n",
       "<style scoped>\n",
       "    .dataframe tbody tr th:only-of-type {\n",
       "        vertical-align: middle;\n",
       "    }\n",
       "\n",
       "    .dataframe tbody tr th {\n",
       "        vertical-align: top;\n",
       "    }\n",
       "\n",
       "    .dataframe thead th {\n",
       "        text-align: right;\n",
       "    }\n",
       "</style>\n",
       "<table border=\"1\" class=\"dataframe\">\n",
       "  <thead>\n",
       "    <tr style=\"text-align: right;\">\n",
       "      <th></th>\n",
       "      <th>B</th>\n",
       "      <th>C</th>\n",
       "      <th>D</th>\n",
       "    </tr>\n",
       "    <tr>\n",
       "      <th>A</th>\n",
       "      <th></th>\n",
       "      <th></th>\n",
       "      <th></th>\n",
       "    </tr>\n",
       "  </thead>\n",
       "  <tbody>\n",
       "    <tr>\n",
       "      <th>-2.128038</th>\n",
       "      <td>-0.276618</td>\n",
       "      <td>0.192153</td>\n",
       "      <td>0.404541</td>\n",
       "    </tr>\n",
       "    <tr>\n",
       "      <th>-0.109923</th>\n",
       "      <td>-0.207738</td>\n",
       "      <td>-0.064013</td>\n",
       "      <td>-1.263053</td>\n",
       "    </tr>\n",
       "    <tr>\n",
       "      <th>0.294207</th>\n",
       "      <td>-0.638336</td>\n",
       "      <td>-0.611467</td>\n",
       "      <td>-0.148017</td>\n",
       "    </tr>\n",
       "    <tr>\n",
       "      <th>1.640963</th>\n",
       "      <td>-0.673060</td>\n",
       "      <td>1.228564</td>\n",
       "      <td>0.683643</td>\n",
       "    </tr>\n",
       "    <tr>\n",
       "      <th>0.809589</th>\n",
       "      <td>0.373972</td>\n",
       "      <td>-0.697439</td>\n",
       "      <td>-0.477361</td>\n",
       "    </tr>\n",
       "  </tbody>\n",
       "</table>\n",
       "</div>"
      ],
      "text/plain": [
       "                  B         C         D\n",
       "A                                      \n",
       "-2.128038 -0.276618  0.192153  0.404541\n",
       "-0.109923 -0.207738 -0.064013 -1.263053\n",
       " 0.294207 -0.638336 -0.611467 -0.148017\n",
       " 1.640963 -0.673060  1.228564  0.683643\n",
       " 0.809589  0.373972 -0.697439 -0.477361"
      ]
     },
     "execution_count": 6,
     "metadata": {},
     "output_type": "execute_result"
    }
   ],
   "source": [
    "ipypandas.disable()\n",
    "\n",
    "df2 = df1.set_index('A').head()\n",
    "df2\n"
   ]
  },
  {
   "cell_type": "code",
   "execution_count": 7,
   "metadata": {},
   "outputs": [
    {
     "data": {
      "application/vnd.jupyter.widget-view+json": {
       "model_id": "463943c6f4934400bb8ee45ee771788f",
       "version_major": 2,
       "version_minor": 0
      },
      "text/plain": [
       "                  B         C         D\n",
       "A                                      \n",
       "-2.128038 -0.276618  0.192153 …"
      ]
     },
     "metadata": {},
     "output_type": "display_data"
    }
   ],
   "source": [
    "ipypandas.enable()\n",
    "\n",
    "df2 = df1.set_index('A').head()\n",
    "df2\n"
   ]
  },
  {
   "cell_type": "code",
   "execution_count": 8,
   "metadata": {},
   "outputs": [
    {
     "data": {
      "application/vnd.jupyter.widget-view+json": {
       "model_id": "56807c3ba6c04e958a29db215132447b",
       "version_major": 2,
       "version_minor": 0
      },
      "text/plain": [
       "           A         B         C         D    1    2    3    4    5    6  ...  \\\n",
       "0                            …"
      ]
     },
     "metadata": {},
     "output_type": "display_data"
    }
   ],
   "source": [
    "groups = np.random.randint(0, df1.shape[0], size=(df1.shape[0], 50))\n",
    "\n",
    "df3 = pd.concat([df1, pd.DataFrame(groups)], axis=1).groupby(0).sum()\n",
    "df3\n"
   ]
  },
  {
   "cell_type": "code",
   "execution_count": 9,
   "metadata": {},
   "outputs": [
    {
     "data": {
      "text/html": [
       "<div>\n",
       "<style scoped>\n",
       "    .dataframe tbody tr th:only-of-type {\n",
       "        vertical-align: middle;\n",
       "    }\n",
       "\n",
       "    .dataframe tbody tr th {\n",
       "        vertical-align: top;\n",
       "    }\n",
       "\n",
       "    .dataframe thead th {\n",
       "        text-align: right;\n",
       "    }\n",
       "</style>\n",
       "<table border=\"1\" class=\"dataframe\">\n",
       "  <thead>\n",
       "    <tr style=\"text-align: right;\">\n",
       "      <th></th>\n",
       "      <th>A</th>\n",
       "      <th>B</th>\n",
       "      <th>C</th>\n",
       "      <th>D</th>\n",
       "      <th>1</th>\n",
       "      <th>2</th>\n",
       "      <th>3</th>\n",
       "      <th>4</th>\n",
       "      <th>5</th>\n",
       "      <th>6</th>\n",
       "      <th>...</th>\n",
       "      <th>40</th>\n",
       "      <th>41</th>\n",
       "      <th>42</th>\n",
       "      <th>43</th>\n",
       "      <th>44</th>\n",
       "      <th>45</th>\n",
       "      <th>46</th>\n",
       "      <th>47</th>\n",
       "      <th>48</th>\n",
       "      <th>49</th>\n",
       "    </tr>\n",
       "    <tr>\n",
       "      <th>0</th>\n",
       "      <th></th>\n",
       "      <th></th>\n",
       "      <th></th>\n",
       "      <th></th>\n",
       "      <th></th>\n",
       "      <th></th>\n",
       "      <th></th>\n",
       "      <th></th>\n",
       "      <th></th>\n",
       "      <th></th>\n",
       "      <th></th>\n",
       "      <th></th>\n",
       "      <th></th>\n",
       "      <th></th>\n",
       "      <th></th>\n",
       "      <th></th>\n",
       "      <th></th>\n",
       "      <th></th>\n",
       "      <th></th>\n",
       "      <th></th>\n",
       "      <th></th>\n",
       "    </tr>\n",
       "  </thead>\n",
       "  <tbody>\n",
       "    <tr>\n",
       "      <th>0</th>\n",
       "      <td>0.161193</td>\n",
       "      <td>-0.070849</td>\n",
       "      <td>-0.105690</td>\n",
       "      <td>0.842576</td>\n",
       "      <td>46</td>\n",
       "      <td>46</td>\n",
       "      <td>38</td>\n",
       "      <td>87</td>\n",
       "      <td>48</td>\n",
       "      <td>12</td>\n",
       "      <td>...</td>\n",
       "      <td>70</td>\n",
       "      <td>93</td>\n",
       "      <td>70</td>\n",
       "      <td>70</td>\n",
       "      <td>33</td>\n",
       "      <td>89</td>\n",
       "      <td>7</td>\n",
       "      <td>87</td>\n",
       "      <td>15</td>\n",
       "      <td>19</td>\n",
       "    </tr>\n",
       "    <tr>\n",
       "      <th>3</th>\n",
       "      <td>-0.068377</td>\n",
       "      <td>2.783010</td>\n",
       "      <td>0.917555</td>\n",
       "      <td>1.790227</td>\n",
       "      <td>105</td>\n",
       "      <td>189</td>\n",
       "      <td>152</td>\n",
       "      <td>100</td>\n",
       "      <td>212</td>\n",
       "      <td>150</td>\n",
       "      <td>...</td>\n",
       "      <td>161</td>\n",
       "      <td>100</td>\n",
       "      <td>73</td>\n",
       "      <td>138</td>\n",
       "      <td>199</td>\n",
       "      <td>181</td>\n",
       "      <td>157</td>\n",
       "      <td>181</td>\n",
       "      <td>145</td>\n",
       "      <td>150</td>\n",
       "    </tr>\n",
       "    <tr>\n",
       "      <th>4</th>\n",
       "      <td>1.733980</td>\n",
       "      <td>-0.862210</td>\n",
       "      <td>1.050498</td>\n",
       "      <td>-0.872319</td>\n",
       "      <td>10</td>\n",
       "      <td>70</td>\n",
       "      <td>23</td>\n",
       "      <td>67</td>\n",
       "      <td>45</td>\n",
       "      <td>40</td>\n",
       "      <td>...</td>\n",
       "      <td>76</td>\n",
       "      <td>34</td>\n",
       "      <td>80</td>\n",
       "      <td>71</td>\n",
       "      <td>3</td>\n",
       "      <td>44</td>\n",
       "      <td>90</td>\n",
       "      <td>73</td>\n",
       "      <td>20</td>\n",
       "      <td>32</td>\n",
       "    </tr>\n",
       "    <tr>\n",
       "      <th>5</th>\n",
       "      <td>0.161005</td>\n",
       "      <td>2.000103</td>\n",
       "      <td>1.102571</td>\n",
       "      <td>0.500730</td>\n",
       "      <td>49</td>\n",
       "      <td>32</td>\n",
       "      <td>76</td>\n",
       "      <td>83</td>\n",
       "      <td>24</td>\n",
       "      <td>32</td>\n",
       "      <td>...</td>\n",
       "      <td>80</td>\n",
       "      <td>42</td>\n",
       "      <td>93</td>\n",
       "      <td>60</td>\n",
       "      <td>61</td>\n",
       "      <td>24</td>\n",
       "      <td>85</td>\n",
       "      <td>89</td>\n",
       "      <td>93</td>\n",
       "      <td>10</td>\n",
       "    </tr>\n",
       "    <tr>\n",
       "      <th>6</th>\n",
       "      <td>-1.030755</td>\n",
       "      <td>0.018647</td>\n",
       "      <td>0.016669</td>\n",
       "      <td>0.312163</td>\n",
       "      <td>115</td>\n",
       "      <td>117</td>\n",
       "      <td>151</td>\n",
       "      <td>95</td>\n",
       "      <td>256</td>\n",
       "      <td>167</td>\n",
       "      <td>...</td>\n",
       "      <td>218</td>\n",
       "      <td>68</td>\n",
       "      <td>195</td>\n",
       "      <td>86</td>\n",
       "      <td>92</td>\n",
       "      <td>93</td>\n",
       "      <td>200</td>\n",
       "      <td>196</td>\n",
       "      <td>220</td>\n",
       "      <td>189</td>\n",
       "    </tr>\n",
       "    <tr>\n",
       "      <th>...</th>\n",
       "      <td>...</td>\n",
       "      <td>...</td>\n",
       "      <td>...</td>\n",
       "      <td>...</td>\n",
       "      <td>...</td>\n",
       "      <td>...</td>\n",
       "      <td>...</td>\n",
       "      <td>...</td>\n",
       "      <td>...</td>\n",
       "      <td>...</td>\n",
       "      <td>...</td>\n",
       "      <td>...</td>\n",
       "      <td>...</td>\n",
       "      <td>...</td>\n",
       "      <td>...</td>\n",
       "      <td>...</td>\n",
       "      <td>...</td>\n",
       "      <td>...</td>\n",
       "      <td>...</td>\n",
       "      <td>...</td>\n",
       "      <td>...</td>\n",
       "    </tr>\n",
       "    <tr>\n",
       "      <th>92</th>\n",
       "      <td>0.353494</td>\n",
       "      <td>-0.063609</td>\n",
       "      <td>-0.548540</td>\n",
       "      <td>-0.732265</td>\n",
       "      <td>64</td>\n",
       "      <td>57</td>\n",
       "      <td>14</td>\n",
       "      <td>3</td>\n",
       "      <td>62</td>\n",
       "      <td>72</td>\n",
       "      <td>...</td>\n",
       "      <td>92</td>\n",
       "      <td>46</td>\n",
       "      <td>11</td>\n",
       "      <td>82</td>\n",
       "      <td>35</td>\n",
       "      <td>82</td>\n",
       "      <td>74</td>\n",
       "      <td>58</td>\n",
       "      <td>79</td>\n",
       "      <td>20</td>\n",
       "    </tr>\n",
       "    <tr>\n",
       "      <th>94</th>\n",
       "      <td>0.720045</td>\n",
       "      <td>-0.545291</td>\n",
       "      <td>-1.939187</td>\n",
       "      <td>-1.839384</td>\n",
       "      <td>10</td>\n",
       "      <td>41</td>\n",
       "      <td>70</td>\n",
       "      <td>11</td>\n",
       "      <td>58</td>\n",
       "      <td>9</td>\n",
       "      <td>...</td>\n",
       "      <td>2</td>\n",
       "      <td>8</td>\n",
       "      <td>13</td>\n",
       "      <td>32</td>\n",
       "      <td>9</td>\n",
       "      <td>21</td>\n",
       "      <td>45</td>\n",
       "      <td>91</td>\n",
       "      <td>15</td>\n",
       "      <td>15</td>\n",
       "    </tr>\n",
       "    <tr>\n",
       "      <th>96</th>\n",
       "      <td>-1.720690</td>\n",
       "      <td>-2.743886</td>\n",
       "      <td>1.186140</td>\n",
       "      <td>2.497362</td>\n",
       "      <td>130</td>\n",
       "      <td>178</td>\n",
       "      <td>75</td>\n",
       "      <td>83</td>\n",
       "      <td>217</td>\n",
       "      <td>90</td>\n",
       "      <td>...</td>\n",
       "      <td>141</td>\n",
       "      <td>202</td>\n",
       "      <td>165</td>\n",
       "      <td>144</td>\n",
       "      <td>169</td>\n",
       "      <td>115</td>\n",
       "      <td>171</td>\n",
       "      <td>203</td>\n",
       "      <td>174</td>\n",
       "      <td>101</td>\n",
       "    </tr>\n",
       "    <tr>\n",
       "      <th>98</th>\n",
       "      <td>0.770724</td>\n",
       "      <td>-1.075927</td>\n",
       "      <td>2.373274</td>\n",
       "      <td>-1.364219</td>\n",
       "      <td>4</td>\n",
       "      <td>91</td>\n",
       "      <td>35</td>\n",
       "      <td>38</td>\n",
       "      <td>36</td>\n",
       "      <td>94</td>\n",
       "      <td>...</td>\n",
       "      <td>52</td>\n",
       "      <td>21</td>\n",
       "      <td>89</td>\n",
       "      <td>83</td>\n",
       "      <td>75</td>\n",
       "      <td>89</td>\n",
       "      <td>53</td>\n",
       "      <td>87</td>\n",
       "      <td>44</td>\n",
       "      <td>15</td>\n",
       "    </tr>\n",
       "    <tr>\n",
       "      <th>99</th>\n",
       "      <td>-0.307113</td>\n",
       "      <td>0.722107</td>\n",
       "      <td>0.420282</td>\n",
       "      <td>-0.336682</td>\n",
       "      <td>21</td>\n",
       "      <td>35</td>\n",
       "      <td>73</td>\n",
       "      <td>29</td>\n",
       "      <td>51</td>\n",
       "      <td>71</td>\n",
       "      <td>...</td>\n",
       "      <td>25</td>\n",
       "      <td>62</td>\n",
       "      <td>40</td>\n",
       "      <td>70</td>\n",
       "      <td>22</td>\n",
       "      <td>22</td>\n",
       "      <td>97</td>\n",
       "      <td>2</td>\n",
       "      <td>19</td>\n",
       "      <td>92</td>\n",
       "    </tr>\n",
       "  </tbody>\n",
       "</table>\n",
       "<p>62 rows × 53 columns</p>\n",
       "</div>"
      ],
      "text/plain": [
       "           A         B         C         D    1    2    3    4    5    6  ...  \\\n",
       "0                                                                         ...   \n",
       "0   0.161193 -0.070849 -0.105690  0.842576   46   46   38   87   48   12  ...   \n",
       "3  -0.068377  2.783010  0.917555  1.790227  105  189  152  100  212  150  ...   \n",
       "4   1.733980 -0.862210  1.050498 -0.872319   10   70   23   67   45   40  ...   \n",
       "5   0.161005  2.000103  1.102571  0.500730   49   32   76   83   24   32  ...   \n",
       "6  -1.030755  0.018647  0.016669  0.312163  115  117  151   95  256  167  ...   \n",
       "..       ...       ...       ...       ...  ...  ...  ...  ...  ...  ...  ...   \n",
       "92  0.353494 -0.063609 -0.548540 -0.732265   64   57   14    3   62   72  ...   \n",
       "94  0.720045 -0.545291 -1.939187 -1.839384   10   41   70   11   58    9  ...   \n",
       "96 -1.720690 -2.743886  1.186140  2.497362  130  178   75   83  217   90  ...   \n",
       "98  0.770724 -1.075927  2.373274 -1.364219    4   91   35   38   36   94  ...   \n",
       "99 -0.307113  0.722107  0.420282 -0.336682   21   35   73   29   51   71  ...   \n",
       "\n",
       "     40   41   42   43   44   45   46   47   48   49  \n",
       "0                                                     \n",
       "0    70   93   70   70   33   89    7   87   15   19  \n",
       "3   161  100   73  138  199  181  157  181  145  150  \n",
       "4    76   34   80   71    3   44   90   73   20   32  \n",
       "5    80   42   93   60   61   24   85   89   93   10  \n",
       "6   218   68  195   86   92   93  200  196  220  189  \n",
       "..  ...  ...  ...  ...  ...  ...  ...  ...  ...  ...  \n",
       "92   92   46   11   82   35   82   74   58   79   20  \n",
       "94    2    8   13   32    9   21   45   91   15   15  \n",
       "96  141  202  165  144  169  115  171  203  174  101  \n",
       "98   52   21   89   83   75   89   53   87   44   15  \n",
       "99   25   62   40   70   22   22   97    2   19   92  \n",
       "\n",
       "[62 rows x 53 columns]"
      ]
     },
     "execution_count": 9,
     "metadata": {},
     "output_type": "execute_result"
    }
   ],
   "source": [
    "ipypandas.disable()\n",
    "\n",
    "df3\n"
   ]
  },
  {
   "cell_type": "code",
   "execution_count": 10,
   "metadata": {},
   "outputs": [
    {
     "data": {
      "application/vnd.jupyter.widget-view+json": {
       "model_id": "1a25f202deaf45049770130885ad21ec",
       "version_major": 2,
       "version_minor": 0
      },
      "text/plain": [
       "Model:                Decision Tree            Regression            Random  \\\n",
       "Predicted:                   Tu…"
      ]
     },
     "metadata": {},
     "output_type": "display_data"
    }
   ],
   "source": [
    "ipypandas.enable()\n",
    "\n",
    "df4 = pd.DataFrame([[38.0, 2.0, 18.0, 22.0, 21, np.nan], [19, 439, 6, 452, 226, 232]],\n",
    "                   index=pd.Index(['Tumour (Positive)', 'Non-Tumour (Negative)'], name='Actual Label:'),\n",
    "                   columns=pd.MultiIndex.from_product([['Decision Tree', 'Regression', 'Random'], ['Tumour', 'Non-Tumour']], names=['Model:', 'Predicted:']))\n",
    "df4\n"
   ]
  },
  {
   "cell_type": "code",
   "execution_count": 11,
   "metadata": {},
   "outputs": [
    {
     "data": {
      "text/html": [
       "<div>\n",
       "<style scoped>\n",
       "    .dataframe tbody tr th:only-of-type {\n",
       "        vertical-align: middle;\n",
       "    }\n",
       "\n",
       "    .dataframe tbody tr th {\n",
       "        vertical-align: top;\n",
       "    }\n",
       "\n",
       "    .dataframe thead tr th {\n",
       "        text-align: left;\n",
       "    }\n",
       "\n",
       "    .dataframe thead tr:last-of-type th {\n",
       "        text-align: right;\n",
       "    }\n",
       "</style>\n",
       "<table border=\"1\" class=\"dataframe\">\n",
       "  <thead>\n",
       "    <tr>\n",
       "      <th>Model:</th>\n",
       "      <th colspan=\"2\" halign=\"left\">Decision Tree</th>\n",
       "      <th colspan=\"2\" halign=\"left\">Regression</th>\n",
       "      <th colspan=\"2\" halign=\"left\">Random</th>\n",
       "    </tr>\n",
       "    <tr>\n",
       "      <th>Predicted:</th>\n",
       "      <th>Tumour</th>\n",
       "      <th>Non-Tumour</th>\n",
       "      <th>Tumour</th>\n",
       "      <th>Non-Tumour</th>\n",
       "      <th>Tumour</th>\n",
       "      <th>Non-Tumour</th>\n",
       "    </tr>\n",
       "    <tr>\n",
       "      <th>Actual Label:</th>\n",
       "      <th></th>\n",
       "      <th></th>\n",
       "      <th></th>\n",
       "      <th></th>\n",
       "      <th></th>\n",
       "      <th></th>\n",
       "    </tr>\n",
       "  </thead>\n",
       "  <tbody>\n",
       "    <tr>\n",
       "      <th>Tumour (Positive)</th>\n",
       "      <td>38.0</td>\n",
       "      <td>2.0</td>\n",
       "      <td>18.0</td>\n",
       "      <td>22.0</td>\n",
       "      <td>21</td>\n",
       "      <td>NaN</td>\n",
       "    </tr>\n",
       "    <tr>\n",
       "      <th>Non-Tumour (Negative)</th>\n",
       "      <td>19.0</td>\n",
       "      <td>439.0</td>\n",
       "      <td>6.0</td>\n",
       "      <td>452.0</td>\n",
       "      <td>226</td>\n",
       "      <td>232.0</td>\n",
       "    </tr>\n",
       "  </tbody>\n",
       "</table>\n",
       "</div>"
      ],
      "text/plain": [
       "Model:                Decision Tree            Regression            Random  \\\n",
       "Predicted:                   Tumour Non-Tumour     Tumour Non-Tumour Tumour   \n",
       "Actual Label:                                                                 \n",
       "Tumour (Positive)              38.0        2.0       18.0       22.0     21   \n",
       "Non-Tumour (Negative)          19.0      439.0        6.0      452.0    226   \n",
       "\n",
       "Model:                            \n",
       "Predicted:            Non-Tumour  \n",
       "Actual Label:                     \n",
       "Tumour (Positive)            NaN  \n",
       "Non-Tumour (Negative)      232.0  "
      ]
     },
     "execution_count": 11,
     "metadata": {},
     "output_type": "execute_result"
    }
   ],
   "source": [
    "ipypandas.disable()\n",
    "df4\n"
   ]
  },
  {
   "cell_type": "code",
   "execution_count": 12,
   "metadata": {},
   "outputs": [
    {
     "data": {
      "application/vnd.jupyter.widget-view+json": {
       "model_id": "4ca0802354174e3d9245fcb64328d3e2",
       "version_major": 2,
       "version_minor": 0
      },
      "text/plain": [
       "           A         B         C         D    1    2    3    4    5    6  ...  \\\n",
       "0                            …"
      ]
     },
     "metadata": {},
     "output_type": "display_data"
    }
   ],
   "source": [
    "df5 = ipypandas.PandasWidget(df=df3)\n",
    "df5\n"
   ]
  },
  {
   "cell_type": "code",
   "execution_count": 13,
   "metadata": {},
   "outputs": [
    {
     "name": "stdout",
     "output_type": "stream",
     "text": [
      "           A         B         C         D    1    2    3    4    5    6  ...  \\\n",
      "0                                                                         ...   \n",
      "0   0.161193 -0.070849 -0.105690  0.842576   46   46   38   87   48   12  ...   \n",
      "3  -0.068377  2.783010  0.917555  1.790227  105  189  152  100  212  150  ...   \n",
      "4   1.733980 -0.862210  1.050498 -0.872319   10   70   23   67   45   40  ...   \n",
      "5   0.161005  2.000103  1.102571  0.500730   49   32   76   83   24   32  ...   \n",
      "6  -1.030755  0.018647  0.016669  0.312163  115  117  151   95  256  167  ...   \n",
      "..       ...       ...       ...       ...  ...  ...  ...  ...  ...  ...  ...   \n",
      "92  0.353494 -0.063609 -0.548540 -0.732265   64   57   14    3   62   72  ...   \n",
      "94  0.720045 -0.545291 -1.939187 -1.839384   10   41   70   11   58    9  ...   \n",
      "96 -1.720690 -2.743886  1.186140  2.497362  130  178   75   83  217   90  ...   \n",
      "98  0.770724 -1.075927  2.373274 -1.364219    4   91   35   38   36   94  ...   \n",
      "99 -0.307113  0.722107  0.420282 -0.336682   21   35   73   29   51   71  ...   \n",
      "\n",
      "     40   41   42   43   44   45   46   47   48   49  \n",
      "0                                                     \n",
      "0    70   93   70   70   33   89    7   87   15   19  \n",
      "3   161  100   73  138  199  181  157  181  145  150  \n",
      "4    76   34   80   71    3   44   90   73   20   32  \n",
      "5    80   42   93   60   61   24   85   89   93   10  \n",
      "6   218   68  195   86   92   93  200  196  220  189  \n",
      "..  ...  ...  ...  ...  ...  ...  ...  ...  ...  ...  \n",
      "92   92   46   11   82   35   82   74   58   79   20  \n",
      "94    2    8   13   32    9   21   45   91   15   15  \n",
      "96  141  202  165  144  169  115  171  203  174  101  \n",
      "98   52   21   89   83   75   89   53   87   44   15  \n",
      "99   25   62   40   70   22   22   97    2   19   92  \n",
      "\n",
      "[62 rows x 53 columns]\n"
     ]
    }
   ],
   "source": [
    "print(df5)\n"
   ]
  }
 ],
 "metadata": {
  "kernelspec": {
   "display_name": "Python 3 (ipykernel)",
   "language": "python",
   "name": "python3"
  },
  "language_info": {
   "codemirror_mode": {
    "name": "ipython",
    "version": 3
   },
   "file_extension": ".py",
   "mimetype": "text/x-python",
   "name": "python",
   "nbconvert_exporter": "python",
   "pygments_lexer": "ipython3",
   "version": "3.9.10"
  }
 },
 "nbformat": 4,
 "nbformat_minor": 4
}
