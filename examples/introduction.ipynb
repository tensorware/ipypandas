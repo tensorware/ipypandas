{
 "cells": [
  {
   "cell_type": "markdown",
   "metadata": {},
   "source": [
    "# Imports"
   ]
  },
  {
   "cell_type": "code",
   "execution_count": 1,
   "metadata": {},
   "outputs": [],
   "source": [
    "import random\n",
    "import string\n",
    "import ipypandas\n",
    "\n",
    "import numpy as np\n",
    "import pandas as pd\n"
   ]
  },
  {
   "cell_type": "code",
   "execution_count": 2,
   "metadata": {},
   "outputs": [],
   "source": [
    "# The numbers of rows to show in a truncated view (when max_rows is exceeded).\n",
    "# Ignored when max_rows is set to None or 0. When set to None, follows the value of max_rows.\n",
    "pd.set_option('display.min_rows', 10)  # [default: 10]\n",
    "\n",
    "# If max_rows is exceeded, switch to truncate view.\n",
    "# Depending on large_repr, objects are either centrally truncated or printed as a summary view.\n",
    "pd.set_option('display.max_rows', 60)  # [default: 60]\n",
    "\n",
    "# The maximum width in characters of a column in the repr of a pandas data structure.\n",
    "# When the column overflows, a “…” placeholder is embedded in the output.\n",
    "pd.set_option('display.max_colwidth', 50)  # [default: 50]\n"
   ]
  },
  {
   "cell_type": "code",
   "execution_count": 3,
   "metadata": {},
   "outputs": [
    {
     "data": {
      "application/vnd.jupyter.widget-view+json": {
       "model_id": "b64fcde05ae8404aaadfdf42ca0012c1",
       "version_major": 2,
       "version_minor": 0
      },
      "text/plain": [
       "            1  0.3333333333333333         A         B\n",
       "0    0.639974            0.350952  1.106304  2.100990\n",
       "1 …"
      ]
     },
     "metadata": {},
     "output_type": "display_data"
    }
   ],
   "source": [
    "ipypandas.enable()\n",
    "\n",
    "n = 1000\n",
    "df1 = pd.DataFrame(np.random.randn(n, 4), columns=[1, 1/3, 'A', 'B'])\n",
    "\n",
    "styler = df1.style.format({1: lambda x: f'-- {x:.2f} --'})\n",
    "styler.set_caption('Styled table')\n",
    "styler\n"
   ]
  },
  {
   "cell_type": "code",
   "execution_count": 4,
   "metadata": {},
   "outputs": [],
   "source": [
    "def rand_int(low, hi):\n",
    "    while True:\n",
    "        yield random.randint(low, hi)\n",
    "\n",
    "\n",
    "def rand_words(size):\n",
    "    chars = ''.join(random.choice(string.ascii_letters) for x in range(size))\n",
    "    for n in rand_int(3, 10):\n",
    "        if n > len(chars):\n",
    "            break\n",
    "        yield chars[:n]\n",
    "        chars = chars[n::]\n",
    "\n",
    "\n",
    "def rand_sentences(length, count):\n",
    "    return [' '.join(rand_words(random.randint(length, int(length * 5)))) for x in range(count)]\n"
   ]
  },
  {
   "cell_type": "markdown",
   "metadata": {
    "tags": []
   },
   "source": [
    "# DataFrame"
   ]
  },
  {
   "cell_type": "code",
   "execution_count": 5,
   "metadata": {},
   "outputs": [
    {
     "data": {
      "application/vnd.jupyter.widget-view+json": {
       "model_id": "51e6623811c84faf81182a288ac86d9a",
       "version_major": 2,
       "version_minor": 0
      },
      "text/plain": [
       "Empty DataFrame\n",
       "Columns: []\n",
       "Index: []"
      ]
     },
     "metadata": {},
     "output_type": "display_data"
    }
   ],
   "source": [
    "ipypandas.enable()\n",
    "\n",
    "pd.DataFrame()\n"
   ]
  },
  {
   "cell_type": "code",
   "execution_count": 6,
   "metadata": {},
   "outputs": [
    {
     "data": {
      "application/vnd.jupyter.widget-view+json": {
       "model_id": "03c8678180e049d8bd51ee4766f2d1c8",
       "version_major": 2,
       "version_minor": 0
      },
      "text/plain": [
       "Empty DataFrame\n",
       "Columns: [One, Two]\n",
       "Index: []"
      ]
     },
     "metadata": {},
     "output_type": "display_data"
    }
   ],
   "source": [
    "ipypandas.enable()\n",
    "\n",
    "pd.DataFrame(columns=['One', 'Two'])\n"
   ]
  },
  {
   "cell_type": "code",
   "execution_count": 7,
   "metadata": {
    "tags": []
   },
   "outputs": [
    {
     "data": {
      "application/vnd.jupyter.widget-view+json": {
       "model_id": "71f79bc36e2a4a28ae8d34db95b168af",
       "version_major": 2,
       "version_minor": 0
      },
      "text/plain": [
       "                                                   One  \\\n",
       "0                        lXkIIQxf lPBTHXtjIG KGVHWhy…"
      ]
     },
     "metadata": {},
     "output_type": "display_data"
    }
   ],
   "source": [
    "ipypandas.enable()\n",
    "\n",
    "n = 1000\n",
    "pd.DataFrame(data={'One': rand_sentences(10, n), 'Two': rand_sentences(30, n), 'Three': rand_sentences(90, n)})\n"
   ]
  },
  {
   "cell_type": "code",
   "execution_count": 8,
   "metadata": {},
   "outputs": [
    {
     "data": {
      "application/vnd.jupyter.widget-view+json": {
       "model_id": "299d338947e84d4cb0c5a94c0989df48",
       "version_major": 2,
       "version_minor": 0
      },
      "text/plain": [
       "           A         B         C         D\n",
       "0   1.252952  0.266604 -0.485154  0.700894\n",
       "1  -0.567995  1.810720 -…"
      ]
     },
     "metadata": {},
     "output_type": "display_data"
    }
   ],
   "source": [
    "ipypandas.enable()\n",
    "\n",
    "n = 100\n",
    "df1 = pd.DataFrame(np.random.randn(n, 4), columns=['A', 'B', 'C', 'D'])\n",
    "df1\n"
   ]
  },
  {
   "cell_type": "code",
   "execution_count": 9,
   "metadata": {},
   "outputs": [
    {
     "data": {
      "text/html": [
       "<div>\n",
       "<style scoped>\n",
       "    .dataframe tbody tr th:only-of-type {\n",
       "        vertical-align: middle;\n",
       "    }\n",
       "\n",
       "    .dataframe tbody tr th {\n",
       "        vertical-align: top;\n",
       "    }\n",
       "\n",
       "    .dataframe thead th {\n",
       "        text-align: right;\n",
       "    }\n",
       "</style>\n",
       "<table border=\"1\" class=\"dataframe\">\n",
       "  <thead>\n",
       "    <tr style=\"text-align: right;\">\n",
       "      <th></th>\n",
       "      <th>B</th>\n",
       "      <th>C</th>\n",
       "      <th>D</th>\n",
       "    </tr>\n",
       "    <tr>\n",
       "      <th>A</th>\n",
       "      <th></th>\n",
       "      <th></th>\n",
       "      <th></th>\n",
       "    </tr>\n",
       "  </thead>\n",
       "  <tbody>\n",
       "    <tr>\n",
       "      <th>1.252952</th>\n",
       "      <td>0.266604</td>\n",
       "      <td>-0.485154</td>\n",
       "      <td>0.700894</td>\n",
       "    </tr>\n",
       "    <tr>\n",
       "      <th>-0.567995</th>\n",
       "      <td>1.810720</td>\n",
       "      <td>-0.299671</td>\n",
       "      <td>0.656854</td>\n",
       "    </tr>\n",
       "    <tr>\n",
       "      <th>0.433643</th>\n",
       "      <td>-0.570265</td>\n",
       "      <td>-1.156226</td>\n",
       "      <td>-0.267045</td>\n",
       "    </tr>\n",
       "    <tr>\n",
       "      <th>-1.020101</th>\n",
       "      <td>-0.204616</td>\n",
       "      <td>0.181828</td>\n",
       "      <td>0.183729</td>\n",
       "    </tr>\n",
       "    <tr>\n",
       "      <th>-0.847608</th>\n",
       "      <td>0.314630</td>\n",
       "      <td>0.374726</td>\n",
       "      <td>-0.800483</td>\n",
       "    </tr>\n",
       "    <tr>\n",
       "      <th>...</th>\n",
       "      <td>...</td>\n",
       "      <td>...</td>\n",
       "      <td>...</td>\n",
       "    </tr>\n",
       "    <tr>\n",
       "      <th>-0.336178</th>\n",
       "      <td>0.225051</td>\n",
       "      <td>-0.058078</td>\n",
       "      <td>0.776406</td>\n",
       "    </tr>\n",
       "    <tr>\n",
       "      <th>-1.061820</th>\n",
       "      <td>-0.150144</td>\n",
       "      <td>0.751134</td>\n",
       "      <td>-1.724531</td>\n",
       "    </tr>\n",
       "    <tr>\n",
       "      <th>0.682064</th>\n",
       "      <td>0.986869</td>\n",
       "      <td>-1.087567</td>\n",
       "      <td>-0.465627</td>\n",
       "    </tr>\n",
       "    <tr>\n",
       "      <th>-0.850854</th>\n",
       "      <td>-1.127398</td>\n",
       "      <td>1.731552</td>\n",
       "      <td>-0.329359</td>\n",
       "    </tr>\n",
       "    <tr>\n",
       "      <th>1.584013</th>\n",
       "      <td>0.646916</td>\n",
       "      <td>0.353572</td>\n",
       "      <td>0.295312</td>\n",
       "    </tr>\n",
       "  </tbody>\n",
       "</table>\n",
       "<p>100 rows × 3 columns</p>\n",
       "</div>"
      ],
      "text/plain": [
       "                  B         C         D\n",
       "A                                      \n",
       " 1.252952  0.266604 -0.485154  0.700894\n",
       "-0.567995  1.810720 -0.299671  0.656854\n",
       " 0.433643 -0.570265 -1.156226 -0.267045\n",
       "-1.020101 -0.204616  0.181828  0.183729\n",
       "-0.847608  0.314630  0.374726 -0.800483\n",
       "...             ...       ...       ...\n",
       "-0.336178  0.225051 -0.058078  0.776406\n",
       "-1.061820 -0.150144  0.751134 -1.724531\n",
       " 0.682064  0.986869 -1.087567 -0.465627\n",
       "-0.850854 -1.127398  1.731552 -0.329359\n",
       " 1.584013  0.646916  0.353572  0.295312\n",
       "\n",
       "[100 rows x 3 columns]"
      ]
     },
     "execution_count": 9,
     "metadata": {},
     "output_type": "execute_result"
    }
   ],
   "source": [
    "ipypandas.disable()\n",
    "\n",
    "df2 = df1.set_index('A')\n",
    "df2\n"
   ]
  },
  {
   "cell_type": "code",
   "execution_count": 10,
   "metadata": {},
   "outputs": [
    {
     "data": {
      "application/vnd.jupyter.widget-view+json": {
       "model_id": "7e75b8fad4594a058a5cd1a1440521b5",
       "version_major": 2,
       "version_minor": 0
      },
      "text/plain": [
       "                  B         C         D\n",
       "A                                      \n",
       " 1.252952  0.266604 -0.485154 …"
      ]
     },
     "metadata": {},
     "output_type": "display_data"
    }
   ],
   "source": [
    "ipypandas.enable()\n",
    "\n",
    "df2 = df1.set_index('A').head()\n",
    "df2\n"
   ]
  },
  {
   "cell_type": "code",
   "execution_count": 11,
   "metadata": {},
   "outputs": [
    {
     "data": {
      "application/vnd.jupyter.widget-view+json": {
       "model_id": "afa6eca3a4d249baa71f5b602b0c88cf",
       "version_major": 2,
       "version_minor": 0
      },
      "text/plain": [
       "           A         B         C         D    1   2   3    4    5    6  ...  \\\n",
       "0                              …"
      ]
     },
     "metadata": {},
     "output_type": "display_data"
    }
   ],
   "source": [
    "ipypandas.enable()\n",
    "\n",
    "groups = np.random.randint(0, df1.shape[0], size=(df1.shape[0], 50))\n",
    "df3 = pd.concat([df1, pd.DataFrame(groups)], axis=1).groupby(0).sum()  # .reset_index()\n",
    "df3\n"
   ]
  },
  {
   "cell_type": "code",
   "execution_count": 12,
   "metadata": {},
   "outputs": [
    {
     "data": {
      "text/html": [
       "<div>\n",
       "<style scoped>\n",
       "    .dataframe tbody tr th:only-of-type {\n",
       "        vertical-align: middle;\n",
       "    }\n",
       "\n",
       "    .dataframe tbody tr th {\n",
       "        vertical-align: top;\n",
       "    }\n",
       "\n",
       "    .dataframe thead th {\n",
       "        text-align: right;\n",
       "    }\n",
       "</style>\n",
       "<table border=\"1\" class=\"dataframe\">\n",
       "  <thead>\n",
       "    <tr style=\"text-align: right;\">\n",
       "      <th></th>\n",
       "      <th>A</th>\n",
       "      <th>B</th>\n",
       "      <th>C</th>\n",
       "      <th>D</th>\n",
       "      <th>1</th>\n",
       "      <th>2</th>\n",
       "      <th>3</th>\n",
       "      <th>4</th>\n",
       "      <th>5</th>\n",
       "      <th>6</th>\n",
       "      <th>...</th>\n",
       "      <th>40</th>\n",
       "      <th>41</th>\n",
       "      <th>42</th>\n",
       "      <th>43</th>\n",
       "      <th>44</th>\n",
       "      <th>45</th>\n",
       "      <th>46</th>\n",
       "      <th>47</th>\n",
       "      <th>48</th>\n",
       "      <th>49</th>\n",
       "    </tr>\n",
       "    <tr>\n",
       "      <th>0</th>\n",
       "      <th></th>\n",
       "      <th></th>\n",
       "      <th></th>\n",
       "      <th></th>\n",
       "      <th></th>\n",
       "      <th></th>\n",
       "      <th></th>\n",
       "      <th></th>\n",
       "      <th></th>\n",
       "      <th></th>\n",
       "      <th></th>\n",
       "      <th></th>\n",
       "      <th></th>\n",
       "      <th></th>\n",
       "      <th></th>\n",
       "      <th></th>\n",
       "      <th></th>\n",
       "      <th></th>\n",
       "      <th></th>\n",
       "      <th></th>\n",
       "      <th></th>\n",
       "    </tr>\n",
       "  </thead>\n",
       "  <tbody>\n",
       "    <tr>\n",
       "      <th>0</th>\n",
       "      <td>0.662342</td>\n",
       "      <td>1.883478</td>\n",
       "      <td>1.422037</td>\n",
       "      <td>-0.614050</td>\n",
       "      <td>92</td>\n",
       "      <td>60</td>\n",
       "      <td>68</td>\n",
       "      <td>65</td>\n",
       "      <td>5</td>\n",
       "      <td>51</td>\n",
       "      <td>...</td>\n",
       "      <td>64</td>\n",
       "      <td>84</td>\n",
       "      <td>15</td>\n",
       "      <td>68</td>\n",
       "      <td>94</td>\n",
       "      <td>49</td>\n",
       "      <td>77</td>\n",
       "      <td>14</td>\n",
       "      <td>70</td>\n",
       "      <td>27</td>\n",
       "    </tr>\n",
       "    <tr>\n",
       "      <th>1</th>\n",
       "      <td>-0.245791</td>\n",
       "      <td>-1.333671</td>\n",
       "      <td>-0.245428</td>\n",
       "      <td>-0.505402</td>\n",
       "      <td>95</td>\n",
       "      <td>21</td>\n",
       "      <td>41</td>\n",
       "      <td>18</td>\n",
       "      <td>52</td>\n",
       "      <td>49</td>\n",
       "      <td>...</td>\n",
       "      <td>84</td>\n",
       "      <td>61</td>\n",
       "      <td>74</td>\n",
       "      <td>56</td>\n",
       "      <td>23</td>\n",
       "      <td>90</td>\n",
       "      <td>52</td>\n",
       "      <td>46</td>\n",
       "      <td>30</td>\n",
       "      <td>20</td>\n",
       "    </tr>\n",
       "    <tr>\n",
       "      <th>3</th>\n",
       "      <td>-0.589017</td>\n",
       "      <td>-1.621008</td>\n",
       "      <td>-0.326520</td>\n",
       "      <td>-0.755649</td>\n",
       "      <td>153</td>\n",
       "      <td>97</td>\n",
       "      <td>50</td>\n",
       "      <td>113</td>\n",
       "      <td>151</td>\n",
       "      <td>90</td>\n",
       "      <td>...</td>\n",
       "      <td>80</td>\n",
       "      <td>109</td>\n",
       "      <td>48</td>\n",
       "      <td>58</td>\n",
       "      <td>67</td>\n",
       "      <td>121</td>\n",
       "      <td>134</td>\n",
       "      <td>135</td>\n",
       "      <td>78</td>\n",
       "      <td>165</td>\n",
       "    </tr>\n",
       "    <tr>\n",
       "      <th>5</th>\n",
       "      <td>0.560928</td>\n",
       "      <td>0.747982</td>\n",
       "      <td>-0.054568</td>\n",
       "      <td>-1.042425</td>\n",
       "      <td>31</td>\n",
       "      <td>75</td>\n",
       "      <td>96</td>\n",
       "      <td>59</td>\n",
       "      <td>5</td>\n",
       "      <td>7</td>\n",
       "      <td>...</td>\n",
       "      <td>85</td>\n",
       "      <td>91</td>\n",
       "      <td>80</td>\n",
       "      <td>96</td>\n",
       "      <td>60</td>\n",
       "      <td>19</td>\n",
       "      <td>58</td>\n",
       "      <td>31</td>\n",
       "      <td>21</td>\n",
       "      <td>61</td>\n",
       "    </tr>\n",
       "    <tr>\n",
       "      <th>7</th>\n",
       "      <td>1.365784</td>\n",
       "      <td>-1.390731</td>\n",
       "      <td>0.244240</td>\n",
       "      <td>1.502945</td>\n",
       "      <td>9</td>\n",
       "      <td>97</td>\n",
       "      <td>4</td>\n",
       "      <td>64</td>\n",
       "      <td>41</td>\n",
       "      <td>12</td>\n",
       "      <td>...</td>\n",
       "      <td>22</td>\n",
       "      <td>14</td>\n",
       "      <td>90</td>\n",
       "      <td>60</td>\n",
       "      <td>60</td>\n",
       "      <td>94</td>\n",
       "      <td>44</td>\n",
       "      <td>33</td>\n",
       "      <td>40</td>\n",
       "      <td>19</td>\n",
       "    </tr>\n",
       "    <tr>\n",
       "      <th>...</th>\n",
       "      <td>...</td>\n",
       "      <td>...</td>\n",
       "      <td>...</td>\n",
       "      <td>...</td>\n",
       "      <td>...</td>\n",
       "      <td>...</td>\n",
       "      <td>...</td>\n",
       "      <td>...</td>\n",
       "      <td>...</td>\n",
       "      <td>...</td>\n",
       "      <td>...</td>\n",
       "      <td>...</td>\n",
       "      <td>...</td>\n",
       "      <td>...</td>\n",
       "      <td>...</td>\n",
       "      <td>...</td>\n",
       "      <td>...</td>\n",
       "      <td>...</td>\n",
       "      <td>...</td>\n",
       "      <td>...</td>\n",
       "      <td>...</td>\n",
       "    </tr>\n",
       "    <tr>\n",
       "      <th>92</th>\n",
       "      <td>0.713068</td>\n",
       "      <td>-2.679539</td>\n",
       "      <td>1.871504</td>\n",
       "      <td>0.336077</td>\n",
       "      <td>65</td>\n",
       "      <td>89</td>\n",
       "      <td>64</td>\n",
       "      <td>94</td>\n",
       "      <td>72</td>\n",
       "      <td>1</td>\n",
       "      <td>...</td>\n",
       "      <td>39</td>\n",
       "      <td>91</td>\n",
       "      <td>34</td>\n",
       "      <td>16</td>\n",
       "      <td>60</td>\n",
       "      <td>5</td>\n",
       "      <td>1</td>\n",
       "      <td>60</td>\n",
       "      <td>37</td>\n",
       "      <td>35</td>\n",
       "    </tr>\n",
       "    <tr>\n",
       "      <th>94</th>\n",
       "      <td>-0.445992</td>\n",
       "      <td>3.473872</td>\n",
       "      <td>-0.133775</td>\n",
       "      <td>-0.589009</td>\n",
       "      <td>106</td>\n",
       "      <td>15</td>\n",
       "      <td>38</td>\n",
       "      <td>85</td>\n",
       "      <td>108</td>\n",
       "      <td>135</td>\n",
       "      <td>...</td>\n",
       "      <td>74</td>\n",
       "      <td>111</td>\n",
       "      <td>74</td>\n",
       "      <td>77</td>\n",
       "      <td>145</td>\n",
       "      <td>152</td>\n",
       "      <td>56</td>\n",
       "      <td>33</td>\n",
       "      <td>47</td>\n",
       "      <td>149</td>\n",
       "    </tr>\n",
       "    <tr>\n",
       "      <th>95</th>\n",
       "      <td>-1.122466</td>\n",
       "      <td>0.188767</td>\n",
       "      <td>0.469860</td>\n",
       "      <td>0.695098</td>\n",
       "      <td>20</td>\n",
       "      <td>93</td>\n",
       "      <td>87</td>\n",
       "      <td>31</td>\n",
       "      <td>43</td>\n",
       "      <td>26</td>\n",
       "      <td>...</td>\n",
       "      <td>57</td>\n",
       "      <td>40</td>\n",
       "      <td>23</td>\n",
       "      <td>20</td>\n",
       "      <td>86</td>\n",
       "      <td>55</td>\n",
       "      <td>26</td>\n",
       "      <td>34</td>\n",
       "      <td>54</td>\n",
       "      <td>7</td>\n",
       "    </tr>\n",
       "    <tr>\n",
       "      <th>98</th>\n",
       "      <td>-0.665976</td>\n",
       "      <td>0.438614</td>\n",
       "      <td>-0.494601</td>\n",
       "      <td>0.429240</td>\n",
       "      <td>0</td>\n",
       "      <td>9</td>\n",
       "      <td>73</td>\n",
       "      <td>78</td>\n",
       "      <td>62</td>\n",
       "      <td>92</td>\n",
       "      <td>...</td>\n",
       "      <td>9</td>\n",
       "      <td>95</td>\n",
       "      <td>19</td>\n",
       "      <td>41</td>\n",
       "      <td>12</td>\n",
       "      <td>45</td>\n",
       "      <td>90</td>\n",
       "      <td>48</td>\n",
       "      <td>0</td>\n",
       "      <td>56</td>\n",
       "    </tr>\n",
       "    <tr>\n",
       "      <th>99</th>\n",
       "      <td>-0.087944</td>\n",
       "      <td>-0.552544</td>\n",
       "      <td>-0.865411</td>\n",
       "      <td>-0.588694</td>\n",
       "      <td>5</td>\n",
       "      <td>5</td>\n",
       "      <td>80</td>\n",
       "      <td>17</td>\n",
       "      <td>35</td>\n",
       "      <td>79</td>\n",
       "      <td>...</td>\n",
       "      <td>22</td>\n",
       "      <td>81</td>\n",
       "      <td>15</td>\n",
       "      <td>57</td>\n",
       "      <td>83</td>\n",
       "      <td>94</td>\n",
       "      <td>87</td>\n",
       "      <td>82</td>\n",
       "      <td>68</td>\n",
       "      <td>45</td>\n",
       "    </tr>\n",
       "  </tbody>\n",
       "</table>\n",
       "<p>65 rows × 53 columns</p>\n",
       "</div>"
      ],
      "text/plain": [
       "           A         B         C         D    1   2   3    4    5    6  ...  \\\n",
       "0                                                                       ...   \n",
       "0   0.662342  1.883478  1.422037 -0.614050   92  60  68   65    5   51  ...   \n",
       "1  -0.245791 -1.333671 -0.245428 -0.505402   95  21  41   18   52   49  ...   \n",
       "3  -0.589017 -1.621008 -0.326520 -0.755649  153  97  50  113  151   90  ...   \n",
       "5   0.560928  0.747982 -0.054568 -1.042425   31  75  96   59    5    7  ...   \n",
       "7   1.365784 -1.390731  0.244240  1.502945    9  97   4   64   41   12  ...   \n",
       "..       ...       ...       ...       ...  ...  ..  ..  ...  ...  ...  ...   \n",
       "92  0.713068 -2.679539  1.871504  0.336077   65  89  64   94   72    1  ...   \n",
       "94 -0.445992  3.473872 -0.133775 -0.589009  106  15  38   85  108  135  ...   \n",
       "95 -1.122466  0.188767  0.469860  0.695098   20  93  87   31   43   26  ...   \n",
       "98 -0.665976  0.438614 -0.494601  0.429240    0   9  73   78   62   92  ...   \n",
       "99 -0.087944 -0.552544 -0.865411 -0.588694    5   5  80   17   35   79  ...   \n",
       "\n",
       "    40   41  42  43   44   45   46   47  48   49  \n",
       "0                                                 \n",
       "0   64   84  15  68   94   49   77   14  70   27  \n",
       "1   84   61  74  56   23   90   52   46  30   20  \n",
       "3   80  109  48  58   67  121  134  135  78  165  \n",
       "5   85   91  80  96   60   19   58   31  21   61  \n",
       "7   22   14  90  60   60   94   44   33  40   19  \n",
       "..  ..  ...  ..  ..  ...  ...  ...  ...  ..  ...  \n",
       "92  39   91  34  16   60    5    1   60  37   35  \n",
       "94  74  111  74  77  145  152   56   33  47  149  \n",
       "95  57   40  23  20   86   55   26   34  54    7  \n",
       "98   9   95  19  41   12   45   90   48   0   56  \n",
       "99  22   81  15  57   83   94   87   82  68   45  \n",
       "\n",
       "[65 rows x 53 columns]"
      ]
     },
     "execution_count": 12,
     "metadata": {},
     "output_type": "execute_result"
    }
   ],
   "source": [
    "ipypandas.disable()\n",
    "\n",
    "df3\n"
   ]
  },
  {
   "cell_type": "code",
   "execution_count": 13,
   "metadata": {},
   "outputs": [
    {
     "data": {
      "application/vnd.jupyter.widget-view+json": {
       "model_id": "aecbff873d6041dba97ca7ded5aa3195",
       "version_major": 2,
       "version_minor": 0
      },
      "text/plain": [
       "Model:                Decision Tree            Regression            Random  \\\n",
       "Predicted:                   Tu…"
      ]
     },
     "metadata": {},
     "output_type": "display_data"
    }
   ],
   "source": [
    "ipypandas.enable()\n",
    "\n",
    "df4 = pd.DataFrame([[38.0, 2.0, 18.0, 22.0, 21, np.nan], [19, 439, 6, 452, 226, 232]],\n",
    "                   index=pd.Index(['Tumour (Positive)', 'Non-Tumour (Negative)'], name='Actual Label:'),\n",
    "                   columns=pd.MultiIndex.from_product([['Decision Tree', 'Regression', 'Random'], ['Tumour', 'Non-Tumour']], names=['Model:', 'Predicted:']))\n",
    "df4\n"
   ]
  },
  {
   "cell_type": "code",
   "execution_count": 14,
   "metadata": {},
   "outputs": [
    {
     "data": {
      "application/vnd.jupyter.widget-view+json": {
       "model_id": "9679c877909a46a5a4498125b833ad1d",
       "version_major": 2,
       "version_minor": 0
      },
      "text/plain": [
       "           A         B         C         D    1   2   3    4    5    6  ...  \\\n",
       "0                              …"
      ]
     },
     "metadata": {},
     "output_type": "display_data"
    }
   ],
   "source": [
    "df5 = ipypandas.PandasWidget(df=df3)\n",
    "df5\n"
   ]
  },
  {
   "cell_type": "code",
   "execution_count": 15,
   "metadata": {},
   "outputs": [
    {
     "name": "stdout",
     "output_type": "stream",
     "text": [
      "           A         B         C         D    1   2   3    4    5    6  ...  \\\n",
      "0                                                                       ...   \n",
      "0   0.662342  1.883478  1.422037 -0.614050   92  60  68   65    5   51  ...   \n",
      "1  -0.245791 -1.333671 -0.245428 -0.505402   95  21  41   18   52   49  ...   \n",
      "3  -0.589017 -1.621008 -0.326520 -0.755649  153  97  50  113  151   90  ...   \n",
      "5   0.560928  0.747982 -0.054568 -1.042425   31  75  96   59    5    7  ...   \n",
      "7   1.365784 -1.390731  0.244240  1.502945    9  97   4   64   41   12  ...   \n",
      "..       ...       ...       ...       ...  ...  ..  ..  ...  ...  ...  ...   \n",
      "92  0.713068 -2.679539  1.871504  0.336077   65  89  64   94   72    1  ...   \n",
      "94 -0.445992  3.473872 -0.133775 -0.589009  106  15  38   85  108  135  ...   \n",
      "95 -1.122466  0.188767  0.469860  0.695098   20  93  87   31   43   26  ...   \n",
      "98 -0.665976  0.438614 -0.494601  0.429240    0   9  73   78   62   92  ...   \n",
      "99 -0.087944 -0.552544 -0.865411 -0.588694    5   5  80   17   35   79  ...   \n",
      "\n",
      "    40   41  42  43   44   45   46   47  48   49  \n",
      "0                                                 \n",
      "0   64   84  15  68   94   49   77   14  70   27  \n",
      "1   84   61  74  56   23   90   52   46  30   20  \n",
      "3   80  109  48  58   67  121  134  135  78  165  \n",
      "5   85   91  80  96   60   19   58   31  21   61  \n",
      "7   22   14  90  60   60   94   44   33  40   19  \n",
      "..  ..  ...  ..  ..  ...  ...  ...  ...  ..  ...  \n",
      "92  39   91  34  16   60    5    1   60  37   35  \n",
      "94  74  111  74  77  145  152   56   33  47  149  \n",
      "95  57   40  23  20   86   55   26   34  54    7  \n",
      "98   9   95  19  41   12   45   90   48   0   56  \n",
      "99  22   81  15  57   83   94   87   82  68   45  \n",
      "\n",
      "[65 rows x 53 columns]\n"
     ]
    }
   ],
   "source": [
    "print(df5)\n"
   ]
  }
 ],
 "metadata": {
  "kernelspec": {
   "display_name": "Python 3 (ipykernel)",
   "language": "python",
   "name": "python3"
  },
  "language_info": {
   "codemirror_mode": {
    "name": "ipython",
    "version": 3
   },
   "file_extension": ".py",
   "mimetype": "text/x-python",
   "name": "python",
   "nbconvert_exporter": "python",
   "pygments_lexer": "ipython3",
   "version": "3.9.12"
  }
 },
 "nbformat": 4,
 "nbformat_minor": 4
}
