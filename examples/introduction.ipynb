{
 "cells": [
  {
   "cell_type": "markdown",
   "metadata": {},
   "source": [
    "# Imports"
   ]
  },
  {
   "cell_type": "code",
   "execution_count": 1,
   "metadata": {},
   "outputs": [],
   "source": [
    "import random\n",
    "import string\n",
    "import ipypandas\n",
    "\n",
    "import numpy as np\n",
    "import pandas as pd\n"
   ]
  },
  {
   "cell_type": "code",
   "execution_count": 2,
   "metadata": {},
   "outputs": [],
   "source": [
    "# The numbers of rows to show in a truncated view (when max_rows is exceeded).\n",
    "# Ignored when max_rows is set to None or 0. When set to None, follows the value of max_rows.\n",
    "pd.set_option('display.min_rows', 10) # [default: 10]\n",
    "\n",
    "# If max_rows is exceeded, switch to truncate view. \n",
    "# Depending on large_repr, objects are either centrally truncated or printed as a summary view. \n",
    "pd.set_option('display.max_rows', 60) # [default: 60]\n",
    "\n",
    "# The maximum width in characters of a column in the repr of a pandas data structure.\n",
    "# When the column overflows, a “…” placeholder is embedded in the output. \n",
    "pd.set_option('display.max_colwidth', 50) # [default: 50]\n"
   ]
  },
  {
   "cell_type": "code",
   "execution_count": 3,
   "metadata": {},
   "outputs": [
    {
     "data": {
      "application/vnd.jupyter.widget-view+json": {
       "model_id": "5ec415cb9dec4a03adb5f1a030b207b6",
       "version_major": 2,
       "version_minor": 0
      },
      "text/plain": [
       "           A         B         C         D\n",
       "0   0.454153  0.205437  0.618307 -0.433360\n",
       "1  -0.906233 -0.495827  …"
      ]
     },
     "metadata": {},
     "output_type": "display_data"
    }
   ],
   "source": [
    "ipypandas.enable()\n",
    "\n",
    "n = 100\n",
    "df1 = pd.DataFrame(np.random.randn(n, 4), columns=['A', 'B', 'C', 'D'])\n",
    "df1"
   ]
  },
  {
   "cell_type": "code",
   "execution_count": 4,
   "metadata": {},
   "outputs": [],
   "source": [
    "def rand_int(low, hi):\n",
    "    while True:\n",
    "        yield random.randint(low, hi)\n",
    "        \n",
    "def rand_words(size):\n",
    "    chars = ''.join(random.choice(string.ascii_letters) for x in range(size))\n",
    "    for n in rand_int(3, 10):\n",
    "        if n > len(chars):\n",
    "            break\n",
    "        yield chars[:n]\n",
    "        chars = chars[n::]\n",
    "        \n",
    "def rand_sentences(length, count):\n",
    "    return [' '.join(rand_words(random.randint(length, int(length * 5)))) for x in range(count)]\n"
   ]
  },
  {
   "cell_type": "markdown",
   "metadata": {
    "tags": []
   },
   "source": [
    "# DataFrame"
   ]
  },
  {
   "cell_type": "code",
   "execution_count": 5,
   "metadata": {},
   "outputs": [
    {
     "data": {
      "application/vnd.jupyter.widget-view+json": {
       "model_id": "7bc2721761fe448187bd50fb6da864bc",
       "version_major": 2,
       "version_minor": 0
      },
      "text/plain": [
       "Empty DataFrame\n",
       "Columns: []\n",
       "Index: []"
      ]
     },
     "metadata": {},
     "output_type": "display_data"
    }
   ],
   "source": [
    "ipypandas.enable()\n",
    "\n",
    "pd.DataFrame()"
   ]
  },
  {
   "cell_type": "code",
   "execution_count": 6,
   "metadata": {},
   "outputs": [
    {
     "data": {
      "application/vnd.jupyter.widget-view+json": {
       "model_id": "dec35cd9d66a49dea97f46242ddfeabb",
       "version_major": 2,
       "version_minor": 0
      },
      "text/plain": [
       "Empty DataFrame\n",
       "Columns: [One, Two]\n",
       "Index: []"
      ]
     },
     "metadata": {},
     "output_type": "display_data"
    }
   ],
   "source": [
    "ipypandas.enable()\n",
    "\n",
    "pd.DataFrame(columns=['One', 'Two'])\n"
   ]
  },
  {
   "cell_type": "code",
   "execution_count": 7,
   "metadata": {
    "tags": []
   },
   "outputs": [
    {
     "data": {
      "application/vnd.jupyter.widget-view+json": {
       "model_id": "57862eca37654d8981e64c5b8bcd2171",
       "version_major": 2,
       "version_minor": 0
      },
      "text/plain": [
       "                                                  One  \\\n",
       "0                          gaSM nEV BsCPjkQkj meWMQkG…"
      ]
     },
     "metadata": {},
     "output_type": "display_data"
    }
   ],
   "source": [
    "ipypandas.enable()\n",
    "\n",
    "n = 100\n",
    "pd.DataFrame(data={'One': rand_sentences(10, n), 'Two': rand_sentences(30, n), 'Three': rand_sentences(90, n)})"
   ]
  },
  {
   "cell_type": "code",
   "execution_count": 8,
   "metadata": {},
   "outputs": [
    {
     "data": {
      "application/vnd.jupyter.widget-view+json": {
       "model_id": "b00647eac1014edcae6360bdf58719f1",
       "version_major": 2,
       "version_minor": 0
      },
      "text/plain": [
       "           A         B         C         D\n",
       "0  -0.973719 -0.453416  2.484910 -0.368102\n",
       "1  -1.925949  1.009499  …"
      ]
     },
     "metadata": {},
     "output_type": "display_data"
    }
   ],
   "source": [
    "ipypandas.enable()\n",
    "\n",
    "n = 100\n",
    "df1 = pd.DataFrame(np.random.randn(n, 4), columns=['A', 'B', 'C', 'D'])\n",
    "df1\n"
   ]
  },
  {
   "cell_type": "code",
   "execution_count": 9,
   "metadata": {},
   "outputs": [
    {
     "data": {
      "text/html": [
       "<div>\n",
       "<style scoped>\n",
       "    .dataframe tbody tr th:only-of-type {\n",
       "        vertical-align: middle;\n",
       "    }\n",
       "\n",
       "    .dataframe tbody tr th {\n",
       "        vertical-align: top;\n",
       "    }\n",
       "\n",
       "    .dataframe thead th {\n",
       "        text-align: right;\n",
       "    }\n",
       "</style>\n",
       "<table border=\"1\" class=\"dataframe\">\n",
       "  <thead>\n",
       "    <tr style=\"text-align: right;\">\n",
       "      <th></th>\n",
       "      <th>B</th>\n",
       "      <th>C</th>\n",
       "      <th>D</th>\n",
       "    </tr>\n",
       "    <tr>\n",
       "      <th>A</th>\n",
       "      <th></th>\n",
       "      <th></th>\n",
       "      <th></th>\n",
       "    </tr>\n",
       "  </thead>\n",
       "  <tbody>\n",
       "    <tr>\n",
       "      <th>-0.973719</th>\n",
       "      <td>-0.453416</td>\n",
       "      <td>2.484910</td>\n",
       "      <td>-0.368102</td>\n",
       "    </tr>\n",
       "    <tr>\n",
       "      <th>-1.925949</th>\n",
       "      <td>1.009499</td>\n",
       "      <td>0.879017</td>\n",
       "      <td>-0.315814</td>\n",
       "    </tr>\n",
       "    <tr>\n",
       "      <th>-0.060954</th>\n",
       "      <td>-1.514664</td>\n",
       "      <td>-0.645483</td>\n",
       "      <td>-2.827129</td>\n",
       "    </tr>\n",
       "    <tr>\n",
       "      <th>-1.028330</th>\n",
       "      <td>0.464504</td>\n",
       "      <td>0.614117</td>\n",
       "      <td>1.058614</td>\n",
       "    </tr>\n",
       "    <tr>\n",
       "      <th>-0.497249</th>\n",
       "      <td>0.562015</td>\n",
       "      <td>-0.531865</td>\n",
       "      <td>-0.513123</td>\n",
       "    </tr>\n",
       "    <tr>\n",
       "      <th>...</th>\n",
       "      <td>...</td>\n",
       "      <td>...</td>\n",
       "      <td>...</td>\n",
       "    </tr>\n",
       "    <tr>\n",
       "      <th>-1.651194</th>\n",
       "      <td>0.890070</td>\n",
       "      <td>-1.610375</td>\n",
       "      <td>-0.254165</td>\n",
       "    </tr>\n",
       "    <tr>\n",
       "      <th>0.164944</th>\n",
       "      <td>-0.199447</td>\n",
       "      <td>-0.043647</td>\n",
       "      <td>0.593796</td>\n",
       "    </tr>\n",
       "    <tr>\n",
       "      <th>0.055547</th>\n",
       "      <td>0.292903</td>\n",
       "      <td>-0.612098</td>\n",
       "      <td>-0.890195</td>\n",
       "    </tr>\n",
       "    <tr>\n",
       "      <th>1.410082</th>\n",
       "      <td>-1.333742</td>\n",
       "      <td>1.634078</td>\n",
       "      <td>2.137154</td>\n",
       "    </tr>\n",
       "    <tr>\n",
       "      <th>0.348128</th>\n",
       "      <td>-2.164015</td>\n",
       "      <td>-1.306081</td>\n",
       "      <td>-0.885504</td>\n",
       "    </tr>\n",
       "  </tbody>\n",
       "</table>\n",
       "<p>100 rows × 3 columns</p>\n",
       "</div>"
      ],
      "text/plain": [
       "                  B         C         D\n",
       "A                                      \n",
       "-0.973719 -0.453416  2.484910 -0.368102\n",
       "-1.925949  1.009499  0.879017 -0.315814\n",
       "-0.060954 -1.514664 -0.645483 -2.827129\n",
       "-1.028330  0.464504  0.614117  1.058614\n",
       "-0.497249  0.562015 -0.531865 -0.513123\n",
       "...             ...       ...       ...\n",
       "-1.651194  0.890070 -1.610375 -0.254165\n",
       " 0.164944 -0.199447 -0.043647  0.593796\n",
       " 0.055547  0.292903 -0.612098 -0.890195\n",
       " 1.410082 -1.333742  1.634078  2.137154\n",
       " 0.348128 -2.164015 -1.306081 -0.885504\n",
       "\n",
       "[100 rows x 3 columns]"
      ]
     },
     "execution_count": 9,
     "metadata": {},
     "output_type": "execute_result"
    }
   ],
   "source": [
    "ipypandas.disable()\n",
    "\n",
    "df2 = df1.set_index('A')\n",
    "df2\n"
   ]
  },
  {
   "cell_type": "code",
   "execution_count": 10,
   "metadata": {},
   "outputs": [
    {
     "data": {
      "application/vnd.jupyter.widget-view+json": {
       "model_id": "4f136b7cd04848e9a188d7b02b39e48f",
       "version_major": 2,
       "version_minor": 0
      },
      "text/plain": [
       "                  B         C         D\n",
       "A                                      \n",
       "-0.973719 -0.453416  2.484910 …"
      ]
     },
     "metadata": {},
     "output_type": "display_data"
    }
   ],
   "source": [
    "ipypandas.enable()\n",
    "\n",
    "df2 = df1.set_index('A').head()\n",
    "df2\n"
   ]
  },
  {
   "cell_type": "code",
   "execution_count": 11,
   "metadata": {},
   "outputs": [
    {
     "data": {
      "application/vnd.jupyter.widget-view+json": {
       "model_id": "f2c5d9f0eba84beda7f88c465f1dcdee",
       "version_major": 2,
       "version_minor": 0
      },
      "text/plain": [
       "           A         B         C         D    1    2    3    4    5    6  ...  \\\n",
       "0                            …"
      ]
     },
     "metadata": {},
     "output_type": "display_data"
    }
   ],
   "source": [
    "ipypandas.enable()\n",
    "\n",
    "groups = np.random.randint(0, df1.shape[0], size=(df1.shape[0], 50))\n",
    "df3 = pd.concat([df1, pd.DataFrame(groups)], axis=1).groupby(0).sum()#.reset_index()\n",
    "df3\n"
   ]
  },
  {
   "cell_type": "code",
   "execution_count": 12,
   "metadata": {},
   "outputs": [
    {
     "data": {
      "text/html": [
       "<div>\n",
       "<style scoped>\n",
       "    .dataframe tbody tr th:only-of-type {\n",
       "        vertical-align: middle;\n",
       "    }\n",
       "\n",
       "    .dataframe tbody tr th {\n",
       "        vertical-align: top;\n",
       "    }\n",
       "\n",
       "    .dataframe thead th {\n",
       "        text-align: right;\n",
       "    }\n",
       "</style>\n",
       "<table border=\"1\" class=\"dataframe\">\n",
       "  <thead>\n",
       "    <tr style=\"text-align: right;\">\n",
       "      <th></th>\n",
       "      <th>A</th>\n",
       "      <th>B</th>\n",
       "      <th>C</th>\n",
       "      <th>D</th>\n",
       "      <th>1</th>\n",
       "      <th>2</th>\n",
       "      <th>3</th>\n",
       "      <th>4</th>\n",
       "      <th>5</th>\n",
       "      <th>6</th>\n",
       "      <th>...</th>\n",
       "      <th>40</th>\n",
       "      <th>41</th>\n",
       "      <th>42</th>\n",
       "      <th>43</th>\n",
       "      <th>44</th>\n",
       "      <th>45</th>\n",
       "      <th>46</th>\n",
       "      <th>47</th>\n",
       "      <th>48</th>\n",
       "      <th>49</th>\n",
       "    </tr>\n",
       "    <tr>\n",
       "      <th>0</th>\n",
       "      <th></th>\n",
       "      <th></th>\n",
       "      <th></th>\n",
       "      <th></th>\n",
       "      <th></th>\n",
       "      <th></th>\n",
       "      <th></th>\n",
       "      <th></th>\n",
       "      <th></th>\n",
       "      <th></th>\n",
       "      <th></th>\n",
       "      <th></th>\n",
       "      <th></th>\n",
       "      <th></th>\n",
       "      <th></th>\n",
       "      <th></th>\n",
       "      <th></th>\n",
       "      <th></th>\n",
       "      <th></th>\n",
       "      <th></th>\n",
       "      <th></th>\n",
       "    </tr>\n",
       "  </thead>\n",
       "  <tbody>\n",
       "    <tr>\n",
       "      <th>0</th>\n",
       "      <td>0.235363</td>\n",
       "      <td>-0.214121</td>\n",
       "      <td>1.995302</td>\n",
       "      <td>-0.032942</td>\n",
       "      <td>24</td>\n",
       "      <td>44</td>\n",
       "      <td>79</td>\n",
       "      <td>94</td>\n",
       "      <td>10</td>\n",
       "      <td>76</td>\n",
       "      <td>...</td>\n",
       "      <td>29</td>\n",
       "      <td>51</td>\n",
       "      <td>13</td>\n",
       "      <td>8</td>\n",
       "      <td>71</td>\n",
       "      <td>77</td>\n",
       "      <td>34</td>\n",
       "      <td>56</td>\n",
       "      <td>18</td>\n",
       "      <td>84</td>\n",
       "    </tr>\n",
       "    <tr>\n",
       "      <th>1</th>\n",
       "      <td>-0.192582</td>\n",
       "      <td>-2.984692</td>\n",
       "      <td>-0.086259</td>\n",
       "      <td>2.430597</td>\n",
       "      <td>34</td>\n",
       "      <td>32</td>\n",
       "      <td>79</td>\n",
       "      <td>35</td>\n",
       "      <td>91</td>\n",
       "      <td>45</td>\n",
       "      <td>...</td>\n",
       "      <td>6</td>\n",
       "      <td>48</td>\n",
       "      <td>91</td>\n",
       "      <td>17</td>\n",
       "      <td>30</td>\n",
       "      <td>44</td>\n",
       "      <td>80</td>\n",
       "      <td>92</td>\n",
       "      <td>50</td>\n",
       "      <td>18</td>\n",
       "    </tr>\n",
       "    <tr>\n",
       "      <th>2</th>\n",
       "      <td>4.848196</td>\n",
       "      <td>-1.712342</td>\n",
       "      <td>-0.377457</td>\n",
       "      <td>1.168487</td>\n",
       "      <td>57</td>\n",
       "      <td>24</td>\n",
       "      <td>80</td>\n",
       "      <td>103</td>\n",
       "      <td>108</td>\n",
       "      <td>101</td>\n",
       "      <td>...</td>\n",
       "      <td>33</td>\n",
       "      <td>123</td>\n",
       "      <td>84</td>\n",
       "      <td>76</td>\n",
       "      <td>56</td>\n",
       "      <td>32</td>\n",
       "      <td>21</td>\n",
       "      <td>189</td>\n",
       "      <td>109</td>\n",
       "      <td>181</td>\n",
       "    </tr>\n",
       "    <tr>\n",
       "      <th>3</th>\n",
       "      <td>-0.032554</td>\n",
       "      <td>0.919938</td>\n",
       "      <td>1.420457</td>\n",
       "      <td>0.738966</td>\n",
       "      <td>115</td>\n",
       "      <td>190</td>\n",
       "      <td>156</td>\n",
       "      <td>145</td>\n",
       "      <td>42</td>\n",
       "      <td>140</td>\n",
       "      <td>...</td>\n",
       "      <td>132</td>\n",
       "      <td>105</td>\n",
       "      <td>61</td>\n",
       "      <td>126</td>\n",
       "      <td>92</td>\n",
       "      <td>120</td>\n",
       "      <td>136</td>\n",
       "      <td>119</td>\n",
       "      <td>124</td>\n",
       "      <td>150</td>\n",
       "    </tr>\n",
       "    <tr>\n",
       "      <th>4</th>\n",
       "      <td>0.136208</td>\n",
       "      <td>-0.708976</td>\n",
       "      <td>0.873698</td>\n",
       "      <td>0.860101</td>\n",
       "      <td>88</td>\n",
       "      <td>78</td>\n",
       "      <td>50</td>\n",
       "      <td>57</td>\n",
       "      <td>58</td>\n",
       "      <td>86</td>\n",
       "      <td>...</td>\n",
       "      <td>89</td>\n",
       "      <td>3</td>\n",
       "      <td>12</td>\n",
       "      <td>51</td>\n",
       "      <td>52</td>\n",
       "      <td>42</td>\n",
       "      <td>30</td>\n",
       "      <td>60</td>\n",
       "      <td>46</td>\n",
       "      <td>0</td>\n",
       "    </tr>\n",
       "    <tr>\n",
       "      <th>...</th>\n",
       "      <td>...</td>\n",
       "      <td>...</td>\n",
       "      <td>...</td>\n",
       "      <td>...</td>\n",
       "      <td>...</td>\n",
       "      <td>...</td>\n",
       "      <td>...</td>\n",
       "      <td>...</td>\n",
       "      <td>...</td>\n",
       "      <td>...</td>\n",
       "      <td>...</td>\n",
       "      <td>...</td>\n",
       "      <td>...</td>\n",
       "      <td>...</td>\n",
       "      <td>...</td>\n",
       "      <td>...</td>\n",
       "      <td>...</td>\n",
       "      <td>...</td>\n",
       "      <td>...</td>\n",
       "      <td>...</td>\n",
       "      <td>...</td>\n",
       "    </tr>\n",
       "    <tr>\n",
       "      <th>93</th>\n",
       "      <td>-2.349633</td>\n",
       "      <td>0.131170</td>\n",
       "      <td>-1.293717</td>\n",
       "      <td>-1.287449</td>\n",
       "      <td>104</td>\n",
       "      <td>110</td>\n",
       "      <td>135</td>\n",
       "      <td>124</td>\n",
       "      <td>39</td>\n",
       "      <td>76</td>\n",
       "      <td>...</td>\n",
       "      <td>44</td>\n",
       "      <td>70</td>\n",
       "      <td>167</td>\n",
       "      <td>101</td>\n",
       "      <td>39</td>\n",
       "      <td>34</td>\n",
       "      <td>111</td>\n",
       "      <td>85</td>\n",
       "      <td>104</td>\n",
       "      <td>49</td>\n",
       "    </tr>\n",
       "    <tr>\n",
       "      <th>94</th>\n",
       "      <td>-0.423576</td>\n",
       "      <td>0.875095</td>\n",
       "      <td>-0.509614</td>\n",
       "      <td>-0.580588</td>\n",
       "      <td>60</td>\n",
       "      <td>95</td>\n",
       "      <td>51</td>\n",
       "      <td>99</td>\n",
       "      <td>61</td>\n",
       "      <td>83</td>\n",
       "      <td>...</td>\n",
       "      <td>58</td>\n",
       "      <td>33</td>\n",
       "      <td>41</td>\n",
       "      <td>75</td>\n",
       "      <td>72</td>\n",
       "      <td>85</td>\n",
       "      <td>6</td>\n",
       "      <td>7</td>\n",
       "      <td>10</td>\n",
       "      <td>3</td>\n",
       "    </tr>\n",
       "    <tr>\n",
       "      <th>96</th>\n",
       "      <td>-0.973719</td>\n",
       "      <td>-0.453416</td>\n",
       "      <td>2.484910</td>\n",
       "      <td>-0.368102</td>\n",
       "      <td>5</td>\n",
       "      <td>23</td>\n",
       "      <td>97</td>\n",
       "      <td>3</td>\n",
       "      <td>1</td>\n",
       "      <td>35</td>\n",
       "      <td>...</td>\n",
       "      <td>71</td>\n",
       "      <td>16</td>\n",
       "      <td>42</td>\n",
       "      <td>64</td>\n",
       "      <td>4</td>\n",
       "      <td>11</td>\n",
       "      <td>2</td>\n",
       "      <td>69</td>\n",
       "      <td>64</td>\n",
       "      <td>5</td>\n",
       "    </tr>\n",
       "    <tr>\n",
       "      <th>97</th>\n",
       "      <td>0.061928</td>\n",
       "      <td>-2.442467</td>\n",
       "      <td>-1.046777</td>\n",
       "      <td>0.247480</td>\n",
       "      <td>22</td>\n",
       "      <td>47</td>\n",
       "      <td>80</td>\n",
       "      <td>58</td>\n",
       "      <td>99</td>\n",
       "      <td>34</td>\n",
       "      <td>...</td>\n",
       "      <td>50</td>\n",
       "      <td>64</td>\n",
       "      <td>37</td>\n",
       "      <td>32</td>\n",
       "      <td>14</td>\n",
       "      <td>18</td>\n",
       "      <td>78</td>\n",
       "      <td>9</td>\n",
       "      <td>55</td>\n",
       "      <td>96</td>\n",
       "    </tr>\n",
       "    <tr>\n",
       "      <th>98</th>\n",
       "      <td>-1.644343</td>\n",
       "      <td>0.596479</td>\n",
       "      <td>-0.758397</td>\n",
       "      <td>0.040725</td>\n",
       "      <td>117</td>\n",
       "      <td>115</td>\n",
       "      <td>85</td>\n",
       "      <td>43</td>\n",
       "      <td>102</td>\n",
       "      <td>12</td>\n",
       "      <td>...</td>\n",
       "      <td>116</td>\n",
       "      <td>76</td>\n",
       "      <td>77</td>\n",
       "      <td>83</td>\n",
       "      <td>109</td>\n",
       "      <td>185</td>\n",
       "      <td>154</td>\n",
       "      <td>63</td>\n",
       "      <td>118</td>\n",
       "      <td>131</td>\n",
       "    </tr>\n",
       "  </tbody>\n",
       "</table>\n",
       "<p>64 rows × 53 columns</p>\n",
       "</div>"
      ],
      "text/plain": [
       "           A         B         C         D    1    2    3    4    5    6  ...  \\\n",
       "0                                                                         ...   \n",
       "0   0.235363 -0.214121  1.995302 -0.032942   24   44   79   94   10   76  ...   \n",
       "1  -0.192582 -2.984692 -0.086259  2.430597   34   32   79   35   91   45  ...   \n",
       "2   4.848196 -1.712342 -0.377457  1.168487   57   24   80  103  108  101  ...   \n",
       "3  -0.032554  0.919938  1.420457  0.738966  115  190  156  145   42  140  ...   \n",
       "4   0.136208 -0.708976  0.873698  0.860101   88   78   50   57   58   86  ...   \n",
       "..       ...       ...       ...       ...  ...  ...  ...  ...  ...  ...  ...   \n",
       "93 -2.349633  0.131170 -1.293717 -1.287449  104  110  135  124   39   76  ...   \n",
       "94 -0.423576  0.875095 -0.509614 -0.580588   60   95   51   99   61   83  ...   \n",
       "96 -0.973719 -0.453416  2.484910 -0.368102    5   23   97    3    1   35  ...   \n",
       "97  0.061928 -2.442467 -1.046777  0.247480   22   47   80   58   99   34  ...   \n",
       "98 -1.644343  0.596479 -0.758397  0.040725  117  115   85   43  102   12  ...   \n",
       "\n",
       "     40   41   42   43   44   45   46   47   48   49  \n",
       "0                                                     \n",
       "0    29   51   13    8   71   77   34   56   18   84  \n",
       "1     6   48   91   17   30   44   80   92   50   18  \n",
       "2    33  123   84   76   56   32   21  189  109  181  \n",
       "3   132  105   61  126   92  120  136  119  124  150  \n",
       "4    89    3   12   51   52   42   30   60   46    0  \n",
       "..  ...  ...  ...  ...  ...  ...  ...  ...  ...  ...  \n",
       "93   44   70  167  101   39   34  111   85  104   49  \n",
       "94   58   33   41   75   72   85    6    7   10    3  \n",
       "96   71   16   42   64    4   11    2   69   64    5  \n",
       "97   50   64   37   32   14   18   78    9   55   96  \n",
       "98  116   76   77   83  109  185  154   63  118  131  \n",
       "\n",
       "[64 rows x 53 columns]"
      ]
     },
     "execution_count": 12,
     "metadata": {},
     "output_type": "execute_result"
    }
   ],
   "source": [
    "ipypandas.disable()\n",
    "\n",
    "df3\n"
   ]
  },
  {
   "cell_type": "code",
   "execution_count": 13,
   "metadata": {},
   "outputs": [
    {
     "data": {
      "application/vnd.jupyter.widget-view+json": {
       "model_id": "53e9e9fac61c4b9b9bb432689f6df26b",
       "version_major": 2,
       "version_minor": 0
      },
      "text/plain": [
       "Model:                Decision Tree            Regression            Random  \\\n",
       "Predicted:                   Tu…"
      ]
     },
     "metadata": {},
     "output_type": "display_data"
    }
   ],
   "source": [
    "ipypandas.enable()\n",
    "\n",
    "df4 = pd.DataFrame([[38.0, 2.0, 18.0, 22.0, 21, np.nan], [19, 439, 6, 452, 226, 232]],\n",
    "                   index=pd.Index(['Tumour (Positive)', 'Non-Tumour (Negative)'], name='Actual Label:'),\n",
    "                   columns=pd.MultiIndex.from_product([['Decision Tree', 'Regression', 'Random'], ['Tumour', 'Non-Tumour']], names=['Model:', 'Predicted:']))\n",
    "df4\n"
   ]
  },
  {
   "cell_type": "code",
   "execution_count": 14,
   "metadata": {},
   "outputs": [
    {
     "data": {
      "application/vnd.jupyter.widget-view+json": {
       "model_id": "a22740a7f79b4d19b812893545bbb7df",
       "version_major": 2,
       "version_minor": 0
      },
      "text/plain": [
       "           A         B         C         D    1    2    3    4    5    6  ...  \\\n",
       "0                            …"
      ]
     },
     "metadata": {},
     "output_type": "display_data"
    }
   ],
   "source": [
    "df5 = ipypandas.PandasWidget(df=df3)\n",
    "df5\n"
   ]
  },
  {
   "cell_type": "code",
   "execution_count": 15,
   "metadata": {},
   "outputs": [
    {
     "name": "stdout",
     "output_type": "stream",
     "text": [
      "           A         B         C         D    1    2    3    4    5    6  ...  \\\n",
      "0                                                                         ...   \n",
      "0   0.235363 -0.214121  1.995302 -0.032942   24   44   79   94   10   76  ...   \n",
      "1  -0.192582 -2.984692 -0.086259  2.430597   34   32   79   35   91   45  ...   \n",
      "2   4.848196 -1.712342 -0.377457  1.168487   57   24   80  103  108  101  ...   \n",
      "3  -0.032554  0.919938  1.420457  0.738966  115  190  156  145   42  140  ...   \n",
      "4   0.136208 -0.708976  0.873698  0.860101   88   78   50   57   58   86  ...   \n",
      "5  -0.249206  0.933050  1.067191 -0.759737  147   38  140  150  135   72  ...   \n",
      "7   0.376506 -0.482374  2.028635 -1.055684   57   95   91   92   41   66  ...   \n",
      "9  -1.925949  1.009499  0.879017 -0.315814    1   24   28   73   28    5  ...   \n",
      "12 -1.983987  1.581642  0.660672  0.847859   34    9   45   33   85   25  ...   \n",
      "13  0.354237 -0.437743 -1.155995 -0.137175   77   57   99   14   61   83  ...   \n",
      "14  0.007374 -0.519201  0.657842 -0.176762   80   18   56   37   37   92  ...   \n",
      "15  2.212160  1.819563  1.557098  0.665284   36   62   42  130  143  105  ...   \n",
      "16 -0.943964 -0.385189  1.474339 -0.050610    4   40   24   85   86   65  ...   \n",
      "17  1.316811  1.720005  0.195434 -1.646417  150  215  173  134  153  187  ...   \n",
      "18 -0.065883  0.347723 -0.305009  0.812510   96   56   29   36   76   21  ...   \n",
      "\n",
      "     40   41   42   43   44   45   46   47   48   49  \n",
      "0                                                     \n",
      "0    29   51   13    8   71   77   34   56   18   84  \n",
      "1     6   48   91   17   30   44   80   92   50   18  \n",
      "2    33  123   84   76   56   32   21  189  109  181  \n",
      "3   132  105   61  126   92  120  136  119  124  150  \n",
      "4    89    3   12   51   52   42   30   60   46    0  \n",
      "5   133   85   88   81  144   31  174  106  163  139  \n",
      "7    20   19   82   83   77   14   42    3    5   80  \n",
      "9    90   39   58   43   88   45    4   40   50   31  \n",
      "12   73   15   81   16   69   15   29   44   27   28  \n",
      "13   13   32   83   10   28   40   86   45   82   88  \n",
      "14   17   78   90   78   13   97   98   36    7   11  \n",
      "15  104   85  135  109   84   67   83   82   81  114  \n",
      "16    6   55   16   24   90   34   18   63   69   48  \n",
      "17  121  196  161  213  192  137  193  137   88   96  \n",
      "18   30   31   86    6   45   80    9   36   88   82  \n",
      "\n",
      "[15 rows x 53 columns]\n"
     ]
    }
   ],
   "source": [
    "print(df5)\n"
   ]
  }
 ],
 "metadata": {
  "kernelspec": {
   "display_name": "Python 3 (ipykernel)",
   "language": "python",
   "name": "python3"
  },
  "language_info": {
   "codemirror_mode": {
    "name": "ipython",
    "version": 3
   },
   "file_extension": ".py",
   "mimetype": "text/x-python",
   "name": "python",
   "nbconvert_exporter": "python",
   "pygments_lexer": "ipython3",
   "version": "3.9.10"
  }
 },
 "nbformat": 4,
 "nbformat_minor": 4
}
