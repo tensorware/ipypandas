{
 "cells": [
  {
   "cell_type": "markdown",
   "metadata": {},
   "source": [
    "# Imports"
   ]
  },
  {
   "cell_type": "code",
   "execution_count": 1,
   "metadata": {},
   "outputs": [],
   "source": [
    "import random\n",
    "import string\n",
    "import ipypandas\n",
    "\n",
    "import numpy as np\n",
    "import pandas as pd\n"
   ]
  },
  {
   "cell_type": "code",
   "execution_count": 2,
   "metadata": {},
   "outputs": [],
   "source": [
    "# The numbers of rows to show in a truncated view (when max_rows is exceeded).\n",
    "# Ignored when max_rows is set to None or 0. When set to None, follows the value of max_rows.\n",
    "pd.set_option('display.min_rows', 10) # [default: 10]\n",
    "\n",
    "# If max_rows is exceeded, switch to truncate view. \n",
    "# Depending on large_repr, objects are either centrally truncated or printed as a summary view. \n",
    "pd.set_option('display.max_rows', 60) # [default: 60]\n",
    "\n",
    "# The maximum width in characters of a column in the repr of a pandas data structure.\n",
    "# When the column overflows, a “…” placeholder is embedded in the output. \n",
    "pd.set_option('display.max_colwidth', 50) # [default: 50]\n"
   ]
  },
  {
   "cell_type": "code",
   "execution_count": 3,
   "metadata": {},
   "outputs": [
    {
     "data": {
      "application/vnd.jupyter.widget-view+json": {
       "model_id": "1429ca3fe49d4f6493c5ad1540a1110f",
       "version_major": 2,
       "version_minor": 0
      },
      "text/plain": [
       "           A         B         C         D\n",
       "0   1.893601  0.410093 -0.718470  1.054466\n",
       "1  -0.035616  0.016607  …"
      ]
     },
     "metadata": {},
     "output_type": "display_data"
    }
   ],
   "source": [
    "ipypandas.enable()\n",
    "\n",
    "n = 70\n",
    "df1 = pd.DataFrame(np.random.randn(n, 4), columns=['A', 'B', 'C', 'D'])\n",
    "df1"
   ]
  },
  {
   "cell_type": "code",
   "execution_count": 4,
   "metadata": {},
   "outputs": [],
   "source": [
    "def rand_int(low, hi):\n",
    "    while True:\n",
    "        yield random.randint(low, hi)\n",
    "        \n",
    "def rand_words(size):\n",
    "    chars = ''.join(random.choice(string.ascii_letters) for x in range(size))\n",
    "    for n in rand_int(3, 10):\n",
    "        if n > len(chars):\n",
    "            break\n",
    "        yield chars[:n]\n",
    "        chars = chars[n::]\n",
    "        \n",
    "def rand_sentences(length, count):\n",
    "    return [' '.join(rand_words(random.randint(length, int(length * 5)))) for x in range(count)]\n"
   ]
  },
  {
   "cell_type": "markdown",
   "metadata": {
    "tags": []
   },
   "source": [
    "# DataFrame"
   ]
  },
  {
   "cell_type": "code",
   "execution_count": 5,
   "metadata": {},
   "outputs": [
    {
     "data": {
      "application/vnd.jupyter.widget-view+json": {
       "model_id": "63a4d9478fc74adc93643a656f6f10b3",
       "version_major": 2,
       "version_minor": 0
      },
      "text/plain": [
       "Empty DataFrame\n",
       "Columns: []\n",
       "Index: []"
      ]
     },
     "metadata": {},
     "output_type": "display_data"
    }
   ],
   "source": [
    "ipypandas.enable()\n",
    "\n",
    "pd.DataFrame()"
   ]
  },
  {
   "cell_type": "code",
   "execution_count": 6,
   "metadata": {},
   "outputs": [
    {
     "data": {
      "application/vnd.jupyter.widget-view+json": {
       "model_id": "028ecbc3071141fe9b1168429289be50",
       "version_major": 2,
       "version_minor": 0
      },
      "text/plain": [
       "Empty DataFrame\n",
       "Columns: [One, Two]\n",
       "Index: []"
      ]
     },
     "metadata": {},
     "output_type": "display_data"
    }
   ],
   "source": [
    "ipypandas.enable()\n",
    "\n",
    "pd.DataFrame(columns=['One', 'Two'])\n"
   ]
  },
  {
   "cell_type": "code",
   "execution_count": 7,
   "metadata": {
    "tags": []
   },
   "outputs": [
    {
     "data": {
      "application/vnd.jupyter.widget-view+json": {
       "model_id": "6d3628d743874311934ca33436331516",
       "version_major": 2,
       "version_minor": 0
      },
      "text/plain": [
       "                                                One  \\\n",
       "0                       mEIs CKFESV usFJRC hlfviIRs   \n",
       "…"
      ]
     },
     "metadata": {},
     "output_type": "display_data"
    }
   ],
   "source": [
    "ipypandas.enable()\n",
    "\n",
    "n = 100\n",
    "pd.DataFrame(data={'One': rand_sentences(10, n), 'Two': rand_sentences(30, n), 'Three': rand_sentences(90, n)})"
   ]
  },
  {
   "cell_type": "code",
   "execution_count": 8,
   "metadata": {},
   "outputs": [
    {
     "data": {
      "application/vnd.jupyter.widget-view+json": {
       "model_id": "bb22463744644167b527ed81b6d75b80",
       "version_major": 2,
       "version_minor": 0
      },
      "text/plain": [
       "           A         B         C         D\n",
       "0   0.097789  0.167930 -0.131553 -1.113684\n",
       "1   1.194929 -0.967616 -…"
      ]
     },
     "metadata": {},
     "output_type": "display_data"
    }
   ],
   "source": [
    "ipypandas.enable()\n",
    "\n",
    "n = 100\n",
    "df1 = pd.DataFrame(np.random.randn(n, 4), columns=['A', 'B', 'C', 'D'])\n",
    "df1\n"
   ]
  },
  {
   "cell_type": "code",
   "execution_count": 9,
   "metadata": {},
   "outputs": [
    {
     "data": {
      "text/html": [
       "<div>\n",
       "<style scoped>\n",
       "    .dataframe tbody tr th:only-of-type {\n",
       "        vertical-align: middle;\n",
       "    }\n",
       "\n",
       "    .dataframe tbody tr th {\n",
       "        vertical-align: top;\n",
       "    }\n",
       "\n",
       "    .dataframe thead th {\n",
       "        text-align: right;\n",
       "    }\n",
       "</style>\n",
       "<table border=\"1\" class=\"dataframe\">\n",
       "  <thead>\n",
       "    <tr style=\"text-align: right;\">\n",
       "      <th></th>\n",
       "      <th>B</th>\n",
       "      <th>C</th>\n",
       "      <th>D</th>\n",
       "    </tr>\n",
       "    <tr>\n",
       "      <th>A</th>\n",
       "      <th></th>\n",
       "      <th></th>\n",
       "      <th></th>\n",
       "    </tr>\n",
       "  </thead>\n",
       "  <tbody>\n",
       "    <tr>\n",
       "      <th>0.097789</th>\n",
       "      <td>0.167930</td>\n",
       "      <td>-0.131553</td>\n",
       "      <td>-1.113684</td>\n",
       "    </tr>\n",
       "    <tr>\n",
       "      <th>1.194929</th>\n",
       "      <td>-0.967616</td>\n",
       "      <td>-0.214327</td>\n",
       "      <td>-0.578137</td>\n",
       "    </tr>\n",
       "    <tr>\n",
       "      <th>-0.156690</th>\n",
       "      <td>-0.581925</td>\n",
       "      <td>1.899904</td>\n",
       "      <td>0.476507</td>\n",
       "    </tr>\n",
       "    <tr>\n",
       "      <th>0.900103</th>\n",
       "      <td>0.006635</td>\n",
       "      <td>0.805402</td>\n",
       "      <td>0.344603</td>\n",
       "    </tr>\n",
       "    <tr>\n",
       "      <th>0.796827</th>\n",
       "      <td>1.040699</td>\n",
       "      <td>0.011613</td>\n",
       "      <td>-0.730910</td>\n",
       "    </tr>\n",
       "    <tr>\n",
       "      <th>...</th>\n",
       "      <td>...</td>\n",
       "      <td>...</td>\n",
       "      <td>...</td>\n",
       "    </tr>\n",
       "    <tr>\n",
       "      <th>-0.688502</th>\n",
       "      <td>-0.878475</td>\n",
       "      <td>-0.100023</td>\n",
       "      <td>1.131825</td>\n",
       "    </tr>\n",
       "    <tr>\n",
       "      <th>1.098235</th>\n",
       "      <td>0.061979</td>\n",
       "      <td>0.355079</td>\n",
       "      <td>0.985619</td>\n",
       "    </tr>\n",
       "    <tr>\n",
       "      <th>-1.153854</th>\n",
       "      <td>-0.103445</td>\n",
       "      <td>3.560237</td>\n",
       "      <td>0.199265</td>\n",
       "    </tr>\n",
       "    <tr>\n",
       "      <th>-0.387073</th>\n",
       "      <td>0.229468</td>\n",
       "      <td>-0.912097</td>\n",
       "      <td>-0.248116</td>\n",
       "    </tr>\n",
       "    <tr>\n",
       "      <th>1.215105</th>\n",
       "      <td>-1.157779</td>\n",
       "      <td>0.022898</td>\n",
       "      <td>0.900059</td>\n",
       "    </tr>\n",
       "  </tbody>\n",
       "</table>\n",
       "<p>100 rows × 3 columns</p>\n",
       "</div>"
      ],
      "text/plain": [
       "                  B         C         D\n",
       "A                                      \n",
       " 0.097789  0.167930 -0.131553 -1.113684\n",
       " 1.194929 -0.967616 -0.214327 -0.578137\n",
       "-0.156690 -0.581925  1.899904  0.476507\n",
       " 0.900103  0.006635  0.805402  0.344603\n",
       " 0.796827  1.040699  0.011613 -0.730910\n",
       "...             ...       ...       ...\n",
       "-0.688502 -0.878475 -0.100023  1.131825\n",
       " 1.098235  0.061979  0.355079  0.985619\n",
       "-1.153854 -0.103445  3.560237  0.199265\n",
       "-0.387073  0.229468 -0.912097 -0.248116\n",
       " 1.215105 -1.157779  0.022898  0.900059\n",
       "\n",
       "[100 rows x 3 columns]"
      ]
     },
     "execution_count": 9,
     "metadata": {},
     "output_type": "execute_result"
    }
   ],
   "source": [
    "ipypandas.disable()\n",
    "\n",
    "df2 = df1.set_index('A')\n",
    "df2\n"
   ]
  },
  {
   "cell_type": "code",
   "execution_count": 10,
   "metadata": {},
   "outputs": [
    {
     "data": {
      "application/vnd.jupyter.widget-view+json": {
       "model_id": "059862ed945e4da18cfec7c9258091b9",
       "version_major": 2,
       "version_minor": 0
      },
      "text/plain": [
       "                  B         C         D\n",
       "A                                      \n",
       " 0.097789  0.167930 -0.131553 …"
      ]
     },
     "metadata": {},
     "output_type": "display_data"
    }
   ],
   "source": [
    "ipypandas.enable()\n",
    "\n",
    "df2 = df1.set_index('A').head()\n",
    "df2\n"
   ]
  },
  {
   "cell_type": "code",
   "execution_count": 11,
   "metadata": {},
   "outputs": [
    {
     "data": {
      "application/vnd.jupyter.widget-view+json": {
       "model_id": "e1c38a4ae0844628888ddfa6ab97a4c1",
       "version_major": 2,
       "version_minor": 0
      },
      "text/plain": [
       "           A         B         C         D    1    2    3    4    5    6  ...  \\\n",
       "0                            …"
      ]
     },
     "metadata": {},
     "output_type": "display_data"
    }
   ],
   "source": [
    "ipypandas.enable()\n",
    "\n",
    "groups = np.random.randint(0, df1.shape[0], size=(df1.shape[0], 50))\n",
    "df3 = pd.concat([df1, pd.DataFrame(groups)], axis=1).groupby(0).sum()#.reset_index()\n",
    "df3\n"
   ]
  },
  {
   "cell_type": "code",
   "execution_count": 12,
   "metadata": {},
   "outputs": [
    {
     "data": {
      "text/html": [
       "<div>\n",
       "<style scoped>\n",
       "    .dataframe tbody tr th:only-of-type {\n",
       "        vertical-align: middle;\n",
       "    }\n",
       "\n",
       "    .dataframe tbody tr th {\n",
       "        vertical-align: top;\n",
       "    }\n",
       "\n",
       "    .dataframe thead th {\n",
       "        text-align: right;\n",
       "    }\n",
       "</style>\n",
       "<table border=\"1\" class=\"dataframe\">\n",
       "  <thead>\n",
       "    <tr style=\"text-align: right;\">\n",
       "      <th></th>\n",
       "      <th>A</th>\n",
       "      <th>B</th>\n",
       "      <th>C</th>\n",
       "      <th>D</th>\n",
       "      <th>1</th>\n",
       "      <th>2</th>\n",
       "      <th>3</th>\n",
       "      <th>4</th>\n",
       "      <th>5</th>\n",
       "      <th>6</th>\n",
       "      <th>...</th>\n",
       "      <th>40</th>\n",
       "      <th>41</th>\n",
       "      <th>42</th>\n",
       "      <th>43</th>\n",
       "      <th>44</th>\n",
       "      <th>45</th>\n",
       "      <th>46</th>\n",
       "      <th>47</th>\n",
       "      <th>48</th>\n",
       "      <th>49</th>\n",
       "    </tr>\n",
       "    <tr>\n",
       "      <th>0</th>\n",
       "      <th></th>\n",
       "      <th></th>\n",
       "      <th></th>\n",
       "      <th></th>\n",
       "      <th></th>\n",
       "      <th></th>\n",
       "      <th></th>\n",
       "      <th></th>\n",
       "      <th></th>\n",
       "      <th></th>\n",
       "      <th></th>\n",
       "      <th></th>\n",
       "      <th></th>\n",
       "      <th></th>\n",
       "      <th></th>\n",
       "      <th></th>\n",
       "      <th></th>\n",
       "      <th></th>\n",
       "      <th></th>\n",
       "      <th></th>\n",
       "      <th></th>\n",
       "    </tr>\n",
       "  </thead>\n",
       "  <tbody>\n",
       "    <tr>\n",
       "      <th>0</th>\n",
       "      <td>0.796827</td>\n",
       "      <td>1.040699</td>\n",
       "      <td>0.011613</td>\n",
       "      <td>-0.730910</td>\n",
       "      <td>3</td>\n",
       "      <td>73</td>\n",
       "      <td>22</td>\n",
       "      <td>69</td>\n",
       "      <td>86</td>\n",
       "      <td>86</td>\n",
       "      <td>...</td>\n",
       "      <td>46</td>\n",
       "      <td>6</td>\n",
       "      <td>97</td>\n",
       "      <td>9</td>\n",
       "      <td>65</td>\n",
       "      <td>21</td>\n",
       "      <td>2</td>\n",
       "      <td>9</td>\n",
       "      <td>43</td>\n",
       "      <td>56</td>\n",
       "    </tr>\n",
       "    <tr>\n",
       "      <th>1</th>\n",
       "      <td>-0.370208</td>\n",
       "      <td>0.598282</td>\n",
       "      <td>0.614745</td>\n",
       "      <td>0.649837</td>\n",
       "      <td>96</td>\n",
       "      <td>59</td>\n",
       "      <td>52</td>\n",
       "      <td>33</td>\n",
       "      <td>91</td>\n",
       "      <td>39</td>\n",
       "      <td>...</td>\n",
       "      <td>7</td>\n",
       "      <td>30</td>\n",
       "      <td>36</td>\n",
       "      <td>37</td>\n",
       "      <td>37</td>\n",
       "      <td>29</td>\n",
       "      <td>10</td>\n",
       "      <td>11</td>\n",
       "      <td>18</td>\n",
       "      <td>6</td>\n",
       "    </tr>\n",
       "    <tr>\n",
       "      <th>2</th>\n",
       "      <td>-0.134310</td>\n",
       "      <td>0.416279</td>\n",
       "      <td>-1.018819</td>\n",
       "      <td>-0.562589</td>\n",
       "      <td>84</td>\n",
       "      <td>60</td>\n",
       "      <td>67</td>\n",
       "      <td>19</td>\n",
       "      <td>66</td>\n",
       "      <td>5</td>\n",
       "      <td>...</td>\n",
       "      <td>17</td>\n",
       "      <td>53</td>\n",
       "      <td>26</td>\n",
       "      <td>30</td>\n",
       "      <td>49</td>\n",
       "      <td>82</td>\n",
       "      <td>73</td>\n",
       "      <td>35</td>\n",
       "      <td>11</td>\n",
       "      <td>41</td>\n",
       "    </tr>\n",
       "    <tr>\n",
       "      <th>3</th>\n",
       "      <td>0.905279</td>\n",
       "      <td>-0.483787</td>\n",
       "      <td>-0.154636</td>\n",
       "      <td>-1.150452</td>\n",
       "      <td>151</td>\n",
       "      <td>171</td>\n",
       "      <td>105</td>\n",
       "      <td>67</td>\n",
       "      <td>87</td>\n",
       "      <td>71</td>\n",
       "      <td>...</td>\n",
       "      <td>114</td>\n",
       "      <td>87</td>\n",
       "      <td>114</td>\n",
       "      <td>53</td>\n",
       "      <td>136</td>\n",
       "      <td>67</td>\n",
       "      <td>131</td>\n",
       "      <td>101</td>\n",
       "      <td>70</td>\n",
       "      <td>175</td>\n",
       "    </tr>\n",
       "    <tr>\n",
       "      <th>4</th>\n",
       "      <td>-0.162688</td>\n",
       "      <td>-2.547748</td>\n",
       "      <td>-1.027444</td>\n",
       "      <td>-0.423256</td>\n",
       "      <td>38</td>\n",
       "      <td>99</td>\n",
       "      <td>99</td>\n",
       "      <td>75</td>\n",
       "      <td>28</td>\n",
       "      <td>61</td>\n",
       "      <td>...</td>\n",
       "      <td>94</td>\n",
       "      <td>40</td>\n",
       "      <td>93</td>\n",
       "      <td>37</td>\n",
       "      <td>29</td>\n",
       "      <td>96</td>\n",
       "      <td>4</td>\n",
       "      <td>72</td>\n",
       "      <td>46</td>\n",
       "      <td>23</td>\n",
       "    </tr>\n",
       "    <tr>\n",
       "      <th>...</th>\n",
       "      <td>...</td>\n",
       "      <td>...</td>\n",
       "      <td>...</td>\n",
       "      <td>...</td>\n",
       "      <td>...</td>\n",
       "      <td>...</td>\n",
       "      <td>...</td>\n",
       "      <td>...</td>\n",
       "      <td>...</td>\n",
       "      <td>...</td>\n",
       "      <td>...</td>\n",
       "      <td>...</td>\n",
       "      <td>...</td>\n",
       "      <td>...</td>\n",
       "      <td>...</td>\n",
       "      <td>...</td>\n",
       "      <td>...</td>\n",
       "      <td>...</td>\n",
       "      <td>...</td>\n",
       "      <td>...</td>\n",
       "      <td>...</td>\n",
       "    </tr>\n",
       "    <tr>\n",
       "      <th>88</th>\n",
       "      <td>0.080713</td>\n",
       "      <td>-0.970046</td>\n",
       "      <td>-0.067198</td>\n",
       "      <td>-1.655650</td>\n",
       "      <td>24</td>\n",
       "      <td>76</td>\n",
       "      <td>80</td>\n",
       "      <td>91</td>\n",
       "      <td>15</td>\n",
       "      <td>48</td>\n",
       "      <td>...</td>\n",
       "      <td>72</td>\n",
       "      <td>78</td>\n",
       "      <td>15</td>\n",
       "      <td>27</td>\n",
       "      <td>3</td>\n",
       "      <td>69</td>\n",
       "      <td>43</td>\n",
       "      <td>64</td>\n",
       "      <td>16</td>\n",
       "      <td>44</td>\n",
       "    </tr>\n",
       "    <tr>\n",
       "      <th>90</th>\n",
       "      <td>2.499317</td>\n",
       "      <td>0.631366</td>\n",
       "      <td>-0.064959</td>\n",
       "      <td>0.705916</td>\n",
       "      <td>95</td>\n",
       "      <td>128</td>\n",
       "      <td>118</td>\n",
       "      <td>124</td>\n",
       "      <td>104</td>\n",
       "      <td>164</td>\n",
       "      <td>...</td>\n",
       "      <td>23</td>\n",
       "      <td>165</td>\n",
       "      <td>177</td>\n",
       "      <td>65</td>\n",
       "      <td>76</td>\n",
       "      <td>121</td>\n",
       "      <td>115</td>\n",
       "      <td>39</td>\n",
       "      <td>172</td>\n",
       "      <td>126</td>\n",
       "    </tr>\n",
       "    <tr>\n",
       "      <th>91</th>\n",
       "      <td>-2.231555</td>\n",
       "      <td>0.623578</td>\n",
       "      <td>-1.036269</td>\n",
       "      <td>1.619367</td>\n",
       "      <td>102</td>\n",
       "      <td>147</td>\n",
       "      <td>97</td>\n",
       "      <td>110</td>\n",
       "      <td>65</td>\n",
       "      <td>40</td>\n",
       "      <td>...</td>\n",
       "      <td>83</td>\n",
       "      <td>151</td>\n",
       "      <td>140</td>\n",
       "      <td>117</td>\n",
       "      <td>108</td>\n",
       "      <td>100</td>\n",
       "      <td>121</td>\n",
       "      <td>126</td>\n",
       "      <td>187</td>\n",
       "      <td>50</td>\n",
       "    </tr>\n",
       "    <tr>\n",
       "      <th>94</th>\n",
       "      <td>-1.104943</td>\n",
       "      <td>0.138076</td>\n",
       "      <td>-0.114841</td>\n",
       "      <td>1.468050</td>\n",
       "      <td>228</td>\n",
       "      <td>110</td>\n",
       "      <td>147</td>\n",
       "      <td>70</td>\n",
       "      <td>82</td>\n",
       "      <td>168</td>\n",
       "      <td>...</td>\n",
       "      <td>120</td>\n",
       "      <td>204</td>\n",
       "      <td>84</td>\n",
       "      <td>122</td>\n",
       "      <td>131</td>\n",
       "      <td>98</td>\n",
       "      <td>75</td>\n",
       "      <td>196</td>\n",
       "      <td>147</td>\n",
       "      <td>120</td>\n",
       "    </tr>\n",
       "    <tr>\n",
       "      <th>96</th>\n",
       "      <td>0.250595</td>\n",
       "      <td>0.262599</td>\n",
       "      <td>-0.979626</td>\n",
       "      <td>1.386601</td>\n",
       "      <td>72</td>\n",
       "      <td>38</td>\n",
       "      <td>71</td>\n",
       "      <td>85</td>\n",
       "      <td>39</td>\n",
       "      <td>95</td>\n",
       "      <td>...</td>\n",
       "      <td>45</td>\n",
       "      <td>70</td>\n",
       "      <td>75</td>\n",
       "      <td>67</td>\n",
       "      <td>98</td>\n",
       "      <td>15</td>\n",
       "      <td>3</td>\n",
       "      <td>21</td>\n",
       "      <td>42</td>\n",
       "      <td>57</td>\n",
       "    </tr>\n",
       "  </tbody>\n",
       "</table>\n",
       "<p>64 rows × 53 columns</p>\n",
       "</div>"
      ],
      "text/plain": [
       "           A         B         C         D    1    2    3    4    5    6  ...  \\\n",
       "0                                                                         ...   \n",
       "0   0.796827  1.040699  0.011613 -0.730910    3   73   22   69   86   86  ...   \n",
       "1  -0.370208  0.598282  0.614745  0.649837   96   59   52   33   91   39  ...   \n",
       "2  -0.134310  0.416279 -1.018819 -0.562589   84   60   67   19   66    5  ...   \n",
       "3   0.905279 -0.483787 -0.154636 -1.150452  151  171  105   67   87   71  ...   \n",
       "4  -0.162688 -2.547748 -1.027444 -0.423256   38   99   99   75   28   61  ...   \n",
       "..       ...       ...       ...       ...  ...  ...  ...  ...  ...  ...  ...   \n",
       "88  0.080713 -0.970046 -0.067198 -1.655650   24   76   80   91   15   48  ...   \n",
       "90  2.499317  0.631366 -0.064959  0.705916   95  128  118  124  104  164  ...   \n",
       "91 -2.231555  0.623578 -1.036269  1.619367  102  147   97  110   65   40  ...   \n",
       "94 -1.104943  0.138076 -0.114841  1.468050  228  110  147   70   82  168  ...   \n",
       "96  0.250595  0.262599 -0.979626  1.386601   72   38   71   85   39   95  ...   \n",
       "\n",
       "     40   41   42   43   44   45   46   47   48   49  \n",
       "0                                                     \n",
       "0    46    6   97    9   65   21    2    9   43   56  \n",
       "1     7   30   36   37   37   29   10   11   18    6  \n",
       "2    17   53   26   30   49   82   73   35   11   41  \n",
       "3   114   87  114   53  136   67  131  101   70  175  \n",
       "4    94   40   93   37   29   96    4   72   46   23  \n",
       "..  ...  ...  ...  ...  ...  ...  ...  ...  ...  ...  \n",
       "88   72   78   15   27    3   69   43   64   16   44  \n",
       "90   23  165  177   65   76  121  115   39  172  126  \n",
       "91   83  151  140  117  108  100  121  126  187   50  \n",
       "94  120  204   84  122  131   98   75  196  147  120  \n",
       "96   45   70   75   67   98   15    3   21   42   57  \n",
       "\n",
       "[64 rows x 53 columns]"
      ]
     },
     "execution_count": 12,
     "metadata": {},
     "output_type": "execute_result"
    }
   ],
   "source": [
    "ipypandas.disable()\n",
    "\n",
    "df3\n"
   ]
  },
  {
   "cell_type": "code",
   "execution_count": 13,
   "metadata": {},
   "outputs": [
    {
     "data": {
      "application/vnd.jupyter.widget-view+json": {
       "model_id": "9bf0cb8f27114d9cb3aea53a8fd744d1",
       "version_major": 2,
       "version_minor": 0
      },
      "text/plain": [
       "Model:                Decision Tree            Regression            Random  \\\n",
       "Predicted:                   Tu…"
      ]
     },
     "metadata": {},
     "output_type": "display_data"
    }
   ],
   "source": [
    "ipypandas.enable()\n",
    "\n",
    "df4 = pd.DataFrame([[38.0, 2.0, 18.0, 22.0, 21, np.nan], [19, 439, 6, 452, 226, 232]],\n",
    "                   index=pd.Index(['Tumour (Positive)', 'Non-Tumour (Negative)'], name='Actual Label:'),\n",
    "                   columns=pd.MultiIndex.from_product([['Decision Tree', 'Regression', 'Random'], ['Tumour', 'Non-Tumour']], names=['Model:', 'Predicted:']))\n",
    "df4\n"
   ]
  },
  {
   "cell_type": "code",
   "execution_count": 14,
   "metadata": {},
   "outputs": [
    {
     "data": {
      "application/vnd.jupyter.widget-view+json": {
       "model_id": "65353a0bca5c4d4caae90522786df0aa",
       "version_major": 2,
       "version_minor": 0
      },
      "text/plain": [
       "           A         B         C         D    1    2    3    4    5    6  ...  \\\n",
       "0                            …"
      ]
     },
     "metadata": {},
     "output_type": "display_data"
    }
   ],
   "source": [
    "df5 = ipypandas.PandasWidget(df=df3)\n",
    "df5\n"
   ]
  },
  {
   "cell_type": "code",
   "execution_count": 15,
   "metadata": {},
   "outputs": [
    {
     "name": "stdout",
     "output_type": "stream",
     "text": [
      "           A         B         C         D    1    2    3    4    5    6  ...  \\\n",
      "0                                                                         ...   \n",
      "0   0.796827  1.040699  0.011613 -0.730910    3   73   22   69   86   86  ...   \n",
      "1  -0.370208  0.598282  0.614745  0.649837   96   59   52   33   91   39  ...   \n",
      "2  -0.134310  0.416279 -1.018819 -0.562589   84   60   67   19   66    5  ...   \n",
      "3   0.905279 -0.483787 -0.154636 -1.150452  151  171  105   67   87   71  ...   \n",
      "4  -0.162688 -2.547748 -1.027444 -0.423256   38   99   99   75   28   61  ...   \n",
      "5   1.098235  0.061979  0.355079  0.985619   97   37   53    9    3   42  ...   \n",
      "6  -0.387073  0.229468 -0.912097 -0.248116   66   82   80   32    5   64  ...   \n",
      "7   0.220587 -1.076767 -0.971803 -0.648862  182  121   56  157   64   92  ...   \n",
      "8  -1.341612 -2.180401  0.507796 -0.425980  170   87  137   68   24   52  ...   \n",
      "9   2.369466  1.235049  0.720710  0.268473   59  168   97  120  135  170  ...   \n",
      "10 -0.581530 -0.174739  0.632896  1.372015   77    2   23    4    3   95  ...   \n",
      "11 -2.105024 -0.060473 -4.181151 -0.329978  113   81  153   65   98  118  ...   \n",
      "12  0.285351 -1.054834  2.262215 -1.914807   80   99  109  176   98  158  ...   \n",
      "13  0.351108  1.967118  0.667048 -1.206699  102   53  113   15  113    7  ...   \n",
      "15 -0.674513 -1.212921  3.182742 -0.485998   92   55   92   90  106   97  ...   \n",
      "\n",
      "     40   41   42   43   44   45   46   47   48   49  \n",
      "0                                                     \n",
      "0    46    6   97    9   65   21    2    9   43   56  \n",
      "1     7   30   36   37   37   29   10   11   18    6  \n",
      "2    17   53   26   30   49   82   73   35   11   41  \n",
      "3   114   87  114   53  136   67  131  101   70  175  \n",
      "4    94   40   93   37   29   96    4   72   46   23  \n",
      "5    15   30   48   90   58   81   95   13   24   28  \n",
      "6    10   22   40   58   82   90   83    8   27   32  \n",
      "7   143  149   83   89  104  108   87   53   75  130  \n",
      "8    81  115   90   96  109  153  182  158  117   21  \n",
      "9    82   95  125  162   98  128  101  120  166   78  \n",
      "10   11   69   76   77    3   33   96    5    7   66  \n",
      "11  114   56   66   99   71   81  100  153  113  109  \n",
      "12  131   50  121   88  130  133   70  107   86   35  \n",
      "13   85  110   58   64  132   93   95   91  121  133  \n",
      "15   69   56  105   86   80  102   40  121  195  176  \n",
      "\n",
      "[15 rows x 53 columns]\n"
     ]
    }
   ],
   "source": [
    "print(df5)\n"
   ]
  }
 ],
 "metadata": {
  "kernelspec": {
   "display_name": "Python 3 (ipykernel)",
   "language": "python",
   "name": "python3"
  },
  "language_info": {
   "codemirror_mode": {
    "name": "ipython",
    "version": 3
   },
   "file_extension": ".py",
   "mimetype": "text/x-python",
   "name": "python",
   "nbconvert_exporter": "python",
   "pygments_lexer": "ipython3",
   "version": "3.9.10"
  }
 },
 "nbformat": 4,
 "nbformat_minor": 4
}
