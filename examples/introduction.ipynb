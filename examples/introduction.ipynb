{
 "cells": [
  {
   "cell_type": "markdown",
   "metadata": {},
   "source": [
    "# Imports"
   ]
  },
  {
   "cell_type": "code",
   "execution_count": 1,
   "metadata": {},
   "outputs": [],
   "source": [
    "import ipypandas\n",
    "\n",
    "import numpy as np\n",
    "import pandas as pd\n"
   ]
  },
  {
   "cell_type": "markdown",
   "metadata": {},
   "source": [
    "# DataFrame"
   ]
  },
  {
   "cell_type": "code",
   "execution_count": 2,
   "metadata": {},
   "outputs": [
    {
     "data": {
      "application/vnd.jupyter.widget-view+json": {
       "model_id": "2ae24883f2dd45ec9ecdd7fb5b341f32",
       "version_major": 2,
       "version_minor": 0
      },
      "text/plain": [
       "          A         B         C         D\n",
       "0 -0.249283 -1.693352 -0.625253 -1.272575\n",
       "1  0.392252 -1.836917 -1.3…"
      ]
     },
     "metadata": {},
     "output_type": "display_data"
    }
   ],
   "source": [
    "df1 = pd.DataFrame(np.random.randn(5, 4), columns=['A', 'B', 'C', 'D'])\n",
    "df1\n"
   ]
  },
  {
   "cell_type": "code",
   "execution_count": 3,
   "metadata": {},
   "outputs": [
    {
     "data": {
      "application/vnd.jupyter.widget-view+json": {
       "model_id": "dce0db10fa164aabb3108798c6d42c41",
       "version_major": 2,
       "version_minor": 0
      },
      "text/plain": [
       "                  B         C         D\n",
       "A                                      \n",
       "-0.249283 -1.693352 -0.625253 …"
      ]
     },
     "metadata": {},
     "output_type": "display_data"
    }
   ],
   "source": [
    "df2 = df1.set_index('A')\n",
    "df2\n"
   ]
  },
  {
   "cell_type": "code",
   "execution_count": 4,
   "metadata": {},
   "outputs": [
    {
     "data": {
      "application/vnd.jupyter.widget-view+json": {
       "model_id": "fb537f1f9e884bff8a4f734bda027779",
       "version_major": 2,
       "version_minor": 0
      },
      "text/plain": [
       "          A         B         C         D  1  2  3  4\n",
       "0                                                    \n",
       "0 …"
      ]
     },
     "metadata": {},
     "output_type": "display_data"
    }
   ],
   "source": [
    "groups = np.random.randint(0, df1.shape[0], size=(df1.shape[0], 5))\n",
    "df3 = pd.concat([df1, pd.DataFrame(groups)], axis=1).groupby(0).sum()\n",
    "df3\n"
   ]
  },
  {
   "cell_type": "code",
   "execution_count": 5,
   "metadata": {},
   "outputs": [
    {
     "data": {
      "application/vnd.jupyter.widget-view+json": {
       "model_id": "274079b794874443b483626d746c9d19",
       "version_major": 2,
       "version_minor": 0
      },
      "text/plain": [
       "Model:                Decision Tree            Regression            Random  \\\n",
       "Predicted:                   Tu…"
      ]
     },
     "metadata": {},
     "output_type": "display_data"
    }
   ],
   "source": [
    "df4 = pd.DataFrame([[38.0, 2.0, 18.0, 22.0, 21, np.nan], [19, 439, 6, 452, 226, 232]],\n",
    "                   index=pd.Index(['Tumour (Positive)', 'Non-Tumour (Negative)'], name='Actual Label:'),\n",
    "                   columns=pd.MultiIndex.from_product([['Decision Tree', 'Regression', 'Random'], ['Tumour', 'Non-Tumour']], names=['Model:', 'Predicted:']))\n",
    "df4\n"
   ]
  },
  {
   "cell_type": "code",
   "execution_count": 6,
   "metadata": {},
   "outputs": [
    {
     "data": {
      "text/html": [
       "<div>\n",
       "<style scoped>\n",
       "    .dataframe tbody tr th:only-of-type {\n",
       "        vertical-align: middle;\n",
       "    }\n",
       "\n",
       "    .dataframe tbody tr th {\n",
       "        vertical-align: top;\n",
       "    }\n",
       "\n",
       "    .dataframe thead tr th {\n",
       "        text-align: left;\n",
       "    }\n",
       "\n",
       "    .dataframe thead tr:last-of-type th {\n",
       "        text-align: right;\n",
       "    }\n",
       "</style>\n",
       "<table border=\"1\" class=\"dataframe\">\n",
       "  <thead>\n",
       "    <tr>\n",
       "      <th>Model:</th>\n",
       "      <th colspan=\"2\" halign=\"left\">Decision Tree</th>\n",
       "      <th colspan=\"2\" halign=\"left\">Regression</th>\n",
       "      <th colspan=\"2\" halign=\"left\">Random</th>\n",
       "    </tr>\n",
       "    <tr>\n",
       "      <th>Predicted:</th>\n",
       "      <th>Tumour</th>\n",
       "      <th>Non-Tumour</th>\n",
       "      <th>Tumour</th>\n",
       "      <th>Non-Tumour</th>\n",
       "      <th>Tumour</th>\n",
       "      <th>Non-Tumour</th>\n",
       "    </tr>\n",
       "    <tr>\n",
       "      <th>Actual Label:</th>\n",
       "      <th></th>\n",
       "      <th></th>\n",
       "      <th></th>\n",
       "      <th></th>\n",
       "      <th></th>\n",
       "      <th></th>\n",
       "    </tr>\n",
       "  </thead>\n",
       "  <tbody>\n",
       "    <tr>\n",
       "      <th>Tumour (Positive)</th>\n",
       "      <td>38.0</td>\n",
       "      <td>2.0</td>\n",
       "      <td>18.0</td>\n",
       "      <td>22.0</td>\n",
       "      <td>21</td>\n",
       "      <td>NaN</td>\n",
       "    </tr>\n",
       "    <tr>\n",
       "      <th>Non-Tumour (Negative)</th>\n",
       "      <td>19.0</td>\n",
       "      <td>439.0</td>\n",
       "      <td>6.0</td>\n",
       "      <td>452.0</td>\n",
       "      <td>226</td>\n",
       "      <td>232.0</td>\n",
       "    </tr>\n",
       "  </tbody>\n",
       "</table>\n",
       "</div>"
      ],
      "text/plain": [
       "Model:                Decision Tree            Regression            Random  \\\n",
       "Predicted:                   Tumour Non-Tumour     Tumour Non-Tumour Tumour   \n",
       "Actual Label:                                                                 \n",
       "Tumour (Positive)              38.0        2.0       18.0       22.0     21   \n",
       "Non-Tumour (Negative)          19.0      439.0        6.0      452.0    226   \n",
       "\n",
       "Model:                            \n",
       "Predicted:            Non-Tumour  \n",
       "Actual Label:                     \n",
       "Tumour (Positive)            NaN  \n",
       "Non-Tumour (Negative)      232.0  "
      ]
     },
     "execution_count": 6,
     "metadata": {},
     "output_type": "execute_result"
    }
   ],
   "source": [
    "ipypandas.disable()\n",
    "df4\n"
   ]
  },
  {
   "cell_type": "code",
   "execution_count": null,
   "metadata": {},
   "outputs": [],
   "source": []
  }
 ],
 "metadata": {
  "kernelspec": {
   "display_name": "Python 3 (ipykernel)",
   "language": "python",
   "name": "python3"
  },
  "language_info": {
   "codemirror_mode": {
    "name": "ipython",
    "version": 3
   },
   "file_extension": ".py",
   "mimetype": "text/x-python",
   "name": "python",
   "nbconvert_exporter": "python",
   "pygments_lexer": "ipython3",
   "version": "3.9.10"
  }
 },
 "nbformat": 4,
 "nbformat_minor": 4
}
