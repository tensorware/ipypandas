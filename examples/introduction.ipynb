{
 "cells": [
  {
   "cell_type": "markdown",
   "metadata": {},
   "source": [
    "# Imports"
   ]
  },
  {
   "cell_type": "code",
   "execution_count": 1,
   "metadata": {},
   "outputs": [],
   "source": [
    "import ipypandas\n",
    "\n",
    "import numpy as np\n",
    "import pandas as pd\n"
   ]
  },
  {
   "cell_type": "code",
   "execution_count": 2,
   "metadata": {},
   "outputs": [],
   "source": [
    "pd.set_option('display.min_rows', 10)\n",
    "pd.set_option('display.max_rows', 60)\n",
    "\n",
    "pd.set_option('display.max_columns', 20)\n",
    "pd.set_option('display.max_colwidth', 50)\n"
   ]
  },
  {
   "cell_type": "markdown",
   "metadata": {
    "tags": []
   },
   "source": [
    "# DataFrame"
   ]
  },
  {
   "cell_type": "code",
   "execution_count": 3,
   "metadata": {},
   "outputs": [
    {
     "data": {
      "text/html": [
       "<div>\n",
       "<style scoped>\n",
       "    .dataframe tbody tr th:only-of-type {\n",
       "        vertical-align: middle;\n",
       "    }\n",
       "\n",
       "    .dataframe tbody tr th {\n",
       "        vertical-align: top;\n",
       "    }\n",
       "\n",
       "    .dataframe thead th {\n",
       "        text-align: right;\n",
       "    }\n",
       "</style>\n",
       "<table border=\"1\" class=\"dataframe\">\n",
       "  <thead>\n",
       "    <tr style=\"text-align: right;\">\n",
       "      <th></th>\n",
       "    </tr>\n",
       "  </thead>\n",
       "  <tbody>\n",
       "  </tbody>\n",
       "</table>\n",
       "</div>"
      ],
      "text/plain": [
       "Empty DataFrame\n",
       "Columns: []\n",
       "Index: []"
      ]
     },
     "execution_count": 3,
     "metadata": {},
     "output_type": "execute_result"
    }
   ],
   "source": [
    "ipypandas.disable()\n",
    "\n",
    "pd.DataFrame()\n"
   ]
  },
  {
   "cell_type": "code",
   "execution_count": 4,
   "metadata": {},
   "outputs": [
    {
     "data": {
      "application/vnd.jupyter.widget-view+json": {
       "model_id": "05e24a9bb57d473da5b824fd1a73c839",
       "version_major": 2,
       "version_minor": 0
      },
      "text/plain": [
       "Empty DataFrame\n",
       "Columns: []\n",
       "Index: []"
      ]
     },
     "metadata": {},
     "output_type": "display_data"
    }
   ],
   "source": [
    "ipypandas.enable()\n",
    "\n",
    "pd.DataFrame()\n"
   ]
  },
  {
   "cell_type": "code",
   "execution_count": 5,
   "metadata": {},
   "outputs": [
    {
     "data": {
      "application/vnd.jupyter.widget-view+json": {
       "model_id": "1c5143f5e56842158fa1ccacfcb2cc4c",
       "version_major": 2,
       "version_minor": 0
      },
      "text/plain": [
       "           A         B         C         D\n",
       "0  -0.260059  0.213000  1.384661 -1.191147\n",
       "1  -0.634085 -0.284327  …"
      ]
     },
     "metadata": {},
     "output_type": "display_data"
    }
   ],
   "source": [
    "df1 = pd.DataFrame(np.random.randn(100, 4), columns=['A', 'B', 'C', 'D'])\n",
    "df1\n"
   ]
  },
  {
   "cell_type": "code",
   "execution_count": 6,
   "metadata": {},
   "outputs": [
    {
     "data": {
      "text/html": [
       "<div>\n",
       "<style scoped>\n",
       "    .dataframe tbody tr th:only-of-type {\n",
       "        vertical-align: middle;\n",
       "    }\n",
       "\n",
       "    .dataframe tbody tr th {\n",
       "        vertical-align: top;\n",
       "    }\n",
       "\n",
       "    .dataframe thead th {\n",
       "        text-align: right;\n",
       "    }\n",
       "</style>\n",
       "<table border=\"1\" class=\"dataframe\">\n",
       "  <thead>\n",
       "    <tr style=\"text-align: right;\">\n",
       "      <th></th>\n",
       "      <th>B</th>\n",
       "      <th>C</th>\n",
       "      <th>D</th>\n",
       "    </tr>\n",
       "    <tr>\n",
       "      <th>A</th>\n",
       "      <th></th>\n",
       "      <th></th>\n",
       "      <th></th>\n",
       "    </tr>\n",
       "  </thead>\n",
       "  <tbody>\n",
       "    <tr>\n",
       "      <th>-0.260059</th>\n",
       "      <td>0.213000</td>\n",
       "      <td>1.384661</td>\n",
       "      <td>-1.191147</td>\n",
       "    </tr>\n",
       "    <tr>\n",
       "      <th>-0.634085</th>\n",
       "      <td>-0.284327</td>\n",
       "      <td>0.942500</td>\n",
       "      <td>0.650505</td>\n",
       "    </tr>\n",
       "    <tr>\n",
       "      <th>-0.432379</th>\n",
       "      <td>0.306616</td>\n",
       "      <td>0.352478</td>\n",
       "      <td>-0.454292</td>\n",
       "    </tr>\n",
       "    <tr>\n",
       "      <th>-1.623719</th>\n",
       "      <td>-1.002720</td>\n",
       "      <td>1.125436</td>\n",
       "      <td>0.538145</td>\n",
       "    </tr>\n",
       "    <tr>\n",
       "      <th>-0.470402</th>\n",
       "      <td>-1.950834</td>\n",
       "      <td>-1.354992</td>\n",
       "      <td>0.418448</td>\n",
       "    </tr>\n",
       "  </tbody>\n",
       "</table>\n",
       "</div>"
      ],
      "text/plain": [
       "                  B         C         D\n",
       "A                                      \n",
       "-0.260059  0.213000  1.384661 -1.191147\n",
       "-0.634085 -0.284327  0.942500  0.650505\n",
       "-0.432379  0.306616  0.352478 -0.454292\n",
       "-1.623719 -1.002720  1.125436  0.538145\n",
       "-0.470402 -1.950834 -1.354992  0.418448"
      ]
     },
     "execution_count": 6,
     "metadata": {},
     "output_type": "execute_result"
    }
   ],
   "source": [
    "ipypandas.disable()\n",
    "\n",
    "df2 = df1.set_index('A').head()\n",
    "df2\n"
   ]
  },
  {
   "cell_type": "code",
   "execution_count": 7,
   "metadata": {},
   "outputs": [
    {
     "data": {
      "application/vnd.jupyter.widget-view+json": {
       "model_id": "60c84cd44c7348469a20d6af9bcb4311",
       "version_major": 2,
       "version_minor": 0
      },
      "text/plain": [
       "                  B         C         D\n",
       "A                                      \n",
       "-0.260059  0.213000  1.384661 …"
      ]
     },
     "metadata": {},
     "output_type": "display_data"
    }
   ],
   "source": [
    "ipypandas.enable()\n",
    "\n",
    "df2 = df1.set_index('A').head()\n",
    "df2\n"
   ]
  },
  {
   "cell_type": "code",
   "execution_count": 8,
   "metadata": {},
   "outputs": [
    {
     "data": {
      "application/vnd.jupyter.widget-view+json": {
       "model_id": "93fdfe16abc04bcb979d15cc5987dcdd",
       "version_major": 2,
       "version_minor": 0
      },
      "text/plain": [
       "           A         B         C         D   1    2    3    4    5    6  ...  \\\n",
       "0                             …"
      ]
     },
     "metadata": {},
     "output_type": "display_data"
    }
   ],
   "source": [
    "groups = np.random.randint(0, df1.shape[0], size=(df1.shape[0], 50))\n",
    "\n",
    "df3 = pd.concat([df1, pd.DataFrame(groups)], axis=1).groupby(0).sum()\n",
    "df3\n"
   ]
  },
  {
   "cell_type": "code",
   "execution_count": 9,
   "metadata": {},
   "outputs": [
    {
     "data": {
      "text/html": [
       "<div>\n",
       "<style scoped>\n",
       "    .dataframe tbody tr th:only-of-type {\n",
       "        vertical-align: middle;\n",
       "    }\n",
       "\n",
       "    .dataframe tbody tr th {\n",
       "        vertical-align: top;\n",
       "    }\n",
       "\n",
       "    .dataframe thead th {\n",
       "        text-align: right;\n",
       "    }\n",
       "</style>\n",
       "<table border=\"1\" class=\"dataframe\">\n",
       "  <thead>\n",
       "    <tr style=\"text-align: right;\">\n",
       "      <th></th>\n",
       "      <th>A</th>\n",
       "      <th>B</th>\n",
       "      <th>C</th>\n",
       "      <th>D</th>\n",
       "      <th>1</th>\n",
       "      <th>2</th>\n",
       "      <th>3</th>\n",
       "      <th>4</th>\n",
       "      <th>5</th>\n",
       "      <th>6</th>\n",
       "      <th>...</th>\n",
       "      <th>40</th>\n",
       "      <th>41</th>\n",
       "      <th>42</th>\n",
       "      <th>43</th>\n",
       "      <th>44</th>\n",
       "      <th>45</th>\n",
       "      <th>46</th>\n",
       "      <th>47</th>\n",
       "      <th>48</th>\n",
       "      <th>49</th>\n",
       "    </tr>\n",
       "    <tr>\n",
       "      <th>0</th>\n",
       "      <th></th>\n",
       "      <th></th>\n",
       "      <th></th>\n",
       "      <th></th>\n",
       "      <th></th>\n",
       "      <th></th>\n",
       "      <th></th>\n",
       "      <th></th>\n",
       "      <th></th>\n",
       "      <th></th>\n",
       "      <th></th>\n",
       "      <th></th>\n",
       "      <th></th>\n",
       "      <th></th>\n",
       "      <th></th>\n",
       "      <th></th>\n",
       "      <th></th>\n",
       "      <th></th>\n",
       "      <th></th>\n",
       "      <th></th>\n",
       "      <th></th>\n",
       "    </tr>\n",
       "  </thead>\n",
       "  <tbody>\n",
       "    <tr>\n",
       "      <th>0</th>\n",
       "      <td>-2.444100</td>\n",
       "      <td>0.792830</td>\n",
       "      <td>0.787488</td>\n",
       "      <td>-0.336610</td>\n",
       "      <td>22</td>\n",
       "      <td>94</td>\n",
       "      <td>32</td>\n",
       "      <td>54</td>\n",
       "      <td>16</td>\n",
       "      <td>80</td>\n",
       "      <td>...</td>\n",
       "      <td>0</td>\n",
       "      <td>50</td>\n",
       "      <td>74</td>\n",
       "      <td>7</td>\n",
       "      <td>57</td>\n",
       "      <td>95</td>\n",
       "      <td>65</td>\n",
       "      <td>32</td>\n",
       "      <td>22</td>\n",
       "      <td>47</td>\n",
       "    </tr>\n",
       "    <tr>\n",
       "      <th>5</th>\n",
       "      <td>1.808162</td>\n",
       "      <td>0.938032</td>\n",
       "      <td>-1.251898</td>\n",
       "      <td>0.293780</td>\n",
       "      <td>42</td>\n",
       "      <td>157</td>\n",
       "      <td>123</td>\n",
       "      <td>39</td>\n",
       "      <td>97</td>\n",
       "      <td>39</td>\n",
       "      <td>...</td>\n",
       "      <td>64</td>\n",
       "      <td>111</td>\n",
       "      <td>143</td>\n",
       "      <td>79</td>\n",
       "      <td>124</td>\n",
       "      <td>98</td>\n",
       "      <td>168</td>\n",
       "      <td>59</td>\n",
       "      <td>84</td>\n",
       "      <td>34</td>\n",
       "    </tr>\n",
       "    <tr>\n",
       "      <th>6</th>\n",
       "      <td>-0.260059</td>\n",
       "      <td>0.213000</td>\n",
       "      <td>1.384661</td>\n",
       "      <td>-1.191147</td>\n",
       "      <td>90</td>\n",
       "      <td>87</td>\n",
       "      <td>72</td>\n",
       "      <td>30</td>\n",
       "      <td>5</td>\n",
       "      <td>86</td>\n",
       "      <td>...</td>\n",
       "      <td>83</td>\n",
       "      <td>81</td>\n",
       "      <td>73</td>\n",
       "      <td>11</td>\n",
       "      <td>14</td>\n",
       "      <td>43</td>\n",
       "      <td>25</td>\n",
       "      <td>46</td>\n",
       "      <td>16</td>\n",
       "      <td>14</td>\n",
       "    </tr>\n",
       "    <tr>\n",
       "      <th>7</th>\n",
       "      <td>0.367218</td>\n",
       "      <td>-0.555504</td>\n",
       "      <td>0.473211</td>\n",
       "      <td>-1.465292</td>\n",
       "      <td>64</td>\n",
       "      <td>40</td>\n",
       "      <td>55</td>\n",
       "      <td>89</td>\n",
       "      <td>35</td>\n",
       "      <td>32</td>\n",
       "      <td>...</td>\n",
       "      <td>83</td>\n",
       "      <td>18</td>\n",
       "      <td>34</td>\n",
       "      <td>41</td>\n",
       "      <td>5</td>\n",
       "      <td>97</td>\n",
       "      <td>78</td>\n",
       "      <td>65</td>\n",
       "      <td>66</td>\n",
       "      <td>38</td>\n",
       "    </tr>\n",
       "    <tr>\n",
       "      <th>8</th>\n",
       "      <td>1.434818</td>\n",
       "      <td>1.621827</td>\n",
       "      <td>3.198738</td>\n",
       "      <td>2.570153</td>\n",
       "      <td>68</td>\n",
       "      <td>51</td>\n",
       "      <td>110</td>\n",
       "      <td>155</td>\n",
       "      <td>114</td>\n",
       "      <td>24</td>\n",
       "      <td>...</td>\n",
       "      <td>73</td>\n",
       "      <td>105</td>\n",
       "      <td>31</td>\n",
       "      <td>33</td>\n",
       "      <td>149</td>\n",
       "      <td>71</td>\n",
       "      <td>109</td>\n",
       "      <td>152</td>\n",
       "      <td>145</td>\n",
       "      <td>109</td>\n",
       "    </tr>\n",
       "    <tr>\n",
       "      <th>...</th>\n",
       "      <td>...</td>\n",
       "      <td>...</td>\n",
       "      <td>...</td>\n",
       "      <td>...</td>\n",
       "      <td>...</td>\n",
       "      <td>...</td>\n",
       "      <td>...</td>\n",
       "      <td>...</td>\n",
       "      <td>...</td>\n",
       "      <td>...</td>\n",
       "      <td>...</td>\n",
       "      <td>...</td>\n",
       "      <td>...</td>\n",
       "      <td>...</td>\n",
       "      <td>...</td>\n",
       "      <td>...</td>\n",
       "      <td>...</td>\n",
       "      <td>...</td>\n",
       "      <td>...</td>\n",
       "      <td>...</td>\n",
       "      <td>...</td>\n",
       "    </tr>\n",
       "    <tr>\n",
       "      <th>91</th>\n",
       "      <td>1.229692</td>\n",
       "      <td>2.156184</td>\n",
       "      <td>-0.181928</td>\n",
       "      <td>-0.818753</td>\n",
       "      <td>63</td>\n",
       "      <td>2</td>\n",
       "      <td>113</td>\n",
       "      <td>155</td>\n",
       "      <td>87</td>\n",
       "      <td>120</td>\n",
       "      <td>...</td>\n",
       "      <td>28</td>\n",
       "      <td>100</td>\n",
       "      <td>157</td>\n",
       "      <td>114</td>\n",
       "      <td>155</td>\n",
       "      <td>54</td>\n",
       "      <td>69</td>\n",
       "      <td>23</td>\n",
       "      <td>152</td>\n",
       "      <td>28</td>\n",
       "    </tr>\n",
       "    <tr>\n",
       "      <th>92</th>\n",
       "      <td>0.956267</td>\n",
       "      <td>-0.049059</td>\n",
       "      <td>-2.241069</td>\n",
       "      <td>0.982508</td>\n",
       "      <td>31</td>\n",
       "      <td>38</td>\n",
       "      <td>44</td>\n",
       "      <td>14</td>\n",
       "      <td>14</td>\n",
       "      <td>83</td>\n",
       "      <td>...</td>\n",
       "      <td>7</td>\n",
       "      <td>36</td>\n",
       "      <td>9</td>\n",
       "      <td>20</td>\n",
       "      <td>38</td>\n",
       "      <td>24</td>\n",
       "      <td>80</td>\n",
       "      <td>71</td>\n",
       "      <td>12</td>\n",
       "      <td>98</td>\n",
       "    </tr>\n",
       "    <tr>\n",
       "      <th>94</th>\n",
       "      <td>0.449749</td>\n",
       "      <td>-0.004270</td>\n",
       "      <td>0.492370</td>\n",
       "      <td>0.289143</td>\n",
       "      <td>55</td>\n",
       "      <td>35</td>\n",
       "      <td>85</td>\n",
       "      <td>73</td>\n",
       "      <td>60</td>\n",
       "      <td>84</td>\n",
       "      <td>...</td>\n",
       "      <td>62</td>\n",
       "      <td>14</td>\n",
       "      <td>41</td>\n",
       "      <td>40</td>\n",
       "      <td>53</td>\n",
       "      <td>40</td>\n",
       "      <td>26</td>\n",
       "      <td>52</td>\n",
       "      <td>68</td>\n",
       "      <td>41</td>\n",
       "    </tr>\n",
       "    <tr>\n",
       "      <th>97</th>\n",
       "      <td>0.783265</td>\n",
       "      <td>-1.772420</td>\n",
       "      <td>0.418444</td>\n",
       "      <td>-0.447000</td>\n",
       "      <td>59</td>\n",
       "      <td>0</td>\n",
       "      <td>30</td>\n",
       "      <td>60</td>\n",
       "      <td>22</td>\n",
       "      <td>94</td>\n",
       "      <td>...</td>\n",
       "      <td>73</td>\n",
       "      <td>93</td>\n",
       "      <td>76</td>\n",
       "      <td>20</td>\n",
       "      <td>74</td>\n",
       "      <td>80</td>\n",
       "      <td>34</td>\n",
       "      <td>42</td>\n",
       "      <td>13</td>\n",
       "      <td>68</td>\n",
       "    </tr>\n",
       "    <tr>\n",
       "      <th>98</th>\n",
       "      <td>-0.634085</td>\n",
       "      <td>-0.284327</td>\n",
       "      <td>0.942500</td>\n",
       "      <td>0.650505</td>\n",
       "      <td>64</td>\n",
       "      <td>10</td>\n",
       "      <td>36</td>\n",
       "      <td>77</td>\n",
       "      <td>58</td>\n",
       "      <td>56</td>\n",
       "      <td>...</td>\n",
       "      <td>46</td>\n",
       "      <td>17</td>\n",
       "      <td>42</td>\n",
       "      <td>88</td>\n",
       "      <td>35</td>\n",
       "      <td>96</td>\n",
       "      <td>12</td>\n",
       "      <td>6</td>\n",
       "      <td>29</td>\n",
       "      <td>47</td>\n",
       "    </tr>\n",
       "  </tbody>\n",
       "</table>\n",
       "<p>64 rows × 53 columns</p>\n",
       "</div>"
      ],
      "text/plain": [
       "           A         B         C         D   1    2    3    4    5    6  ...  \\\n",
       "0                                                                        ...   \n",
       "0  -2.444100  0.792830  0.787488 -0.336610  22   94   32   54   16   80  ...   \n",
       "5   1.808162  0.938032 -1.251898  0.293780  42  157  123   39   97   39  ...   \n",
       "6  -0.260059  0.213000  1.384661 -1.191147  90   87   72   30    5   86  ...   \n",
       "7   0.367218 -0.555504  0.473211 -1.465292  64   40   55   89   35   32  ...   \n",
       "8   1.434818  1.621827  3.198738  2.570153  68   51  110  155  114   24  ...   \n",
       "..       ...       ...       ...       ...  ..  ...  ...  ...  ...  ...  ...   \n",
       "91  1.229692  2.156184 -0.181928 -0.818753  63    2  113  155   87  120  ...   \n",
       "92  0.956267 -0.049059 -2.241069  0.982508  31   38   44   14   14   83  ...   \n",
       "94  0.449749 -0.004270  0.492370  0.289143  55   35   85   73   60   84  ...   \n",
       "97  0.783265 -1.772420  0.418444 -0.447000  59    0   30   60   22   94  ...   \n",
       "98 -0.634085 -0.284327  0.942500  0.650505  64   10   36   77   58   56  ...   \n",
       "\n",
       "    40   41   42   43   44  45   46   47   48   49  \n",
       "0                                                   \n",
       "0    0   50   74    7   57  95   65   32   22   47  \n",
       "5   64  111  143   79  124  98  168   59   84   34  \n",
       "6   83   81   73   11   14  43   25   46   16   14  \n",
       "7   83   18   34   41    5  97   78   65   66   38  \n",
       "8   73  105   31   33  149  71  109  152  145  109  \n",
       "..  ..  ...  ...  ...  ...  ..  ...  ...  ...  ...  \n",
       "91  28  100  157  114  155  54   69   23  152   28  \n",
       "92   7   36    9   20   38  24   80   71   12   98  \n",
       "94  62   14   41   40   53  40   26   52   68   41  \n",
       "97  73   93   76   20   74  80   34   42   13   68  \n",
       "98  46   17   42   88   35  96   12    6   29   47  \n",
       "\n",
       "[64 rows x 53 columns]"
      ]
     },
     "execution_count": 9,
     "metadata": {},
     "output_type": "execute_result"
    }
   ],
   "source": [
    "ipypandas.disable()\n",
    "\n",
    "df3\n"
   ]
  },
  {
   "cell_type": "code",
   "execution_count": 10,
   "metadata": {},
   "outputs": [
    {
     "data": {
      "application/vnd.jupyter.widget-view+json": {
       "model_id": "8c6f4be58e014623a732b08ed7e76fa3",
       "version_major": 2,
       "version_minor": 0
      },
      "text/plain": [
       "Model:                Decision Tree            Regression            Random  \\\n",
       "Predicted:                   Tu…"
      ]
     },
     "metadata": {},
     "output_type": "display_data"
    }
   ],
   "source": [
    "ipypandas.enable()\n",
    "\n",
    "df4 = pd.DataFrame([[38.0, 2.0, 18.0, 22.0, 21, np.nan], [19, 439, 6, 452, 226, 232]],\n",
    "                   index=pd.Index(['Tumour (Positive)', 'Non-Tumour (Negative)'], name='Actual Label:'),\n",
    "                   columns=pd.MultiIndex.from_product([['Decision Tree', 'Regression', 'Random'], ['Tumour', 'Non-Tumour']], names=['Model:', 'Predicted:']))\n",
    "df4\n"
   ]
  },
  {
   "cell_type": "code",
   "execution_count": 11,
   "metadata": {},
   "outputs": [
    {
     "data": {
      "text/html": [
       "<div>\n",
       "<style scoped>\n",
       "    .dataframe tbody tr th:only-of-type {\n",
       "        vertical-align: middle;\n",
       "    }\n",
       "\n",
       "    .dataframe tbody tr th {\n",
       "        vertical-align: top;\n",
       "    }\n",
       "\n",
       "    .dataframe thead tr th {\n",
       "        text-align: left;\n",
       "    }\n",
       "\n",
       "    .dataframe thead tr:last-of-type th {\n",
       "        text-align: right;\n",
       "    }\n",
       "</style>\n",
       "<table border=\"1\" class=\"dataframe\">\n",
       "  <thead>\n",
       "    <tr>\n",
       "      <th>Model:</th>\n",
       "      <th colspan=\"2\" halign=\"left\">Decision Tree</th>\n",
       "      <th colspan=\"2\" halign=\"left\">Regression</th>\n",
       "      <th colspan=\"2\" halign=\"left\">Random</th>\n",
       "    </tr>\n",
       "    <tr>\n",
       "      <th>Predicted:</th>\n",
       "      <th>Tumour</th>\n",
       "      <th>Non-Tumour</th>\n",
       "      <th>Tumour</th>\n",
       "      <th>Non-Tumour</th>\n",
       "      <th>Tumour</th>\n",
       "      <th>Non-Tumour</th>\n",
       "    </tr>\n",
       "    <tr>\n",
       "      <th>Actual Label:</th>\n",
       "      <th></th>\n",
       "      <th></th>\n",
       "      <th></th>\n",
       "      <th></th>\n",
       "      <th></th>\n",
       "      <th></th>\n",
       "    </tr>\n",
       "  </thead>\n",
       "  <tbody>\n",
       "    <tr>\n",
       "      <th>Tumour (Positive)</th>\n",
       "      <td>38.0</td>\n",
       "      <td>2.0</td>\n",
       "      <td>18.0</td>\n",
       "      <td>22.0</td>\n",
       "      <td>21</td>\n",
       "      <td>NaN</td>\n",
       "    </tr>\n",
       "    <tr>\n",
       "      <th>Non-Tumour (Negative)</th>\n",
       "      <td>19.0</td>\n",
       "      <td>439.0</td>\n",
       "      <td>6.0</td>\n",
       "      <td>452.0</td>\n",
       "      <td>226</td>\n",
       "      <td>232.0</td>\n",
       "    </tr>\n",
       "  </tbody>\n",
       "</table>\n",
       "</div>"
      ],
      "text/plain": [
       "Model:                Decision Tree            Regression            Random  \\\n",
       "Predicted:                   Tumour Non-Tumour     Tumour Non-Tumour Tumour   \n",
       "Actual Label:                                                                 \n",
       "Tumour (Positive)              38.0        2.0       18.0       22.0     21   \n",
       "Non-Tumour (Negative)          19.0      439.0        6.0      452.0    226   \n",
       "\n",
       "Model:                            \n",
       "Predicted:            Non-Tumour  \n",
       "Actual Label:                     \n",
       "Tumour (Positive)            NaN  \n",
       "Non-Tumour (Negative)      232.0  "
      ]
     },
     "execution_count": 11,
     "metadata": {},
     "output_type": "execute_result"
    }
   ],
   "source": [
    "ipypandas.disable()\n",
    "df4\n"
   ]
  },
  {
   "cell_type": "code",
   "execution_count": 12,
   "metadata": {},
   "outputs": [
    {
     "data": {
      "application/vnd.jupyter.widget-view+json": {
       "model_id": "5be8609f7c224919b01d901e9dc659a8",
       "version_major": 2,
       "version_minor": 0
      },
      "text/plain": [
       "           A         B         C         D   1    2    3    4    5    6  ...  \\\n",
       "0                             …"
      ]
     },
     "metadata": {},
     "output_type": "display_data"
    }
   ],
   "source": [
    "df5 = ipypandas.PandasWidget(df=df3)\n",
    "df5\n"
   ]
  },
  {
   "cell_type": "code",
   "execution_count": 13,
   "metadata": {},
   "outputs": [
    {
     "name": "stdout",
     "output_type": "stream",
     "text": [
      "           A         B         C         D   1    2    3    4    5    6  ...  \\\n",
      "0                                                                        ...   \n",
      "0  -2.444100  0.792830  0.787488 -0.336610  22   94   32   54   16   80  ...   \n",
      "5   1.808162  0.938032 -1.251898  0.293780  42  157  123   39   97   39  ...   \n",
      "6  -0.260059  0.213000  1.384661 -1.191147  90   87   72   30    5   86  ...   \n",
      "7   0.367218 -0.555504  0.473211 -1.465292  64   40   55   89   35   32  ...   \n",
      "8   1.434818  1.621827  3.198738  2.570153  68   51  110  155  114   24  ...   \n",
      "..       ...       ...       ...       ...  ..  ...  ...  ...  ...  ...  ...   \n",
      "91  1.229692  2.156184 -0.181928 -0.818753  63    2  113  155   87  120  ...   \n",
      "92  0.956267 -0.049059 -2.241069  0.982508  31   38   44   14   14   83  ...   \n",
      "94  0.449749 -0.004270  0.492370  0.289143  55   35   85   73   60   84  ...   \n",
      "97  0.783265 -1.772420  0.418444 -0.447000  59    0   30   60   22   94  ...   \n",
      "98 -0.634085 -0.284327  0.942500  0.650505  64   10   36   77   58   56  ...   \n",
      "\n",
      "    40   41   42   43   44  45   46   47   48   49  \n",
      "0                                                   \n",
      "0    0   50   74    7   57  95   65   32   22   47  \n",
      "5   64  111  143   79  124  98  168   59   84   34  \n",
      "6   83   81   73   11   14  43   25   46   16   14  \n",
      "7   83   18   34   41    5  97   78   65   66   38  \n",
      "8   73  105   31   33  149  71  109  152  145  109  \n",
      "..  ..  ...  ...  ...  ...  ..  ...  ...  ...  ...  \n",
      "91  28  100  157  114  155  54   69   23  152   28  \n",
      "92   7   36    9   20   38  24   80   71   12   98  \n",
      "94  62   14   41   40   53  40   26   52   68   41  \n",
      "97  73   93   76   20   74  80   34   42   13   68  \n",
      "98  46   17   42   88   35  96   12    6   29   47  \n",
      "\n",
      "[64 rows x 53 columns]\n"
     ]
    }
   ],
   "source": [
    "print(df5)\n"
   ]
  }
 ],
 "metadata": {
  "kernelspec": {
   "display_name": "Python 3 (ipykernel)",
   "language": "python",
   "name": "python3"
  },
  "language_info": {
   "codemirror_mode": {
    "name": "ipython",
    "version": 3
   },
   "file_extension": ".py",
   "mimetype": "text/x-python",
   "name": "python",
   "nbconvert_exporter": "python",
   "pygments_lexer": "ipython3",
   "version": "3.9.10"
  }
 },
 "nbformat": 4,
 "nbformat_minor": 4
}
