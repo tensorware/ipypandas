{
 "cells": [
  {
   "cell_type": "markdown",
   "metadata": {},
   "source": [
    "# Usage"
   ]
  },
  {
   "cell_type": "markdown",
   "metadata": {},
   "source": [
    "This section demonstrates the most basic usage via `import ipypandas`.\n"
   ]
  },
  {
   "cell_type": "markdown",
   "metadata": {},
   "source": [
    "## Imports"
   ]
  },
  {
   "cell_type": "markdown",
   "metadata": {},
   "source": [
    "The execution of `import ipypandas` enables ipypandas globally."
   ]
  },
  {
   "cell_type": "code",
   "execution_count": null,
   "metadata": {},
   "outputs": [],
   "source": [
    "import random\n",
    "import string\n",
    "\n",
    "import numpy as np\n",
    "import pandas as pd\n",
    "\n",
    "import ipypandas # enables ipypandas output \n"
   ]
  },
  {
   "cell_type": "markdown",
   "metadata": {},
   "source": [
    "### Options"
   ]
  },
  {
   "cell_type": "markdown",
   "metadata": {},
   "source": [
    "Pandas options that will affect the ipypandas rendering."
   ]
  },
  {
   "cell_type": "code",
   "execution_count": null,
   "metadata": {},
   "outputs": [],
   "source": [
    "# The numbers of rows to show in a truncated view (when max_rows is exceeded).\n",
    "# Ignored when max_rows is set to None or 0. When set to None, follows the value of max_rows.\n",
    "pd.set_option('display.min_rows', 10)  # [default: 10]\n",
    "\n",
    "# If max_rows is exceeded, switch to truncate view.\n",
    "# Depending on large_repr, objects are either centrally truncated or printed as a summary view.\n",
    "pd.set_option('display.max_rows', 60)  # [default: 60]\n",
    "\n",
    "# The maximum width in characters of a column in the repr of a pandas data structure.\n",
    "# When the column overflows, a “…” placeholder is embedded in the output.\n",
    "pd.set_option('display.max_colwidth', 50)  # [default: 50]\n",
    "\n",
    "# Floating point output precision in terms of number of places after the decimal.\n",
    "# For regular formatting as well as scientific notation.\n",
    "pd.set_option('display.precision', 6)  # [default: 6]\n"
   ]
  },
  {
   "cell_type": "markdown",
   "metadata": {},
   "source": [
    "### Functions"
   ]
  },
  {
   "cell_type": "markdown",
   "metadata": {},
   "source": [
    "Some helper functions used for demo data generation."
   ]
  },
  {
   "cell_type": "code",
   "execution_count": null,
   "metadata": {},
   "outputs": [],
   "source": [
    "def rand_int(low, hi):\n",
    "    while True:\n",
    "        yield random.randint(low, hi)\n",
    "\n",
    "def rand_words(size):\n",
    "    chars = ''.join(random.choice(string.ascii_letters) for x in range(size))\n",
    "    for n in rand_int(3, 10):\n",
    "        if n > len(chars):\n",
    "            break\n",
    "        yield chars[:n]\n",
    "        chars = chars[n::]\n",
    "\n",
    "def rand_sentences(length, count):\n",
    "    return [' '.join(rand_words(random.randint(length, int(length * 5)))) for x in range(count)]\n"
   ]
  },
  {
   "cell_type": "markdown",
   "metadata": {
    "tags": []
   },
   "source": [
    "## Demos"
   ]
  },
  {
   "cell_type": "markdown",
   "metadata": {},
   "source": [
    "Example data used for demo purposes."
   ]
  },
  {
   "cell_type": "code",
   "execution_count": null,
   "metadata": {},
   "outputs": [],
   "source": [
    "pd.DataFrame()\n"
   ]
  },
  {
   "cell_type": "code",
   "execution_count": null,
   "metadata": {},
   "outputs": [],
   "source": [
    "pd.DataFrame(columns=['One', 'Two'])\n"
   ]
  },
  {
   "cell_type": "code",
   "execution_count": null,
   "metadata": {
    "tags": []
   },
   "outputs": [],
   "source": [
    "n = 100\n",
    "\n",
    "df1 = pd.DataFrame(data={'One': rand_sentences(100, n), 'Two': rand_sentences(200, n), 'Three': rand_sentences(20, n), 'Four': rand_sentences(10, n), 'Five': rand_sentences(5, n)})\n",
    "df1\n"
   ]
  },
  {
   "cell_type": "markdown",
   "metadata": {},
   "source": [
    "<font color=\"red\">\n",
    "    <ul>\n",
    "        <li>Reorder plus sort produces random formats</li>\n",
    "    </ul>\n",
    "</font>"
   ]
  },
  {
   "cell_type": "code",
   "execution_count": null,
   "metadata": {},
   "outputs": [],
   "source": [
    "n = 1000\n",
    "\n",
    "df2 = pd.DataFrame(np.random.randint(0, 1000, (n, 4)), columns=['A', 'B', 'C', 'D'])\n",
    "df2['A'] = df2['A'].apply(lambda x: f'A{str(x)}')\n",
    "df2['B'] = df2['B'].apply(lambda x: f'B{str(x)}')\n",
    "df2['D'] = df2['D'].apply(lambda x: f'D{str(x)}')\n",
    "df2 = df2.set_index('A')\n",
    "\n",
    "df2_style = df2.style.format({'C': lambda x: f'-- {x} --'}).set_caption('Formatted Table')\n",
    "df2_style\n"
   ]
  },
  {
   "cell_type": "markdown",
   "metadata": {},
   "source": [
    "<font color=\"red\">\n",
    "    <ul>\n",
    "        <li>Slow for large n</li>\n",
    "    </ul>\n",
    "</font>"
   ]
  },
  {
   "cell_type": "code",
   "execution_count": null,
   "metadata": {
    "scrolled": true
   },
   "outputs": [],
   "source": [
    "n = 100\n",
    "\n",
    "df3 = pd.DataFrame(np.random.randint(0, 100, size=(n, 50)))\n",
    "df3 = df3.set_index([0, 1, 2])\n",
    "\n",
    "df3_style = df3.style.relabel_index([f'COL {str(x)}' for x in df3.columns], axis=1).set_caption('Relabeled Table')\n",
    "df3_style\n"
   ]
  },
  {
   "cell_type": "code",
   "execution_count": null,
   "metadata": {},
   "outputs": [],
   "source": [
    "data = [[38.0, 2.0, 18.0, 22.0, 21, np.nan], [19, 439, 6, 452, 226, 232]]\n",
    "index = pd.Index(['Tumour (Positive)', 'Non-Tumour (Negative)'], name='Actual Label:')\n",
    "columns = pd.MultiIndex.from_product([['Decision Tree', 'Regression', 'Random'], ['Tumour', 'Non-Tumour']], names=['Model:', 'Predicted:'])\n",
    "\n",
    "df4 = pd.DataFrame(data, index=index, columns=columns)\n",
    "df4\n"
   ]
  }
 ],
 "metadata": {
  "kernelspec": {
   "display_name": "Python 3 (ipykernel)",
   "language": "python",
   "name": "python3"
  },
  "language_info": {
   "codemirror_mode": {
    "name": "ipython",
    "version": 3
   },
   "file_extension": ".py",
   "mimetype": "text/x-python",
   "name": "python",
   "nbconvert_exporter": "python",
   "pygments_lexer": "ipython3",
   "version": "3.10.13"
  }
 },
 "nbformat": 4,
 "nbformat_minor": 4
}
