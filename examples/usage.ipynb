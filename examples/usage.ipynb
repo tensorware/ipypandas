{
 "cells": [
  {
   "cell_type": "markdown",
   "metadata": {},
   "source": [
    "# Usage"
   ]
  },
  {
   "cell_type": "markdown",
   "metadata": {},
   "source": [
    "## Imports"
   ]
  },
  {
   "cell_type": "markdown",
   "metadata": {},
   "source": [
    "The execution of `import ipypandas` enables ipypandas globally."
   ]
  },
  {
   "cell_type": "code",
   "execution_count": 1,
   "metadata": {},
   "outputs": [],
   "source": [
    "import random\n",
    "import string\n",
    "\n",
    "import numpy as np\n",
    "import pandas as pd\n",
    "\n",
    "# enables ipypandas output \n",
    "import ipypandas\n"
   ]
  },
  {
   "cell_type": "markdown",
   "metadata": {},
   "source": [
    "## Options"
   ]
  },
  {
   "cell_type": "markdown",
   "metadata": {},
   "source": [
    "Pandas options that will affect the ipypandas rendering."
   ]
  },
  {
   "cell_type": "code",
   "execution_count": 2,
   "metadata": {},
   "outputs": [],
   "source": [
    "# The numbers of rows to show in a truncated view (when max_rows is exceeded).\n",
    "# Ignored when max_rows is set to None or 0. When set to None, follows the value of max_rows.\n",
    "pd.set_option('display.min_rows', 10)  # [default: 10]\n",
    "\n",
    "# If max_rows is exceeded, switch to truncate view.\n",
    "# Depending on large_repr, objects are either centrally truncated or printed as a summary view.\n",
    "pd.set_option('display.max_rows', 60)  # [default: 60]\n",
    "\n",
    "# The maximum width in characters of a column in the repr of a pandas data structure.\n",
    "# When the column overflows, a “…” placeholder is embedded in the output.\n",
    "pd.set_option('display.max_colwidth', 50)  # [default: 50]\n",
    "\n",
    "# Floating point output precision in terms of number of places after the decimal.\n",
    "# For regular formatting as well as scientific notation.\n",
    "pd.set_option('display.precision', 6)  # [default: 6]\n"
   ]
  },
  {
   "cell_type": "markdown",
   "metadata": {},
   "source": [
    "## Functions"
   ]
  },
  {
   "cell_type": "markdown",
   "metadata": {},
   "source": [
    "Some helper functions used for demo data generation."
   ]
  },
  {
   "cell_type": "code",
   "execution_count": 3,
   "metadata": {},
   "outputs": [],
   "source": [
    "def rand_int(low, hi):\n",
    "    while True:\n",
    "        yield random.randint(low, hi)\n",
    "\n",
    "def rand_words(size):\n",
    "    chars = ''.join(random.choice(string.ascii_letters) for x in range(size))\n",
    "    for n in rand_int(3, 10):\n",
    "        if n > len(chars):\n",
    "            break\n",
    "        yield chars[:n]\n",
    "        chars = chars[n::]\n",
    "\n",
    "def rand_sentences(length, count):\n",
    "    return [' '.join(rand_words(random.randint(length, int(length * 5)))) for x in range(count)]\n"
   ]
  },
  {
   "cell_type": "markdown",
   "metadata": {
    "tags": []
   },
   "source": [
    "## Demos"
   ]
  },
  {
   "cell_type": "markdown",
   "metadata": {},
   "source": [
    "Example data used for demo purposes."
   ]
  },
  {
   "cell_type": "code",
   "execution_count": 4,
   "metadata": {},
   "outputs": [
    {
     "data": {
      "application/vnd.jupyter.widget-view+json": {
       "model_id": "c09c22ff2a7041e6961418998c78d50c",
       "version_major": 2,
       "version_minor": 0
      },
      "text/plain": [
       "<class 'ipypandas.widget.PandasWidget'>, 0 rows × 0 columns"
      ]
     },
     "metadata": {},
     "output_type": "display_data"
    }
   ],
   "source": [
    "ipypandas.enable()\n",
    "\n",
    "pd.DataFrame()\n"
   ]
  },
  {
   "cell_type": "code",
   "execution_count": 5,
   "metadata": {},
   "outputs": [
    {
     "data": {
      "application/vnd.jupyter.widget-view+json": {
       "model_id": "092154e9368c450b871cf6de4d1b38c1",
       "version_major": 2,
       "version_minor": 0
      },
      "text/plain": [
       "<class 'ipypandas.widget.PandasWidget'>, 0 rows × 2 columns"
      ]
     },
     "metadata": {},
     "output_type": "display_data"
    }
   ],
   "source": [
    "ipypandas.enable()\n",
    "\n",
    "pd.DataFrame(columns=['One', 'Two'])\n"
   ]
  },
  {
   "cell_type": "code",
   "execution_count": 6,
   "metadata": {
    "tags": []
   },
   "outputs": [
    {
     "data": {
      "application/vnd.jupyter.widget-view+json": {
       "model_id": "4eeb7912a57c45fa8812884e7df75718",
       "version_major": 2,
       "version_minor": 0
      },
      "text/plain": [
       "<class 'ipypandas.widget.PandasWidget'>, 10 rows × 5 columns"
      ]
     },
     "metadata": {},
     "output_type": "display_data"
    }
   ],
   "source": [
    "ipypandas.enable()\n",
    "\n",
    "n = 10\n",
    "df0 = pd.DataFrame(data={'One': rand_sentences(100, n), 'Two': rand_sentences(200, n), 'Three': rand_sentences(20, n), 'Four': rand_sentences(10, n), 'Five': rand_sentences(5, n)})\n",
    "df0\n"
   ]
  },
  {
   "cell_type": "code",
   "execution_count": 7,
   "metadata": {},
   "outputs": [
    {
     "data": {
      "application/vnd.jupyter.widget-view+json": {
       "model_id": "f2bc3d3b312d4efb989b9910dbec1614",
       "version_major": 2,
       "version_minor": 0
      },
      "text/plain": [
       "<class 'ipypandas.widget.PandasWidget'>, 100 rows × 4 columns"
      ]
     },
     "metadata": {},
     "output_type": "display_data"
    }
   ],
   "source": [
    "ipypandas.enable()\n",
    "\n",
    "n = 100\n",
    "df1 = pd.DataFrame(np.random.randint(0, 1000, (n, 4)), columns=['A', 'B', 'C', 'D'])\n",
    "df1['A'] = 'A' + df1['A'].apply(str)\n",
    "df1['B'] = 'B' + df1['B'].apply(str)\n",
    "df1\n"
   ]
  },
  {
   "cell_type": "markdown",
   "metadata": {},
   "source": [
    "<font color=\"red\">\n",
    "    <ul>\n",
    "        <li>Style format is ignored.</li>\n",
    "    </ul>\n",
    "</font>"
   ]
  },
  {
   "cell_type": "code",
   "execution_count": 8,
   "metadata": {},
   "outputs": [
    {
     "data": {
      "application/vnd.jupyter.widget-view+json": {
       "model_id": "60da0876a0254c7db42e4f2402a07f23",
       "version_major": 2,
       "version_minor": 0
      },
      "text/plain": [
       "<class 'ipypandas.widget.PandasWidget'>, 100 rows × 3 columns"
      ]
     },
     "metadata": {},
     "output_type": "display_data"
    }
   ],
   "source": [
    "ipypandas.enable()\n",
    "\n",
    "df2 = df1.set_index('A')\n",
    "df2.style.format({'C': lambda x: f'-- {x:.2f} --'}).set_caption('Styled table')\n"
   ]
  },
  {
   "cell_type": "code",
   "execution_count": 9,
   "metadata": {},
   "outputs": [
    {
     "data": {
      "application/vnd.jupyter.widget-view+json": {
       "model_id": "528e73f91d564d019875a7027a5a330f",
       "version_major": 2,
       "version_minor": 0
      },
      "text/plain": [
       "<class 'ipypandas.widget.PandasWidget'>, 65 rows × 51 columns"
      ]
     },
     "metadata": {},
     "output_type": "display_data"
    }
   ],
   "source": [
    "ipypandas.enable()\n",
    "\n",
    "groups = np.random.randint(0, df1.shape[0], size=(df1.shape[0], 50))\n",
    "df3 = pd.concat([df1, pd.DataFrame(groups)], axis=1).groupby(0).sum()\n",
    "df3 = df3.set_index(['C', 'D'])\n",
    "df3\n"
   ]
  },
  {
   "cell_type": "code",
   "execution_count": 10,
   "metadata": {},
   "outputs": [
    {
     "data": {
      "application/vnd.jupyter.widget-view+json": {
       "model_id": "8ff1511b15364e2395e85aee12f12044",
       "version_major": 2,
       "version_minor": 0
      },
      "text/plain": [
       "<class 'ipypandas.widget.PandasWidget'>, 2 rows × 6 columns"
      ]
     },
     "metadata": {},
     "output_type": "display_data"
    }
   ],
   "source": [
    "ipypandas.enable()\n",
    "\n",
    "index = pd.Index(['Tumour (Positive)', 'Non-Tumour (Negative)'], name='Actual Label:')\n",
    "columns = pd.MultiIndex.from_product([['Decision Tree', 'Regression', 'Random'], ['Tumour', 'Non-Tumour']], names=['Model:', 'Predicted:'])\n",
    "df4 = pd.DataFrame([[38.0, 2.0, 18.0, 22.0, 21, np.nan], [19, 439, 6, 452, 226, 232]], index=index, columns=columns)\n",
    "df4\n"
   ]
  }
 ],
 "metadata": {
  "kernelspec": {
   "display_name": "Python 3 (ipykernel)",
   "language": "python",
   "name": "python3"
  },
  "language_info": {
   "codemirror_mode": {
    "name": "ipython",
    "version": 3
   },
   "file_extension": ".py",
   "mimetype": "text/x-python",
   "name": "python",
   "nbconvert_exporter": "python",
   "pygments_lexer": "ipython3",
   "version": "3.10.13"
  }
 },
 "nbformat": 4,
 "nbformat_minor": 4
}
