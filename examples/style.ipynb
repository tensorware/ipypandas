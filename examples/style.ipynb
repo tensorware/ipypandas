{
 "cells": [
  {
   "cell_type": "markdown",
   "metadata": {},
   "source": [
    "# Style\n"
   ]
  },
  {
   "cell_type": "markdown",
   "metadata": {},
   "source": [
    "This section demonstrates visualization of tabular data using the pandas `df.style` methods.  \n",
    "This notebook is mainly based on the official pandas [styling user guide](https://pandas.pydata.org/pandas-docs/stable/user_guide/style.html) and demonstrates the interactive rendering capabilities.\n"
   ]
  },
  {
   "cell_type": "markdown",
   "metadata": {},
   "source": [
    "## Imports\n"
   ]
  },
  {
   "cell_type": "markdown",
   "metadata": {},
   "source": [
    "The execution of `import ipypandas` enables ipypandas globally.\n"
   ]
  },
  {
   "cell_type": "code",
   "execution_count": null,
   "metadata": {},
   "outputs": [],
   "source": [
    "import numpy as np\n",
    "import pandas as pd"
   ]
  },
  {
   "cell_type": "code",
   "execution_count": null,
   "metadata": {},
   "outputs": [],
   "source": [
    "# enables ipypandas output\n",
    "import ipypandas"
   ]
  },
  {
   "cell_type": "markdown",
   "metadata": {},
   "source": [
    "## Styler\n"
   ]
  },
  {
   "cell_type": "markdown",
   "metadata": {},
   "source": [
    "When globally enabled ipypandas will attach custom formatters (using [ipywidgets](https://ipywidgets.readthedocs.io/)) to any pandas `DataFrame` and `Styler` object.\n"
   ]
  },
  {
   "cell_type": "markdown",
   "metadata": {},
   "source": [
    "### Formatting\n"
   ]
  },
  {
   "cell_type": "markdown",
   "metadata": {},
   "source": [
    "The styler distinguishes the _display_ value from the _actual_ value, in both data values and index or columns headers. To control the display value we can use the `df.style.*` methods.\n"
   ]
  },
  {
   "cell_type": "code",
   "execution_count": null,
   "metadata": {},
   "outputs": [],
   "source": [
    "df = pd.DataFrame({\n",
    "     'strings': ['Adam', 'Mike'],\n",
    "     'floats': [112.863602, 207.238541],\n",
    "     'ints': [1, 3]\n",
    "})\n",
    "\n",
    "df.style \\\n",
    "  .format_index(str.upper, axis=1) \\\n",
    "  .format(precision=3, thousands='.', decimal=',') \\\n",
    "  .relabel_index(['row 1', 'row 2'], axis=0)"
   ]
  },
  {
   "cell_type": "markdown",
   "metadata": {},
   "source": [
    "Specific rows or columns can be hidden from rendering by calling the `df.style.hide` method and passing in a row/column label, a list-like or a slice of row/column labels for the `subset` argument.\n"
   ]
  },
  {
   "cell_type": "code",
   "execution_count": null,
   "metadata": {
    "scrolled": true
   },
   "outputs": [],
   "source": [
    "df = pd.DataFrame(np.random.randn(5, 5))\n",
    "\n",
    "df.style \\\n",
    "  .hide(subset=[0, 2, 4], axis=0) \\\n",
    "  .hide(subset=[0, 2, 4], axis=1)"
   ]
  },
  {
   "cell_type": "markdown",
   "metadata": {},
   "source": [
    "Using the styler to manipulate the display is a useful feature because maintaining the indexing and data values for other purposes gives greater control.  \n",
    "Here is a more comprehensive example of using the formatting functions whilst still relying on the underlying data for indexing and calculations.\n"
   ]
  },
  {
   "cell_type": "code",
   "execution_count": null,
   "metadata": {},
   "outputs": [],
   "source": [
    "df = pd.DataFrame(\n",
    "     np.random.rand(7, 2) * 5,\n",
    "     columns=['Tokyo', 'Beijing'],\n",
    "     index=pd.date_range(start='2024-01-01', periods=7)\n",
    ")\n",
    "\n",
    "def format_index(v):\n",
    "    return v.strftime('%A')\n",
    "\n",
    "def format_values(v):\n",
    "    if v < 1.75: return 'Dry'\n",
    "    elif v < 2.75: return 'Rain'\n",
    "    return 'Heavy Rain'\n",
    "\n",
    "def format_conditions(s):\n",
    "    s.format(format_values)\n",
    "    s.format_index(format_index)\n",
    "    s.background_gradient(axis=None, vmin=1, vmax=5, cmap='YlGnBu')\n",
    "    s.set_caption('Weather Conditions')\n",
    "    return s\n",
    "\n",
    "df.style \\\n",
    "  .pipe(format_conditions)"
   ]
  },
  {
   "cell_type": "markdown",
   "metadata": {},
   "source": [
    "### Functions\n"
   ]
  },
  {
   "cell_type": "markdown",
   "metadata": {},
   "source": [
    "We can apply custom styling functions to add custom CSS styles.\n",
    "\n",
    "For example we can build a function that colors text if it is negative and chain this with a function that partially fades cells of negligible value. Since this looks at each element in turn we use `df.style.map`.  \n",
    "We can also build a function that highlights the maximum value in a column. In this case we use `df.style.apply`.\n"
   ]
  },
  {
   "cell_type": "code",
   "execution_count": null,
   "metadata": {},
   "outputs": [],
   "source": [
    "df = pd.DataFrame(np.random.randn(10, 4), columns=['A', 'B', 'C', 'D'])\n",
    "\n",
    "def style_negative(v, props):\n",
    "    return props if v < 0 else None\n",
    "\n",
    "def style_fading(v, props):\n",
    "    return props if (v < 0.3) and (v > -0.3) else None\n",
    "\n",
    "def style_maximum(v, props):\n",
    "    return np.where(v == np.nanmax(v.values), props, '')\n",
    "\n",
    "df.style \\\n",
    "  .map(style_negative, props='color:red;') \\\n",
    "  .map(style_fading, props='opacity:20%;') \\\n",
    "  .apply(style_maximum, props='color:white; background-color:green;', axis=0)"
   ]
  },
  {
   "cell_type": "markdown",
   "metadata": {},
   "source": [
    "Similar we can style headers element-wise by using `df.style.map_index` or level-wise by using `df.style.applyindex`.\n"
   ]
  },
  {
   "cell_type": "code",
   "execution_count": null,
   "metadata": {},
   "outputs": [],
   "source": [
    "df = pd.DataFrame(\n",
    "     np.random.randn(4, 4),\n",
    "     pd.MultiIndex.from_product([['A', 'B'], ['r1', 'r2']]),\n",
    "     columns=['c1', 'c2', 'c3', 'c4']\n",
    ")\n",
    "\n",
    "def style_index(v):\n",
    "    return 'color:red;' if v in ['A', 'B'] else 'color:blue;'\n",
    "\n",
    "def style_columns(v):\n",
    "    return np.where(v.isin(['c1', 'c2']), 'color:green;', 'color:purple;')\n",
    "\n",
    "df.style \\\n",
    "  .map_index(style_index, axis=0) \\\n",
    "  .apply_index(style_columns, axis=1)"
   ]
  },
  {
   "cell_type": "markdown",
   "metadata": {},
   "source": [
    "### Builtin\n"
   ]
  },
  {
   "cell_type": "markdown",
   "metadata": {},
   "source": [
    "Some styling functions are common enough that they are built-in into the styler, so you don’t have to write them yourself. The current list of such functions is:\n",
    "\n",
    "- `.highlight_null`: for use with identifying missing data.\n",
    "- `.highlight_min`, `.highlight_max`: for use with identifying extremeties in data.\n",
    "- `.highlight_between`, `.highlight_quantile`: for use with identifying classes within data.\n",
    "- `.text_gradient`, `.background_gradient`: a flexible method for highlighting text and cells based on their or other values.\n",
    "- `.bar`: to display mini-charts within cell backgrounds.\n"
   ]
  },
  {
   "cell_type": "code",
   "execution_count": null,
   "metadata": {},
   "outputs": [],
   "source": [
    "df = pd.DataFrame(np.random.randn(4, 4), columns=['A', 'B', 'C', 'D'])"
   ]
  },
  {
   "cell_type": "markdown",
   "metadata": {},
   "source": [
    "#### Highlight Null\n"
   ]
  },
  {
   "cell_type": "code",
   "execution_count": null,
   "metadata": {},
   "outputs": [],
   "source": [
    "df.iloc[0,2] = np.nan\n",
    "df.iloc[2,3] = np.nan\n",
    "df.style.highlight_null(color='orange')"
   ]
  },
  {
   "cell_type": "markdown",
   "metadata": {},
   "source": [
    "#### Highlight Intervals\n"
   ]
  },
  {
   "cell_type": "code",
   "execution_count": null,
   "metadata": {},
   "outputs": [],
   "source": [
    "df.style.highlight_min(axis=1, props='color:white; font-weight:bold; background-color:red;')"
   ]
  },
  {
   "cell_type": "code",
   "execution_count": null,
   "metadata": {},
   "outputs": [],
   "source": [
    "df.style.highlight_max(axis=1, props='color:white; font-weight:bold; background-color:green;')"
   ]
  },
  {
   "cell_type": "code",
   "execution_count": null,
   "metadata": {},
   "outputs": [],
   "source": [
    "df.style.highlight_between(left=0.5, right=1.5, axis=1, props='color:white; background-color:purple;')"
   ]
  },
  {
   "cell_type": "code",
   "execution_count": null,
   "metadata": {},
   "outputs": [],
   "source": [
    "df.style.highlight_quantile(q_left=0.85, axis=None, color='blue')"
   ]
  },
  {
   "cell_type": "markdown",
   "metadata": {},
   "source": [
    "#### Gradients\n"
   ]
  },
  {
   "cell_type": "code",
   "execution_count": null,
   "metadata": {},
   "outputs": [],
   "source": [
    "df.style.text_gradient(cmap='Oranges')"
   ]
  },
  {
   "cell_type": "code",
   "execution_count": null,
   "metadata": {},
   "outputs": [],
   "source": [
    "df.style.background_gradient(cmap='Purples')"
   ]
  },
  {
   "cell_type": "markdown",
   "metadata": {},
   "source": [
    "#### Charts\n"
   ]
  },
  {
   "cell_type": "code",
   "execution_count": null,
   "metadata": {},
   "outputs": [],
   "source": [
    "df.style.bar(subset=['A', 'B'], color='#D65F5F')"
   ]
  },
  {
   "cell_type": "markdown",
   "metadata": {},
   "source": [
    "## Limitations\n"
   ]
  },
  {
   "cell_type": "markdown",
   "metadata": {},
   "source": [
    "- Certain styling functions may not work with non-unique indices.\n",
    "- Tooltips do not work as `cell_ids` are disabled by ipypandas.\n"
   ]
  }
 ],
 "metadata": {
  "kernelspec": {
   "display_name": "Python 3 (ipykernel)",
   "language": "python",
   "name": "python3"
  },
  "language_info": {
   "codemirror_mode": {
    "name": "ipython",
    "version": 3
   },
   "file_extension": ".py",
   "mimetype": "text/x-python",
   "name": "python",
   "nbconvert_exporter": "python",
   "pygments_lexer": "ipython3",
   "version": "3.12.1"
  }
 },
 "nbformat": 4,
 "nbformat_minor": 4
}
